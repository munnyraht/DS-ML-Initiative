{
 "cells": [
  {
   "cell_type": "code",
   "execution_count": 81,
   "metadata": {},
   "outputs": [],
   "source": [
    "import pandas as pd\n",
    "import matplotlib.pyplot as plt \n",
    "%matplotlib inline\n",
    "import seaborn as sns"
   ]
  },
  {
   "cell_type": "code",
   "execution_count": 19,
   "metadata": {},
   "outputs": [],
   "source": [
    "dataset = pd.read_csv('WomenRepresentaionInCityProperty-SanFrancisco.csv')"
   ]
  },
  {
   "cell_type": "code",
   "execution_count": 20,
   "metadata": {},
   "outputs": [
    {
     "data": {
      "text/html": [
       "<div>\n",
       "<style scoped>\n",
       "    .dataframe tbody tr th:only-of-type {\n",
       "        vertical-align: middle;\n",
       "    }\n",
       "\n",
       "    .dataframe tbody tr th {\n",
       "        vertical-align: top;\n",
       "    }\n",
       "\n",
       "    .dataframe thead th {\n",
       "        text-align: right;\n",
       "    }\n",
       "</style>\n",
       "<table border=\"1\" class=\"dataframe\">\n",
       "  <thead>\n",
       "    <tr style=\"text-align: right;\">\n",
       "      <th></th>\n",
       "      <th>Department/Source</th>\n",
       "      <th>Name</th>\n",
       "      <th>Person</th>\n",
       "      <th>Gender</th>\n",
       "      <th>Reference</th>\n",
       "      <th>Comments</th>\n",
       "      <th>Current Police Districts</th>\n",
       "      <th>Current Supervisor Districts</th>\n",
       "      <th>Analysis Neighborhoods</th>\n",
       "      <th>Neighborhoods</th>\n",
       "      <th>SF Find Neighborhoods</th>\n",
       "    </tr>\n",
       "  </thead>\n",
       "  <tbody>\n",
       "    <tr>\n",
       "      <th>0</th>\n",
       "      <td>Administrator</td>\n",
       "      <td>MOSCONE CENTER (South)</td>\n",
       "      <td>George R. Moscone</td>\n",
       "      <td>M</td>\n",
       "      <td>City Administrator</td>\n",
       "      <td>NaN</td>\n",
       "      <td>4</td>\n",
       "      <td>10</td>\n",
       "      <td>36</td>\n",
       "      <td>21</td>\n",
       "      <td>21</td>\n",
       "    </tr>\n",
       "    <tr>\n",
       "      <th>1</th>\n",
       "      <td>Administrator</td>\n",
       "      <td>Maxine Hall Health Center</td>\n",
       "      <td>NaN</td>\n",
       "      <td>F</td>\n",
       "      <td>Public Health</td>\n",
       "      <td>NaN</td>\n",
       "      <td>4</td>\n",
       "      <td>10</td>\n",
       "      <td>36</td>\n",
       "      <td>21</td>\n",
       "      <td>21</td>\n",
       "    </tr>\n",
       "    <tr>\n",
       "      <th>2</th>\n",
       "      <td>REC AND PARKS</td>\n",
       "      <td>Moscone Recreation Center</td>\n",
       "      <td>George R. Moscone</td>\n",
       "      <td>M</td>\n",
       "      <td>NaN</td>\n",
       "      <td>park</td>\n",
       "      <td>4</td>\n",
       "      <td>10</td>\n",
       "      <td>36</td>\n",
       "      <td>21</td>\n",
       "      <td>21</td>\n",
       "    </tr>\n",
       "    <tr>\n",
       "      <th>3</th>\n",
       "      <td>REC AND PARKS</td>\n",
       "      <td>Helen Crocker Russell Library of Horticulture,...</td>\n",
       "      <td>Helen Crocker</td>\n",
       "      <td>F</td>\n",
       "      <td>NaN</td>\n",
       "      <td>facilities and other amenities</td>\n",
       "      <td>4</td>\n",
       "      <td>10</td>\n",
       "      <td>36</td>\n",
       "      <td>21</td>\n",
       "      <td>21</td>\n",
       "    </tr>\n",
       "    <tr>\n",
       "      <th>4</th>\n",
       "      <td>REC AND PARKS</td>\n",
       "      <td>Sharon Building,  Golden Gate Park</td>\n",
       "      <td>Sharon Building</td>\n",
       "      <td>M</td>\n",
       "      <td>NaN</td>\n",
       "      <td>facilities and other amenities</td>\n",
       "      <td>4</td>\n",
       "      <td>10</td>\n",
       "      <td>36</td>\n",
       "      <td>21</td>\n",
       "      <td>21</td>\n",
       "    </tr>\n",
       "  </tbody>\n",
       "</table>\n",
       "</div>"
      ],
      "text/plain": [
       "  Department/Source                                               Name  \\\n",
       "0     Administrator                             MOSCONE CENTER (South)   \n",
       "1     Administrator                          Maxine Hall Health Center   \n",
       "2     REC AND PARKS                          Moscone Recreation Center   \n",
       "3     REC AND PARKS  Helen Crocker Russell Library of Horticulture,...   \n",
       "4     REC AND PARKS                 Sharon Building,  Golden Gate Park   \n",
       "\n",
       "              Person Gender           Reference  \\\n",
       "0  George R. Moscone      M  City Administrator   \n",
       "1                NaN      F       Public Health   \n",
       "2  George R. Moscone      M                 NaN   \n",
       "3      Helen Crocker      F                 NaN   \n",
       "4    Sharon Building      M                 NaN   \n",
       "\n",
       "                         Comments  Current Police Districts  \\\n",
       "0                             NaN                         4   \n",
       "1                             NaN                         4   \n",
       "2                            park                         4   \n",
       "3  facilities and other amenities                         4   \n",
       "4  facilities and other amenities                         4   \n",
       "\n",
       "   Current Supervisor Districts  Analysis Neighborhoods  Neighborhoods  \\\n",
       "0                            10                      36             21   \n",
       "1                            10                      36             21   \n",
       "2                            10                      36             21   \n",
       "3                            10                      36             21   \n",
       "4                            10                      36             21   \n",
       "\n",
       "   SF Find Neighborhoods  \n",
       "0                     21  \n",
       "1                     21  \n",
       "2                     21  \n",
       "3                     21  \n",
       "4                     21  "
      ]
     },
     "execution_count": 20,
     "metadata": {},
     "output_type": "execute_result"
    }
   ],
   "source": [
    "dataset.head()"
   ]
  },
  {
   "cell_type": "code",
   "execution_count": 65,
   "metadata": {},
   "outputs": [
    {
     "data": {
      "text/html": [
       "<div>\n",
       "<style scoped>\n",
       "    .dataframe tbody tr th:only-of-type {\n",
       "        vertical-align: middle;\n",
       "    }\n",
       "\n",
       "    .dataframe tbody tr th {\n",
       "        vertical-align: top;\n",
       "    }\n",
       "\n",
       "    .dataframe thead th {\n",
       "        text-align: right;\n",
       "    }\n",
       "</style>\n",
       "<table border=\"1\" class=\"dataframe\">\n",
       "  <thead>\n",
       "    <tr style=\"text-align: right;\">\n",
       "      <th></th>\n",
       "      <th>Department/Source</th>\n",
       "      <th>Name</th>\n",
       "      <th>Person</th>\n",
       "      <th>Gender</th>\n",
       "      <th>Reference</th>\n",
       "      <th>Comments</th>\n",
       "      <th>Current Police Districts</th>\n",
       "      <th>Current Supervisor Districts</th>\n",
       "      <th>Analysis Neighborhoods</th>\n",
       "      <th>Neighborhoods</th>\n",
       "      <th>SF Find Neighborhoods</th>\n",
       "    </tr>\n",
       "  </thead>\n",
       "  <tbody>\n",
       "    <tr>\n",
       "      <th>77</th>\n",
       "      <td>Administrator</td>\n",
       "      <td>MOSCONE CENTER Parking Garage</td>\n",
       "      <td>George R. Moscone</td>\n",
       "      <td>M</td>\n",
       "      <td>Municipal Transportation Agency</td>\n",
       "      <td>NaN</td>\n",
       "      <td>4</td>\n",
       "      <td>10</td>\n",
       "      <td>36</td>\n",
       "      <td>21</td>\n",
       "      <td>21</td>\n",
       "    </tr>\n",
       "    <tr>\n",
       "      <th>78</th>\n",
       "      <td>RED</td>\n",
       "      <td>City Hall, 2nd Floor, Buck Delventhal Rotunda</td>\n",
       "      <td>Buck Delventhal</td>\n",
       "      <td>M</td>\n",
       "      <td>Longtime Deputy City Attorney</td>\n",
       "      <td>NaN</td>\n",
       "      <td>4</td>\n",
       "      <td>10</td>\n",
       "      <td>36</td>\n",
       "      <td>21</td>\n",
       "      <td>21</td>\n",
       "    </tr>\n",
       "    <tr>\n",
       "      <th>79</th>\n",
       "      <td>PUC</td>\n",
       "      <td>Alex Pitcher Community Room</td>\n",
       "      <td>Alex Pitcher, Jr.</td>\n",
       "      <td>M</td>\n",
       "      <td>NaN</td>\n",
       "      <td>Civil Rights Attorney</td>\n",
       "      <td>4</td>\n",
       "      <td>10</td>\n",
       "      <td>36</td>\n",
       "      <td>21</td>\n",
       "      <td>21</td>\n",
       "    </tr>\n",
       "    <tr>\n",
       "      <th>80</th>\n",
       "      <td>Administrator</td>\n",
       "      <td>Curtis E. Green LRV Facility Annex Bldg</td>\n",
       "      <td>Curtis E. Green</td>\n",
       "      <td>M</td>\n",
       "      <td>Municipal Transportation Agency</td>\n",
       "      <td>NaN</td>\n",
       "      <td>4</td>\n",
       "      <td>10</td>\n",
       "      <td>36</td>\n",
       "      <td>21</td>\n",
       "      <td>21</td>\n",
       "    </tr>\n",
       "    <tr>\n",
       "      <th>81</th>\n",
       "      <td>Administrator</td>\n",
       "      <td>Bill Graham Civic Auditorium</td>\n",
       "      <td>Bill Graham</td>\n",
       "      <td>M</td>\n",
       "      <td>City Administrator</td>\n",
       "      <td>NaN</td>\n",
       "      <td>4</td>\n",
       "      <td>10</td>\n",
       "      <td>36</td>\n",
       "      <td>21</td>\n",
       "      <td>21</td>\n",
       "    </tr>\n",
       "  </tbody>\n",
       "</table>\n",
       "</div>"
      ],
      "text/plain": [
       "   Department/Source                                           Name  \\\n",
       "77     Administrator                  MOSCONE CENTER Parking Garage   \n",
       "78               RED  City Hall, 2nd Floor, Buck Delventhal Rotunda   \n",
       "79               PUC                    Alex Pitcher Community Room   \n",
       "80     Administrator        Curtis E. Green LRV Facility Annex Bldg   \n",
       "81     Administrator                   Bill Graham Civic Auditorium   \n",
       "\n",
       "               Person Gender                        Reference  \\\n",
       "77  George R. Moscone      M  Municipal Transportation Agency   \n",
       "78    Buck Delventhal      M    Longtime Deputy City Attorney   \n",
       "79  Alex Pitcher, Jr.      M                              NaN   \n",
       "80    Curtis E. Green      M  Municipal Transportation Agency   \n",
       "81        Bill Graham      M               City Administrator   \n",
       "\n",
       "                 Comments  Current Police Districts  \\\n",
       "77                    NaN                         4   \n",
       "78                    NaN                         4   \n",
       "79  Civil Rights Attorney                         4   \n",
       "80                    NaN                         4   \n",
       "81                    NaN                         4   \n",
       "\n",
       "    Current Supervisor Districts  Analysis Neighborhoods  Neighborhoods  \\\n",
       "77                            10                      36             21   \n",
       "78                            10                      36             21   \n",
       "79                            10                      36             21   \n",
       "80                            10                      36             21   \n",
       "81                            10                      36             21   \n",
       "\n",
       "    SF Find Neighborhoods  \n",
       "77                     21  \n",
       "78                     21  \n",
       "79                     21  \n",
       "80                     21  \n",
       "81                     21  "
      ]
     },
     "execution_count": 65,
     "metadata": {},
     "output_type": "execute_result"
    }
   ],
   "source": [
    "dataset.tail()"
   ]
  },
  {
   "cell_type": "code",
   "execution_count": 21,
   "metadata": {},
   "outputs": [
    {
     "data": {
      "text/plain": [
       "(82, 11)"
      ]
     },
     "execution_count": 21,
     "metadata": {},
     "output_type": "execute_result"
    }
   ],
   "source": [
    "dataset.shape"
   ]
  },
  {
   "cell_type": "code",
   "execution_count": 39,
   "metadata": {},
   "outputs": [
    {
     "data": {
      "text/plain": [
       "Department/Source                0\n",
       "Name                             0\n",
       "Person                           1\n",
       "Gender                           0\n",
       "Reference                       28\n",
       "Comments                        50\n",
       "Current Police Districts         0\n",
       "Current Supervisor Districts     0\n",
       "Analysis Neighborhoods           0\n",
       "Neighborhoods                    0\n",
       "SF Find Neighborhoods            0\n",
       "dtype: int64"
      ]
     },
     "execution_count": 39,
     "metadata": {},
     "output_type": "execute_result"
    }
   ],
   "source": [
    "dataset.isnull().sum()"
   ]
  },
  {
   "cell_type": "code",
   "execution_count": 25,
   "metadata": {},
   "outputs": [
    {
     "data": {
      "text/html": [
       "<div>\n",
       "<style scoped>\n",
       "    .dataframe tbody tr th:only-of-type {\n",
       "        vertical-align: middle;\n",
       "    }\n",
       "\n",
       "    .dataframe tbody tr th {\n",
       "        vertical-align: top;\n",
       "    }\n",
       "\n",
       "    .dataframe thead th {\n",
       "        text-align: right;\n",
       "    }\n",
       "</style>\n",
       "<table border=\"1\" class=\"dataframe\">\n",
       "  <thead>\n",
       "    <tr style=\"text-align: right;\">\n",
       "      <th></th>\n",
       "      <th>Current Police Districts</th>\n",
       "      <th>Current Supervisor Districts</th>\n",
       "      <th>Analysis Neighborhoods</th>\n",
       "      <th>Neighborhoods</th>\n",
       "      <th>SF Find Neighborhoods</th>\n",
       "    </tr>\n",
       "  </thead>\n",
       "  <tbody>\n",
       "    <tr>\n",
       "      <th>count</th>\n",
       "      <td>82.0</td>\n",
       "      <td>82.0</td>\n",
       "      <td>82.0</td>\n",
       "      <td>82.0</td>\n",
       "      <td>82.0</td>\n",
       "    </tr>\n",
       "    <tr>\n",
       "      <th>mean</th>\n",
       "      <td>4.0</td>\n",
       "      <td>10.0</td>\n",
       "      <td>36.0</td>\n",
       "      <td>21.0</td>\n",
       "      <td>21.0</td>\n",
       "    </tr>\n",
       "    <tr>\n",
       "      <th>std</th>\n",
       "      <td>0.0</td>\n",
       "      <td>0.0</td>\n",
       "      <td>0.0</td>\n",
       "      <td>0.0</td>\n",
       "      <td>0.0</td>\n",
       "    </tr>\n",
       "    <tr>\n",
       "      <th>min</th>\n",
       "      <td>4.0</td>\n",
       "      <td>10.0</td>\n",
       "      <td>36.0</td>\n",
       "      <td>21.0</td>\n",
       "      <td>21.0</td>\n",
       "    </tr>\n",
       "    <tr>\n",
       "      <th>25%</th>\n",
       "      <td>4.0</td>\n",
       "      <td>10.0</td>\n",
       "      <td>36.0</td>\n",
       "      <td>21.0</td>\n",
       "      <td>21.0</td>\n",
       "    </tr>\n",
       "    <tr>\n",
       "      <th>50%</th>\n",
       "      <td>4.0</td>\n",
       "      <td>10.0</td>\n",
       "      <td>36.0</td>\n",
       "      <td>21.0</td>\n",
       "      <td>21.0</td>\n",
       "    </tr>\n",
       "    <tr>\n",
       "      <th>75%</th>\n",
       "      <td>4.0</td>\n",
       "      <td>10.0</td>\n",
       "      <td>36.0</td>\n",
       "      <td>21.0</td>\n",
       "      <td>21.0</td>\n",
       "    </tr>\n",
       "    <tr>\n",
       "      <th>max</th>\n",
       "      <td>4.0</td>\n",
       "      <td>10.0</td>\n",
       "      <td>36.0</td>\n",
       "      <td>21.0</td>\n",
       "      <td>21.0</td>\n",
       "    </tr>\n",
       "  </tbody>\n",
       "</table>\n",
       "</div>"
      ],
      "text/plain": [
       "       Current Police Districts  Current Supervisor Districts  \\\n",
       "count                      82.0                          82.0   \n",
       "mean                        4.0                          10.0   \n",
       "std                         0.0                           0.0   \n",
       "min                         4.0                          10.0   \n",
       "25%                         4.0                          10.0   \n",
       "50%                         4.0                          10.0   \n",
       "75%                         4.0                          10.0   \n",
       "max                         4.0                          10.0   \n",
       "\n",
       "       Analysis Neighborhoods  Neighborhoods  SF Find Neighborhoods  \n",
       "count                    82.0           82.0                   82.0  \n",
       "mean                     36.0           21.0                   21.0  \n",
       "std                       0.0            0.0                    0.0  \n",
       "min                      36.0           21.0                   21.0  \n",
       "25%                      36.0           21.0                   21.0  \n",
       "50%                      36.0           21.0                   21.0  \n",
       "75%                      36.0           21.0                   21.0  \n",
       "max                      36.0           21.0                   21.0  "
      ]
     },
     "execution_count": 25,
     "metadata": {},
     "output_type": "execute_result"
    }
   ],
   "source": [
    "dataset.describe()"
   ]
  },
  {
   "cell_type": "code",
   "execution_count": 28,
   "metadata": {},
   "outputs": [
    {
     "data": {
      "text/plain": [
       "M        53\n",
       "F        19\n",
       "F & M     8\n",
       "M & M     1\n",
       "M & F     1\n",
       "Name: Gender, dtype: int64"
      ]
     },
     "execution_count": 28,
     "metadata": {},
     "output_type": "execute_result"
    }
   ],
   "source": [
    "dataset.Gender.value_counts()"
   ]
  },
  {
   "cell_type": "code",
   "execution_count": 29,
   "metadata": {},
   "outputs": [
    {
     "data": {
      "text/plain": [
       "array(['M', 'F', 'F & M', 'M & F', 'M & M'], dtype=object)"
      ]
     },
     "execution_count": 29,
     "metadata": {},
     "output_type": "execute_result"
    }
   ],
   "source": [
    "dataset.Gender.unique()"
   ]
  },
  {
   "cell_type": "code",
   "execution_count": 31,
   "metadata": {},
   "outputs": [
    {
     "data": {
      "text/plain": [
       "array(['Administrator', 'REC AND PARKS', 'AIRPORT', 'PUC', 'LIBRARY',\n",
       "       'SFMTA', 'Port', 'RED'], dtype=object)"
      ]
     },
     "execution_count": 31,
     "metadata": {},
     "output_type": "execute_result"
    }
   ],
   "source": [
    "dataset['Department/Source'].unique()"
   ]
  },
  {
   "cell_type": "code",
   "execution_count": 34,
   "metadata": {},
   "outputs": [
    {
     "data": {
      "text/plain": [
       "array(['City Administrator', 'Public Health', nan,\n",
       "       'Municipal Transportation Agency', 'Public Utilities Commission',\n",
       "       'Airport Commission President', 'Newspaper',\n",
       "       'Davies Symphony Hall', 'Public Library', 'Veterans Building',\n",
       "       \"General Manager of San Francisco's Municipal Railway in its most difficult period\",\n",
       "       'Airport (Sfo)', 'War Memorial Opera House', 'Port',\n",
       "       'Clerk to the Board of Supervisors', 'Zellerbach Rehearsal Hall',\n",
       "       'Harding Golf Course', 'Arts Commission', 'Fine Arts Museums',\n",
       "       'Public Works', 'Fire Department', 'Longtime Deputy City Attorney'],\n",
       "      dtype=object)"
      ]
     },
     "execution_count": 34,
     "metadata": {},
     "output_type": "execute_result"
    }
   ],
   "source": [
    "dataset.Reference.unique()"
   ]
  },
  {
   "cell_type": "code",
   "execution_count": 35,
   "metadata": {},
   "outputs": [
    {
     "data": {
      "text/plain": [
       "array([nan, 'park', 'facilities and other amenities',\n",
       "       'Civil Engineer, Developed Hetch-Hetchy Water System', 'Library',\n",
       "       'Different name in SF Data', 'Mayor',\n",
       "       '2010 - Chief of Protocol for the City and County of San Francisco (and the State of California)',\n",
       "       '4th floor', '1st floor main library', 'Not in SF Data', 'Family',\n",
       "       'main library 3rd Floor', 'Civil Rights Attorney'], dtype=object)"
      ]
     },
     "execution_count": 35,
     "metadata": {},
     "output_type": "execute_result"
    }
   ],
   "source": [
    "dataset.Comments.unique()"
   ]
  },
  {
   "cell_type": "code",
   "execution_count": 42,
   "metadata": {},
   "outputs": [
    {
     "data": {
      "text/html": [
       "<div>\n",
       "<style scoped>\n",
       "    .dataframe tbody tr th:only-of-type {\n",
       "        vertical-align: middle;\n",
       "    }\n",
       "\n",
       "    .dataframe tbody tr th {\n",
       "        vertical-align: top;\n",
       "    }\n",
       "\n",
       "    .dataframe thead th {\n",
       "        text-align: right;\n",
       "    }\n",
       "</style>\n",
       "<table border=\"1\" class=\"dataframe\">\n",
       "  <thead>\n",
       "    <tr style=\"text-align: right;\">\n",
       "      <th></th>\n",
       "      <th>Department/Source</th>\n",
       "      <th>Name</th>\n",
       "      <th>Person</th>\n",
       "      <th>Gender</th>\n",
       "      <th>Reference</th>\n",
       "      <th>Comments</th>\n",
       "      <th>Current Police Districts</th>\n",
       "      <th>Current Supervisor Districts</th>\n",
       "      <th>Analysis Neighborhoods</th>\n",
       "      <th>Neighborhoods</th>\n",
       "      <th>SF Find Neighborhoods</th>\n",
       "    </tr>\n",
       "  </thead>\n",
       "  <tbody>\n",
       "  </tbody>\n",
       "</table>\n",
       "</div>"
      ],
      "text/plain": [
       "Empty DataFrame\n",
       "Columns: [Department/Source, Name, Person, Gender, Reference, Comments, Current Police Districts, Current Supervisor Districts, Analysis Neighborhoods, Neighborhoods, SF Find Neighborhoods]\n",
       "Index: []"
      ]
     },
     "execution_count": 42,
     "metadata": {},
     "output_type": "execute_result"
    }
   ],
   "source": [
    "dataset[dataset['Neighborhoods'] == dataset['SF Find Neighborhoods'].sum()]"
   ]
  },
  {
   "cell_type": "markdown",
   "metadata": {},
   "source": [
    "Columns to drop , Name,Person,Reference,Comments,SF Find Neighborhoods\n",
    "this is because the name of the property and the person is not needed we are only focusing on the proportion of \n",
    "each Gender. There are 28 values mssing in Reference which is about 1/4 of the whole data, therefore it will be dropped Comments are not really needed too. SF Find Neigbours has same value with Neigbours. we drop one of\n",
    "the two in this case SF Find Neigbours\n"
   ]
  },
  {
   "cell_type": "code",
   "execution_count": 44,
   "metadata": {},
   "outputs": [],
   "source": [
    "New_df = dataset.drop(['Name','Person','Reference','Comments','SF Find Neighborhoods'], axis=1)"
   ]
  },
  {
   "cell_type": "markdown",
   "metadata": {},
   "source": [
    "Take a look at the New dataset"
   ]
  },
  {
   "cell_type": "code",
   "execution_count": 45,
   "metadata": {},
   "outputs": [
    {
     "data": {
      "text/html": [
       "<div>\n",
       "<style scoped>\n",
       "    .dataframe tbody tr th:only-of-type {\n",
       "        vertical-align: middle;\n",
       "    }\n",
       "\n",
       "    .dataframe tbody tr th {\n",
       "        vertical-align: top;\n",
       "    }\n",
       "\n",
       "    .dataframe thead th {\n",
       "        text-align: right;\n",
       "    }\n",
       "</style>\n",
       "<table border=\"1\" class=\"dataframe\">\n",
       "  <thead>\n",
       "    <tr style=\"text-align: right;\">\n",
       "      <th></th>\n",
       "      <th>Department/Source</th>\n",
       "      <th>Gender</th>\n",
       "      <th>Current Police Districts</th>\n",
       "      <th>Current Supervisor Districts</th>\n",
       "      <th>Analysis Neighborhoods</th>\n",
       "      <th>Neighborhoods</th>\n",
       "    </tr>\n",
       "  </thead>\n",
       "  <tbody>\n",
       "    <tr>\n",
       "      <th>0</th>\n",
       "      <td>Administrator</td>\n",
       "      <td>M</td>\n",
       "      <td>4</td>\n",
       "      <td>10</td>\n",
       "      <td>36</td>\n",
       "      <td>21</td>\n",
       "    </tr>\n",
       "    <tr>\n",
       "      <th>1</th>\n",
       "      <td>Administrator</td>\n",
       "      <td>F</td>\n",
       "      <td>4</td>\n",
       "      <td>10</td>\n",
       "      <td>36</td>\n",
       "      <td>21</td>\n",
       "    </tr>\n",
       "    <tr>\n",
       "      <th>2</th>\n",
       "      <td>REC AND PARKS</td>\n",
       "      <td>M</td>\n",
       "      <td>4</td>\n",
       "      <td>10</td>\n",
       "      <td>36</td>\n",
       "      <td>21</td>\n",
       "    </tr>\n",
       "    <tr>\n",
       "      <th>3</th>\n",
       "      <td>REC AND PARKS</td>\n",
       "      <td>F</td>\n",
       "      <td>4</td>\n",
       "      <td>10</td>\n",
       "      <td>36</td>\n",
       "      <td>21</td>\n",
       "    </tr>\n",
       "    <tr>\n",
       "      <th>4</th>\n",
       "      <td>REC AND PARKS</td>\n",
       "      <td>M</td>\n",
       "      <td>4</td>\n",
       "      <td>10</td>\n",
       "      <td>36</td>\n",
       "      <td>21</td>\n",
       "    </tr>\n",
       "  </tbody>\n",
       "</table>\n",
       "</div>"
      ],
      "text/plain": [
       "  Department/Source Gender  Current Police Districts  \\\n",
       "0     Administrator      M                         4   \n",
       "1     Administrator      F                         4   \n",
       "2     REC AND PARKS      M                         4   \n",
       "3     REC AND PARKS      F                         4   \n",
       "4     REC AND PARKS      M                         4   \n",
       "\n",
       "   Current Supervisor Districts  Analysis Neighborhoods  Neighborhoods  \n",
       "0                            10                      36             21  \n",
       "1                            10                      36             21  \n",
       "2                            10                      36             21  \n",
       "3                            10                      36             21  \n",
       "4                            10                      36             21  "
      ]
     },
     "execution_count": 45,
     "metadata": {},
     "output_type": "execute_result"
    }
   ],
   "source": [
    "New_df.head()"
   ]
  },
  {
   "cell_type": "markdown",
   "metadata": {},
   "source": [
    "Check the for missing values"
   ]
  },
  {
   "cell_type": "code",
   "execution_count": 47,
   "metadata": {},
   "outputs": [
    {
     "data": {
      "text/plain": [
       "Department/Source               0\n",
       "Gender                          0\n",
       "Current Police Districts        0\n",
       "Current Supervisor Districts    0\n",
       "Analysis Neighborhoods          0\n",
       "Neighborhoods                   0\n",
       "dtype: int64"
      ]
     },
     "execution_count": 47,
     "metadata": {},
     "output_type": "execute_result"
    }
   ],
   "source": [
    "New_df.isnull().sum()"
   ]
  },
  {
   "cell_type": "markdown",
   "metadata": {},
   "source": [
    "Replace values 'M & M' in Gender to \"M\" ,\n",
    "Replace values 'M & F' in Gender to 'F & M' ,\n",
    "therefore, we should  have 3 categories in Gender column"
   ]
  },
  {
   "cell_type": "code",
   "execution_count": 59,
   "metadata": {},
   "outputs": [],
   "source": [
    "New_df.Gender.replace(to_replace =\"M & M\", value =\"M\", inplace=True)\n",
    "\n",
    "New_df.Gender.replace(to_replace =\"M & F\", value =\"F & M\", inplace=True)"
   ]
  },
  {
   "cell_type": "markdown",
   "metadata": {},
   "source": [
    "There should be 3 values left for gender , lets have a look"
   ]
  },
  {
   "cell_type": "code",
   "execution_count": 60,
   "metadata": {},
   "outputs": [
    {
     "data": {
      "text/plain": [
       "array(['M', 'F', 'F & M'], dtype=object)"
      ]
     },
     "execution_count": 60,
     "metadata": {},
     "output_type": "execute_result"
    }
   ],
   "source": [
    "New_df.Gender.unique()"
   ]
  },
  {
   "cell_type": "markdown",
   "metadata": {},
   "source": [
    "Now we group the categorical data by gender"
   ]
  },
  {
   "cell_type": "code",
   "execution_count": 61,
   "metadata": {},
   "outputs": [
    {
     "data": {
      "text/plain": [
       "Gender\n",
       "F        19\n",
       "F & M     9\n",
       "M        54\n",
       "Name: Department/Source, dtype: int64"
      ]
     },
     "execution_count": 61,
     "metadata": {},
     "output_type": "execute_result"
    }
   ],
   "source": [
    "New_df.groupby('Gender')['Department/Source'].count()"
   ]
  },
  {
   "cell_type": "code",
   "execution_count": 115,
   "metadata": {},
   "outputs": [
    {
     "data": {
      "text/plain": [
       "Administrator    46\n",
       "REC AND PARKS    17\n",
       "LIBRARY           8\n",
       "SFMTA             3\n",
       "RED               3\n",
       "PUC               2\n",
       "Port              2\n",
       "AIRPORT           1\n",
       "Name: Department/Source, dtype: int64"
      ]
     },
     "execution_count": 115,
     "metadata": {},
     "output_type": "execute_result"
    }
   ],
   "source": [
    "New_df['Department/Source'].value_counts()"
   ]
  },
  {
   "cell_type": "markdown",
   "metadata": {},
   "source": [
    "# Data Visualization"
   ]
  },
  {
   "cell_type": "markdown",
   "metadata": {},
   "source": [
    "Since the purpose of this project is to do exploratory data analysis on the proportion of women to men representation in city property, we will be focusing on Gender.\n"
   ]
  },
  {
   "cell_type": "markdown",
   "metadata": {},
   "source": [
    "First we plot to the Department , to see which is more "
   ]
  },
  {
   "cell_type": "code",
   "execution_count": 112,
   "metadata": {},
   "outputs": [
    {
     "data": {
      "image/png": "[encoded data removed]",
      "text/plain": [
       "<Figure size 432x288 with 1 Axes>"
      ]
     },
     "metadata": {
      "needs_background": "light"
     },
     "output_type": "display_data"
    }
   ],
   "source": [
    "ax = sns.countplot(x=\"Department/Source\", data=New_df, facecolor=(0, 0, 0, 0), linewidth=2, edgecolor=sns.color_palette(\"dark\", 3));\n",
    "plt.xticks(rotation=90)\n",
    "ax.set_title('Count Plot For Department/Source', fontsize=14)\n",
    "plt.show()\n"
   ]
  },
  {
   "cell_type": "markdown",
   "metadata": {},
   "source": [
    "From the Above, The dataset contains Administrator with the highest number, then RECS and Parks, Library,SFMTA,RED,PUC,Port while Airport with the lowest."
   ]
  },
  {
   "cell_type": "code",
   "execution_count": 113,
   "metadata": {},
   "outputs": [
    {
     "data": {
      "image/png": "[encoded data removed]",
      "text/plain": [
       "<Figure size 432x288 with 1 Axes>"
      ]
     },
     "metadata": {
      "needs_background": "light"
     },
     "output_type": "display_data"
    }
   ],
   "source": [
    "ax = sns.countplot(x=\"Gender\", data=New_df, facecolor=(0, 0, 0, 0), linewidth=2, edgecolor=sns.color_palette(\"dark\", 3));\n",
    "plt.xticks(rotation=90)\n",
    "ax.set_title('Count Plot For Gender', fontsize=14)\n",
    "plt.show()\n"
   ]
  },
  {
   "cell_type": "markdown",
   "metadata": {},
   "source": [
    "From the above, We have More Male Represented property in SanFancisco than Female , then less F&M( here F&M is understood has the person is either did not disclose his gender or he does not recognisee as neither Male or Female.) "
   ]
  },
  {
   "cell_type": "code",
   "execution_count": 104,
   "metadata": {},
   "outputs": [
    {
     "data": {
      "image/png": "[encoded data removed]",
      "text/plain": [
       "<Figure size 432x288 with 1 Axes>"
      ]
     },
     "metadata": {},
     "output_type": "display_data"
    }
   ],
   "source": [
    "plt.pie(New_df['Gender'].value_counts(), labels=New_df['Gender'].unique(), autopct='%1.1f%%');\n",
    "# plt.pie(New_df['Gender'])"
   ]
  },
  {
   "cell_type": "markdown",
   "metadata": {},
   "source": [
    "From the above, the proportion of male to Female representation is more than double i.e, According to this dataset 65.9% of the properties are represented by Male, 23.2% by Female and 11% by other Genders."
   ]
  },
  {
   "cell_type": "code",
   "execution_count": 106,
   "metadata": {},
   "outputs": [
    {
     "data": {
      "image/png": "[encoded data removed]",
      "text/plain": [
       "<Figure size 432x288 with 1 Axes>"
      ]
     },
     "metadata": {
      "needs_background": "light"
     },
     "output_type": "display_data"
    }
   ],
   "source": [
    "#how the gender is distributed in the department\n",
    "sns.countplot(x = \"Department/Source\", hue = \"Gender\", data = New_df , palette= 'Set1')\n",
    "plt.xticks(rotation = 90)\n",
    "plt.legend(loc = 'upper right')\n",
    "plt.show()"
   ]
  },
  {
   "cell_type": "markdown",
   "metadata": {},
   "source": [
    "The above is a count plot that show the proportion of each gender in the given Department/Sources.\n",
    "It shows Administrator Department with most of the properties is dominated by The Male Gender  i.e Male represent most of the properties in the this Department, Female gender represents more than the 'others' gender\n",
    "\n",
    "For the RECS AND PARKS department, the are also more Male represented properties but the proportion is not as high as adminstrator.Females represents about half of what the Male Does and 'others' gender represent less\n",
    "\n",
    "The Airport department has just 1 property represented by a Male\n",
    " \n",
    "PUC department has 2 properties both represented a Male\n",
    "\n",
    "\n",
    "For Library, both Male Gender and Female Gender Represents the same number of property and the 'others' represents Less.\n",
    "\n",
    "SFMTA has 3 properties, All represented by a Male\n",
    "\n",
    "PORT has 2 properties, each represented by a Male and a Female\n",
    "\n",
    "lastly, RED has 75% of its property represented by Male and 25% by a Female.\n",
    "\n"
   ]
  },
  {
   "cell_type": "code",
   "execution_count": 108,
   "metadata": {},
   "outputs": [
    {
     "data": {
      "image/png": "[encoded data removed]",
      "text/plain": [
       "<Figure size 432x288 with 1 Axes>"
      ]
     },
     "metadata": {
      "needs_background": "light"
     },
     "output_type": "display_data"
    }
   ],
   "source": [
    "plt.plot(New_df['Current Police Districts']);"
   ]
  },
  {
   "cell_type": "code",
   "execution_count": 109,
   "metadata": {},
   "outputs": [
    {
     "data": {
      "image/png": "[encoded data removed]",
      "text/plain": [
       "<Figure size 432x288 with 1 Axes>"
      ]
     },
     "metadata": {
      "needs_background": "light"
     },
     "output_type": "display_data"
    }
   ],
   "source": [
    "plt.plot(New_df['Current Supervisor Districts']);"
   ]
  },
  {
   "cell_type": "code",
   "execution_count": 116,
   "metadata": {},
   "outputs": [
    {
     "data": {
      "image/png": "[encoded data removed]",
      "text/plain": [
       "<Figure size 432x288 with 1 Axes>"
      ]
     },
     "metadata": {
      "needs_background": "light"
     },
     "output_type": "display_data"
    }
   ],
   "source": [
    "plt.plot(New_df['Analysis Neighborhoods']);"
   ]
  },
  {
   "cell_type": "code",
   "execution_count": 111,
   "metadata": {},
   "outputs": [
    {
     "data": {
      "image/png": "[encoded data removed]",
      "text/plain": [
       "<Figure size 432x288 with 1 Axes>"
      ]
     },
     "metadata": {
      "needs_background": "light"
     },
     "output_type": "display_data"
    }
   ],
   "source": [
    "plt.plot(New_df['Neighborhoods']);"
   ]
  },
  {
   "cell_type": "markdown",
   "metadata": {},
   "source": [
    "Column :Current Police District, Current Supervisor Districts, Analysis Neighborhoods and Neighborhoods seem to be irrelevant to this Analysis. because they all have a single value in each column."
   ]
  },
  {
   "cell_type": "markdown",
   "metadata": {},
   "source": [
    "# Conclusion\n"
   ]
  },
  {
   "cell_type": "markdown",
   "metadata": {},
   "source": [
    "In Conclusion, according to the given dataset.-\n",
    "\n",
    "\n",
    "SanFrancisco Property are clearly most represented by Male especially those in the Administrator Department.\n"
   ]
  },
  {
   "cell_type": "code",
   "execution_count": null,
   "metadata": {},
   "outputs": [],
   "source": []
  }
 ],
 "metadata": {
  "kernelspec": {
   "display_name": "Python 3",
   "language": "python",
   "name": "python3"
  },
  "language_info": {
   "codemirror_mode": {
    "name": "ipython",
    "version": 3
   },
   "file_extension": ".py",
   "mimetype": "text/x-python",
   "name": "python",
   "nbconvert_exporter": "python",
   "pygments_lexer": "ipython3",
   "version": "3.8.3"
  }
 },
 "nbformat": 4,
 "nbformat_minor": 4
}
