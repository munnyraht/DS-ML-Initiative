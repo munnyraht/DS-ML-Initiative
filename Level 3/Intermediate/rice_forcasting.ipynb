{
 "cells": [
  {
   "cell_type": "code",
   "execution_count": 1,
   "metadata": {},
   "outputs": [],
   "source": [
    "import pandas as pd\n",
    "import seaborn as sns\n",
    "import matplotlib.pyplot as plt\n",
    "import numpy as np\n",
    "import xgboost as xgb\n",
    "from xgboost import plot_importance, plot_tree\n",
    "from sklearn.metrics import mean_squared_error, mean_absolute_error"
   ]
  },
  {
   "cell_type": "code",
   "execution_count": 2,
   "metadata": {},
   "outputs": [],
   "source": [
    "food_df = pd.read_csv('wfp_food_median_prices_nigeria.csv')"
   ]
  },
  {
   "cell_type": "code",
   "execution_count": 3,
   "metadata": {},
   "outputs": [
    {
     "data": {
      "text/html": [
       "<div>\n",
       "<style scoped>\n",
       "    .dataframe tbody tr th:only-of-type {\n",
       "        vertical-align: middle;\n",
       "    }\n",
       "\n",
       "    .dataframe tbody tr th {\n",
       "        vertical-align: top;\n",
       "    }\n",
       "\n",
       "    .dataframe thead th {\n",
       "        text-align: right;\n",
       "    }\n",
       "</style>\n",
       "<table border=\"1\" class=\"dataframe\">\n",
       "  <thead>\n",
       "    <tr style=\"text-align: right;\">\n",
       "      <th></th>\n",
       "      <th>date</th>\n",
       "      <th>cmname</th>\n",
       "      <th>unit</th>\n",
       "      <th>category</th>\n",
       "      <th>price</th>\n",
       "      <th>currency</th>\n",
       "      <th>country</th>\n",
       "      <th>admname</th>\n",
       "      <th>adm1id</th>\n",
       "      <th>mktname</th>\n",
       "      <th>...</th>\n",
       "      <th>umid</th>\n",
       "      <th>catid</th>\n",
       "      <th>sn</th>\n",
       "      <th>default</th>\n",
       "      <th>year</th>\n",
       "      <th>label</th>\n",
       "      <th>cmnameshort</th>\n",
       "      <th>scaling</th>\n",
       "      <th>interpolated</th>\n",
       "      <th>x</th>\n",
       "    </tr>\n",
       "  </thead>\n",
       "  <tbody>\n",
       "    <tr>\n",
       "      <th>0</th>\n",
       "      <td>#date</td>\n",
       "      <td>#item+name</td>\n",
       "      <td>#item+unit</td>\n",
       "      <td>#item+type</td>\n",
       "      <td>#value</td>\n",
       "      <td>#currency</td>\n",
       "      <td>#country+name</td>\n",
       "      <td>#adm1+name</td>\n",
       "      <td>#adm1+code</td>\n",
       "      <td>#name+market</td>\n",
       "      <td>...</td>\n",
       "      <td>NaN</td>\n",
       "      <td>#item+type+code</td>\n",
       "      <td>#meta+id</td>\n",
       "      <td>NaN</td>\n",
       "      <td>0.0</td>\n",
       "      <td>#item+label</td>\n",
       "      <td>#item+name+short</td>\n",
       "      <td>NaN</td>\n",
       "      <td>NaN</td>\n",
       "      <td>NaN</td>\n",
       "    </tr>\n",
       "    <tr>\n",
       "      <th>1</th>\n",
       "      <td>2016-01-15</td>\n",
       "      <td>Bananas - Retail</td>\n",
       "      <td>1.3 KG</td>\n",
       "      <td>vegetables and fruits</td>\n",
       "      <td>250.0</td>\n",
       "      <td>NaN</td>\n",
       "      <td>NaN</td>\n",
       "      <td>NaN</td>\n",
       "      <td>NaN</td>\n",
       "      <td>NaN</td>\n",
       "      <td>...</td>\n",
       "      <td>NaN</td>\n",
       "      <td>4</td>\n",
       "      <td>NaN</td>\n",
       "      <td>NaN</td>\n",
       "      <td>NaN</td>\n",
       "      <td>Bananas - Retail (1.3 KG)</td>\n",
       "      <td>Bananas</td>\n",
       "      <td>1.0</td>\n",
       "      <td>1.0</td>\n",
       "      <td>NaN</td>\n",
       "    </tr>\n",
       "    <tr>\n",
       "      <th>2</th>\n",
       "      <td>2016-02-15</td>\n",
       "      <td>Bananas - Retail</td>\n",
       "      <td>1.3 KG</td>\n",
       "      <td>vegetables and fruits</td>\n",
       "      <td>250.0</td>\n",
       "      <td>NaN</td>\n",
       "      <td>NaN</td>\n",
       "      <td>NaN</td>\n",
       "      <td>NaN</td>\n",
       "      <td>NaN</td>\n",
       "      <td>...</td>\n",
       "      <td>NaN</td>\n",
       "      <td>4</td>\n",
       "      <td>NaN</td>\n",
       "      <td>NaN</td>\n",
       "      <td>NaN</td>\n",
       "      <td>Bananas - Retail (1.3 KG)</td>\n",
       "      <td>Bananas</td>\n",
       "      <td>1.0</td>\n",
       "      <td>1.0</td>\n",
       "      <td>NaN</td>\n",
       "    </tr>\n",
       "    <tr>\n",
       "      <th>3</th>\n",
       "      <td>2016-03-15</td>\n",
       "      <td>Bananas - Retail</td>\n",
       "      <td>1.3 KG</td>\n",
       "      <td>vegetables and fruits</td>\n",
       "      <td>250.0</td>\n",
       "      <td>NaN</td>\n",
       "      <td>NaN</td>\n",
       "      <td>NaN</td>\n",
       "      <td>NaN</td>\n",
       "      <td>NaN</td>\n",
       "      <td>...</td>\n",
       "      <td>NaN</td>\n",
       "      <td>4</td>\n",
       "      <td>NaN</td>\n",
       "      <td>NaN</td>\n",
       "      <td>NaN</td>\n",
       "      <td>Bananas - Retail (1.3 KG)</td>\n",
       "      <td>Bananas</td>\n",
       "      <td>1.0</td>\n",
       "      <td>1.0</td>\n",
       "      <td>NaN</td>\n",
       "    </tr>\n",
       "    <tr>\n",
       "      <th>4</th>\n",
       "      <td>2016-04-15</td>\n",
       "      <td>Bananas - Retail</td>\n",
       "      <td>1.3 KG</td>\n",
       "      <td>vegetables and fruits</td>\n",
       "      <td>250.0</td>\n",
       "      <td>NaN</td>\n",
       "      <td>NaN</td>\n",
       "      <td>NaN</td>\n",
       "      <td>NaN</td>\n",
       "      <td>NaN</td>\n",
       "      <td>...</td>\n",
       "      <td>NaN</td>\n",
       "      <td>4</td>\n",
       "      <td>NaN</td>\n",
       "      <td>NaN</td>\n",
       "      <td>NaN</td>\n",
       "      <td>Bananas - Retail (1.3 KG)</td>\n",
       "      <td>Bananas</td>\n",
       "      <td>1.0</td>\n",
       "      <td>1.0</td>\n",
       "      <td>NaN</td>\n",
       "    </tr>\n",
       "  </tbody>\n",
       "</table>\n",
       "<p>5 rows × 23 columns</p>\n",
       "</div>"
      ],
      "text/plain": [
       "         date            cmname        unit               category   price  \\\n",
       "0       #date        #item+name  #item+unit             #item+type  #value   \n",
       "1  2016-01-15  Bananas - Retail      1.3 KG  vegetables and fruits   250.0   \n",
       "2  2016-02-15  Bananas - Retail      1.3 KG  vegetables and fruits   250.0   \n",
       "3  2016-03-15  Bananas - Retail      1.3 KG  vegetables and fruits   250.0   \n",
       "4  2016-04-15  Bananas - Retail      1.3 KG  vegetables and fruits   250.0   \n",
       "\n",
       "    currency        country     admname      adm1id       mktname  ...  umid  \\\n",
       "0  #currency  #country+name  #adm1+name  #adm1+code  #name+market  ...   NaN   \n",
       "1        NaN            NaN         NaN         NaN           NaN  ...   NaN   \n",
       "2        NaN            NaN         NaN         NaN           NaN  ...   NaN   \n",
       "3        NaN            NaN         NaN         NaN           NaN  ...   NaN   \n",
       "4        NaN            NaN         NaN         NaN           NaN  ...   NaN   \n",
       "\n",
       "             catid        sn  default year                      label  \\\n",
       "0  #item+type+code  #meta+id      NaN  0.0                #item+label   \n",
       "1                4       NaN      NaN  NaN  Bananas - Retail (1.3 KG)   \n",
       "2                4       NaN      NaN  NaN  Bananas - Retail (1.3 KG)   \n",
       "3                4       NaN      NaN  NaN  Bananas - Retail (1.3 KG)   \n",
       "4                4       NaN      NaN  NaN  Bananas - Retail (1.3 KG)   \n",
       "\n",
       "        cmnameshort  scaling interpolated   x  \n",
       "0  #item+name+short      NaN          NaN NaN  \n",
       "1           Bananas      1.0          1.0 NaN  \n",
       "2           Bananas      1.0          1.0 NaN  \n",
       "3           Bananas      1.0          1.0 NaN  \n",
       "4           Bananas      1.0          1.0 NaN  \n",
       "\n",
       "[5 rows x 23 columns]"
      ]
     },
     "execution_count": 3,
     "metadata": {},
     "output_type": "execute_result"
    }
   ],
   "source": [
    "food_df.head()"
   ]
  },
  {
   "cell_type": "code",
   "execution_count": 4,
   "metadata": {},
   "outputs": [
    {
     "name": "stdout",
     "output_type": "stream",
     "text": [
      "<class 'pandas.core.frame.DataFrame'>\n",
      "RangeIndex: 4637 entries, 0 to 4636\n",
      "Data columns (total 23 columns):\n",
      " #   Column        Non-Null Count  Dtype  \n",
      "---  ------        --------------  -----  \n",
      " 0   date          4637 non-null   object \n",
      " 1   cmname        4637 non-null   object \n",
      " 2   unit          4637 non-null   object \n",
      " 3   category      4637 non-null   object \n",
      " 4   price         4637 non-null   object \n",
      " 5   currency      3240 non-null   object \n",
      " 6   country       3240 non-null   object \n",
      " 7   admname       3240 non-null   object \n",
      " 8   adm1id        3240 non-null   object \n",
      " 9   mktname       3240 non-null   object \n",
      " 10  mktid         3239 non-null   float64\n",
      " 11  cmid          4637 non-null   object \n",
      " 12  ptid          3239 non-null   float64\n",
      " 13  umid          3239 non-null   float64\n",
      " 14  catid         4637 non-null   object \n",
      " 15  sn            3240 non-null   object \n",
      " 16  default       0 non-null      float64\n",
      " 17  year          3240 non-null   float64\n",
      " 18  label         4637 non-null   object \n",
      " 19  cmnameshort   4637 non-null   object \n",
      " 20  scaling       4636 non-null   float64\n",
      " 21  interpolated  4636 non-null   float64\n",
      " 22  x             3239 non-null   float64\n",
      "dtypes: float64(8), object(15)\n",
      "memory usage: 833.3+ KB\n"
     ]
    }
   ],
   "source": [
    "food_df.info()"
   ]
  },
  {
   "cell_type": "code",
   "execution_count": 5,
   "metadata": {},
   "outputs": [
    {
     "data": {
      "text/plain": [
       "(4637, 23)"
      ]
     },
     "execution_count": 5,
     "metadata": {},
     "output_type": "execute_result"
    }
   ],
   "source": [
    "food_df.shape"
   ]
  },
  {
   "cell_type": "code",
   "execution_count": 6,
   "metadata": {},
   "outputs": [
    {
     "data": {
      "text/plain": [
       "Index(['date', 'cmname', 'unit', 'category', 'price', 'currency', 'country',\n",
       "       'admname', 'adm1id', 'mktname', 'mktid', 'cmid', 'ptid', 'umid',\n",
       "       'catid', 'sn', 'default', 'year', 'label', 'cmnameshort', 'scaling',\n",
       "       'interpolated', 'x'],\n",
       "      dtype='object')"
      ]
     },
     "execution_count": 6,
     "metadata": {},
     "output_type": "execute_result"
    }
   ],
   "source": [
    "food_df.columns"
   ]
  },
  {
   "cell_type": "code",
   "execution_count": 7,
   "metadata": {},
   "outputs": [],
   "source": [
    "#drop the first row\n",
    "food_df.drop([0], inplace=True)"
   ]
  },
  {
   "cell_type": "code",
   "execution_count": 8,
   "metadata": {},
   "outputs": [
    {
     "data": {
      "text/html": [
       "<div>\n",
       "<style scoped>\n",
       "    .dataframe tbody tr th:only-of-type {\n",
       "        vertical-align: middle;\n",
       "    }\n",
       "\n",
       "    .dataframe tbody tr th {\n",
       "        vertical-align: top;\n",
       "    }\n",
       "\n",
       "    .dataframe thead th {\n",
       "        text-align: right;\n",
       "    }\n",
       "</style>\n",
       "<table border=\"1\" class=\"dataframe\">\n",
       "  <thead>\n",
       "    <tr style=\"text-align: right;\">\n",
       "      <th></th>\n",
       "      <th>date</th>\n",
       "      <th>cmname</th>\n",
       "      <th>unit</th>\n",
       "      <th>category</th>\n",
       "      <th>price</th>\n",
       "      <th>currency</th>\n",
       "      <th>country</th>\n",
       "      <th>admname</th>\n",
       "      <th>adm1id</th>\n",
       "      <th>mktname</th>\n",
       "      <th>...</th>\n",
       "      <th>umid</th>\n",
       "      <th>catid</th>\n",
       "      <th>sn</th>\n",
       "      <th>default</th>\n",
       "      <th>year</th>\n",
       "      <th>label</th>\n",
       "      <th>cmnameshort</th>\n",
       "      <th>scaling</th>\n",
       "      <th>interpolated</th>\n",
       "      <th>x</th>\n",
       "    </tr>\n",
       "  </thead>\n",
       "  <tbody>\n",
       "    <tr>\n",
       "      <th>1</th>\n",
       "      <td>2016-01-15</td>\n",
       "      <td>Bananas - Retail</td>\n",
       "      <td>1.3 KG</td>\n",
       "      <td>vegetables and fruits</td>\n",
       "      <td>250.0</td>\n",
       "      <td>NaN</td>\n",
       "      <td>NaN</td>\n",
       "      <td>NaN</td>\n",
       "      <td>NaN</td>\n",
       "      <td>NaN</td>\n",
       "      <td>...</td>\n",
       "      <td>NaN</td>\n",
       "      <td>4</td>\n",
       "      <td>NaN</td>\n",
       "      <td>NaN</td>\n",
       "      <td>NaN</td>\n",
       "      <td>Bananas - Retail (1.3 KG)</td>\n",
       "      <td>Bananas</td>\n",
       "      <td>1.0</td>\n",
       "      <td>1.0</td>\n",
       "      <td>NaN</td>\n",
       "    </tr>\n",
       "    <tr>\n",
       "      <th>2</th>\n",
       "      <td>2016-02-15</td>\n",
       "      <td>Bananas - Retail</td>\n",
       "      <td>1.3 KG</td>\n",
       "      <td>vegetables and fruits</td>\n",
       "      <td>250.0</td>\n",
       "      <td>NaN</td>\n",
       "      <td>NaN</td>\n",
       "      <td>NaN</td>\n",
       "      <td>NaN</td>\n",
       "      <td>NaN</td>\n",
       "      <td>...</td>\n",
       "      <td>NaN</td>\n",
       "      <td>4</td>\n",
       "      <td>NaN</td>\n",
       "      <td>NaN</td>\n",
       "      <td>NaN</td>\n",
       "      <td>Bananas - Retail (1.3 KG)</td>\n",
       "      <td>Bananas</td>\n",
       "      <td>1.0</td>\n",
       "      <td>1.0</td>\n",
       "      <td>NaN</td>\n",
       "    </tr>\n",
       "    <tr>\n",
       "      <th>3</th>\n",
       "      <td>2016-03-15</td>\n",
       "      <td>Bananas - Retail</td>\n",
       "      <td>1.3 KG</td>\n",
       "      <td>vegetables and fruits</td>\n",
       "      <td>250.0</td>\n",
       "      <td>NaN</td>\n",
       "      <td>NaN</td>\n",
       "      <td>NaN</td>\n",
       "      <td>NaN</td>\n",
       "      <td>NaN</td>\n",
       "      <td>...</td>\n",
       "      <td>NaN</td>\n",
       "      <td>4</td>\n",
       "      <td>NaN</td>\n",
       "      <td>NaN</td>\n",
       "      <td>NaN</td>\n",
       "      <td>Bananas - Retail (1.3 KG)</td>\n",
       "      <td>Bananas</td>\n",
       "      <td>1.0</td>\n",
       "      <td>1.0</td>\n",
       "      <td>NaN</td>\n",
       "    </tr>\n",
       "    <tr>\n",
       "      <th>4</th>\n",
       "      <td>2016-04-15</td>\n",
       "      <td>Bananas - Retail</td>\n",
       "      <td>1.3 KG</td>\n",
       "      <td>vegetables and fruits</td>\n",
       "      <td>250.0</td>\n",
       "      <td>NaN</td>\n",
       "      <td>NaN</td>\n",
       "      <td>NaN</td>\n",
       "      <td>NaN</td>\n",
       "      <td>NaN</td>\n",
       "      <td>...</td>\n",
       "      <td>NaN</td>\n",
       "      <td>4</td>\n",
       "      <td>NaN</td>\n",
       "      <td>NaN</td>\n",
       "      <td>NaN</td>\n",
       "      <td>Bananas - Retail (1.3 KG)</td>\n",
       "      <td>Bananas</td>\n",
       "      <td>1.0</td>\n",
       "      <td>1.0</td>\n",
       "      <td>NaN</td>\n",
       "    </tr>\n",
       "    <tr>\n",
       "      <th>5</th>\n",
       "      <td>2016-05-15</td>\n",
       "      <td>Bananas - Retail</td>\n",
       "      <td>1.3 KG</td>\n",
       "      <td>vegetables and fruits</td>\n",
       "      <td>250.0</td>\n",
       "      <td>NaN</td>\n",
       "      <td>NaN</td>\n",
       "      <td>NaN</td>\n",
       "      <td>NaN</td>\n",
       "      <td>NaN</td>\n",
       "      <td>...</td>\n",
       "      <td>NaN</td>\n",
       "      <td>4</td>\n",
       "      <td>NaN</td>\n",
       "      <td>NaN</td>\n",
       "      <td>NaN</td>\n",
       "      <td>Bananas - Retail (1.3 KG)</td>\n",
       "      <td>Bananas</td>\n",
       "      <td>1.0</td>\n",
       "      <td>1.0</td>\n",
       "      <td>NaN</td>\n",
       "    </tr>\n",
       "  </tbody>\n",
       "</table>\n",
       "<p>5 rows × 23 columns</p>\n",
       "</div>"
      ],
      "text/plain": [
       "         date            cmname    unit               category  price  \\\n",
       "1  2016-01-15  Bananas - Retail  1.3 KG  vegetables and fruits  250.0   \n",
       "2  2016-02-15  Bananas - Retail  1.3 KG  vegetables and fruits  250.0   \n",
       "3  2016-03-15  Bananas - Retail  1.3 KG  vegetables and fruits  250.0   \n",
       "4  2016-04-15  Bananas - Retail  1.3 KG  vegetables and fruits  250.0   \n",
       "5  2016-05-15  Bananas - Retail  1.3 KG  vegetables and fruits  250.0   \n",
       "\n",
       "  currency country admname adm1id mktname  ...  umid catid   sn  default year  \\\n",
       "1      NaN     NaN     NaN    NaN     NaN  ...   NaN     4  NaN      NaN  NaN   \n",
       "2      NaN     NaN     NaN    NaN     NaN  ...   NaN     4  NaN      NaN  NaN   \n",
       "3      NaN     NaN     NaN    NaN     NaN  ...   NaN     4  NaN      NaN  NaN   \n",
       "4      NaN     NaN     NaN    NaN     NaN  ...   NaN     4  NaN      NaN  NaN   \n",
       "5      NaN     NaN     NaN    NaN     NaN  ...   NaN     4  NaN      NaN  NaN   \n",
       "\n",
       "                       label  cmnameshort  scaling interpolated   x  \n",
       "1  Bananas - Retail (1.3 KG)      Bananas      1.0          1.0 NaN  \n",
       "2  Bananas - Retail (1.3 KG)      Bananas      1.0          1.0 NaN  \n",
       "3  Bananas - Retail (1.3 KG)      Bananas      1.0          1.0 NaN  \n",
       "4  Bananas - Retail (1.3 KG)      Bananas      1.0          1.0 NaN  \n",
       "5  Bananas - Retail (1.3 KG)      Bananas      1.0          1.0 NaN  \n",
       "\n",
       "[5 rows x 23 columns]"
      ]
     },
     "execution_count": 8,
     "metadata": {},
     "output_type": "execute_result"
    }
   ],
   "source": [
    "food_df.head()"
   ]
  },
  {
   "cell_type": "code",
   "execution_count": 9,
   "metadata": {},
   "outputs": [
    {
     "data": {
      "text/plain": [
       "date               0\n",
       "cmname             0\n",
       "unit               0\n",
       "category           0\n",
       "price              0\n",
       "currency        1397\n",
       "country         1397\n",
       "admname         1397\n",
       "adm1id          1397\n",
       "mktname         1397\n",
       "mktid           1397\n",
       "cmid               0\n",
       "ptid            1397\n",
       "umid            1397\n",
       "catid              0\n",
       "sn              1397\n",
       "default         4636\n",
       "year            1397\n",
       "label              0\n",
       "cmnameshort        0\n",
       "scaling            0\n",
       "interpolated       0\n",
       "x               1397\n",
       "dtype: int64"
      ]
     },
     "execution_count": 9,
     "metadata": {},
     "output_type": "execute_result"
    }
   ],
   "source": [
    "#check the missing values\n",
    "food_df.isnull().sum()"
   ]
  },
  {
   "cell_type": "code",
   "execution_count": 10,
   "metadata": {},
   "outputs": [],
   "source": [
    "# pull our need columns\n",
    "new_food_df = food_df[['date','cmname','unit','category','price']]"
   ]
  },
  {
   "cell_type": "code",
   "execution_count": 11,
   "metadata": {},
   "outputs": [
    {
     "data": {
      "text/plain": [
       "date        0\n",
       "cmname      0\n",
       "unit        0\n",
       "category    0\n",
       "price       0\n",
       "dtype: int64"
      ]
     },
     "execution_count": 11,
     "metadata": {},
     "output_type": "execute_result"
    }
   ],
   "source": [
    "# check for missinf values in new values\n",
    "new_food_df.isnull().sum()"
   ]
  },
  {
   "cell_type": "code",
   "execution_count": 12,
   "metadata": {},
   "outputs": [
    {
     "name": "stderr",
     "output_type": "stream",
     "text": [
      "/Users/muneerah/opt/anaconda3/lib/python3.8/site-packages/pandas/core/frame.py:4125: SettingWithCopyWarning: \n",
      "A value is trying to be set on a copy of a slice from a DataFrame\n",
      "\n",
      "See the caveats in the documentation: https://pandas.pydata.org/pandas-docs/stable/user_guide/indexing.html#returning-a-view-versus-a-copy\n",
      "  return super().rename(\n"
     ]
    }
   ],
   "source": [
    "# rename columns\n",
    "new_food_df.rename(columns={\"cmname\":\"commodity_name\"}, inplace=True)"
   ]
  },
  {
   "cell_type": "code",
   "execution_count": 13,
   "metadata": {},
   "outputs": [
    {
     "data": {
      "text/plain": [
       "array(['Bananas - Retail', 'Beans (red) - Retail',\n",
       "       'Beans (white) - Retail', 'Bread - Retail',\n",
       "       'Cassava meal (gari, yellow) - Retail',\n",
       "       'Cassava meal (gari, yellow) - Wholesale',\n",
       "       'Cowpeas (brown) - Retail', 'Cowpeas (brown) - Wholesale',\n",
       "       'Cowpeas (white) - Retail', 'Cowpeas (white) - Wholesale',\n",
       "       'Cowpeas - Retail', 'Eggs - Retail', 'Fish - Retail',\n",
       "       'Gari (white) - Retail', 'Gari (white) - Wholesale',\n",
       "       'Groundnuts (shelled) - Retail',\n",
       "       'Groundnuts (shelled) - Wholesale', 'Groundnuts - Retail',\n",
       "       'Maize (white) - Retail', 'Maize (white) - Wholesale',\n",
       "       'Maize (yellow) - Retail', 'Maize (yellow) - Wholesale',\n",
       "       'Maize - Wholesale', 'Maize flour - Retail',\n",
       "       'Meat (beef) - Retail', 'Meat (goat) - Retail', 'Milk - Retail',\n",
       "       'Millet - Retail', 'Millet - Wholesale', 'Oil (palm) - Retail',\n",
       "       'Oil (palm) - Wholesale', 'Oil (vegetable) - Retail',\n",
       "       'Onions - Retail', 'Oranges - Retail', 'Rice (imported) - Retail',\n",
       "       'Rice (imported) - Wholesale', 'Rice (local) - Retail',\n",
       "       'Rice (local) - Wholesale', 'Rice (milled, local) - Wholesale',\n",
       "       'Salt - Retail', 'Sorghum (brown) - Retail',\n",
       "       'Sorghum (brown) - Wholesale', 'Sorghum (white) - Retail',\n",
       "       'Sorghum (white) - Wholesale', 'Sorghum - Retail',\n",
       "       'Sorghum - Wholesale', 'Spinach - Retail', 'Sugar - Retail',\n",
       "       'Tomatoes - Retail', 'Watermelons - Retail',\n",
       "       'Yam (Abuja) - Retail', 'Yam (Abuja) - Wholesale', 'Yam - Retail',\n",
       "       'Yam - Wholesale'], dtype=object)"
      ]
     },
     "execution_count": 13,
     "metadata": {},
     "output_type": "execute_result"
    }
   ],
   "source": [
    "#take a look at the the values in the commodity column\n",
    "new_food_df['commodity_name'].unique()"
   ]
  },
  {
   "cell_type": "code",
   "execution_count": 14,
   "metadata": {},
   "outputs": [],
   "source": [
    "def replace_value(string):\n",
    "    ''' \n",
    "    A function to check if a commodity is in the value and returnthe found commodity\n",
    "    \n",
    "    INPUT: A STRING \n",
    "    OUTPUT : commodity found in string, the string if no commodity is found.\n",
    "    '''\n",
    "    \n",
    "    commodities = ['beans','cassava','cowpeas','gari','groundnuts','maize','meat',\n",
    "                   'millet','oil','onions','rice','salt','sorghum','tomatoes','yam','bananas',\n",
    "                   'spinach','sugar', 'watermelons','oranges', 'milk']\n",
    "    for commodity in commodities:\n",
    "        if commodity in string.lower():\n",
    "            return commodity\n",
    "    return string\n"
   ]
  },
  {
   "cell_type": "code",
   "execution_count": 15,
   "metadata": {},
   "outputs": [
    {
     "name": "stderr",
     "output_type": "stream",
     "text": [
      "<ipython-input-15-3acf3ad1c24c>:2: SettingWithCopyWarning: \n",
      "A value is trying to be set on a copy of a slice from a DataFrame.\n",
      "Try using .loc[row_indexer,col_indexer] = value instead\n",
      "\n",
      "See the caveats in the documentation: https://pandas.pydata.org/pandas-docs/stable/user_guide/indexing.html#returning-a-view-versus-a-copy\n",
      "  new_food_df['commodity_name'] = new_food_df['commodity_name'].apply(replace_value)\n"
     ]
    }
   ],
   "source": [
    "# replace the values with in commodity_name with general common name\n",
    "new_food_df['commodity_name'] = new_food_df['commodity_name'].apply(replace_value)"
   ]
  },
  {
   "cell_type": "code",
   "execution_count": 16,
   "metadata": {},
   "outputs": [
    {
     "data": {
      "text/plain": [
       "array(['bananas', 'beans', 'Bread - Retail', 'cassava', 'cowpeas',\n",
       "       'Eggs - Retail', 'Fish - Retail', 'gari', 'groundnuts', 'maize',\n",
       "       'meat', 'milk', 'millet', 'oil', 'onions', 'oranges', 'rice',\n",
       "       'salt', 'sorghum', 'spinach', 'sugar', 'tomatoes', 'watermelons',\n",
       "       'yam'], dtype=object)"
      ]
     },
     "execution_count": 16,
     "metadata": {},
     "output_type": "execute_result"
    }
   ],
   "source": [
    "# check the values in the commodity column\n",
    "new_food_df['commodity_name'].unique()"
   ]
  },
  {
   "cell_type": "code",
   "execution_count": 17,
   "metadata": {},
   "outputs": [
    {
     "name": "stderr",
     "output_type": "stream",
     "text": [
      "<ipython-input-17-9e8782700ae3>:2: SettingWithCopyWarning: \n",
      "A value is trying to be set on a copy of a slice from a DataFrame.\n",
      "Try using .loc[row_indexer,col_indexer] = value instead\n",
      "\n",
      "See the caveats in the documentation: https://pandas.pydata.org/pandas-docs/stable/user_guide/indexing.html#returning-a-view-versus-a-copy\n",
      "  new_food_df['year'] = new_food_df['date'].apply(lambda x: str(x)[:4])\n"
     ]
    }
   ],
   "source": [
    "#create a column 'year'\n",
    "new_food_df['year'] = new_food_df['date'].apply(lambda x: str(x)[:4])"
   ]
  },
  {
   "cell_type": "code",
   "execution_count": 18,
   "metadata": {},
   "outputs": [
    {
     "name": "stderr",
     "output_type": "stream",
     "text": [
      "<ipython-input-18-7adaec0818d8>:2: SettingWithCopyWarning: \n",
      "A value is trying to be set on a copy of a slice from a DataFrame.\n",
      "Try using .loc[row_indexer,col_indexer] = value instead\n",
      "\n",
      "See the caveats in the documentation: https://pandas.pydata.org/pandas-docs/stable/user_guide/indexing.html#returning-a-view-versus-a-copy\n",
      "  new_food_df['month'] = new_food_df['date'].apply(lambda x: str(x)[:7])\n"
     ]
    }
   ],
   "source": [
    "#create a column 'month'\n",
    "new_food_df['month'] = new_food_df['date'].apply(lambda x: str(x)[:7])"
   ]
  },
  {
   "cell_type": "code",
   "execution_count": 19,
   "metadata": {},
   "outputs": [
    {
     "data": {
      "text/html": [
       "<div>\n",
       "<style scoped>\n",
       "    .dataframe tbody tr th:only-of-type {\n",
       "        vertical-align: middle;\n",
       "    }\n",
       "\n",
       "    .dataframe tbody tr th {\n",
       "        vertical-align: top;\n",
       "    }\n",
       "\n",
       "    .dataframe thead th {\n",
       "        text-align: right;\n",
       "    }\n",
       "</style>\n",
       "<table border=\"1\" class=\"dataframe\">\n",
       "  <thead>\n",
       "    <tr style=\"text-align: right;\">\n",
       "      <th></th>\n",
       "      <th>date</th>\n",
       "      <th>commodity_name</th>\n",
       "      <th>unit</th>\n",
       "      <th>category</th>\n",
       "      <th>price</th>\n",
       "      <th>year</th>\n",
       "      <th>month</th>\n",
       "    </tr>\n",
       "  </thead>\n",
       "  <tbody>\n",
       "    <tr>\n",
       "      <th>1</th>\n",
       "      <td>2016-01-15</td>\n",
       "      <td>bananas</td>\n",
       "      <td>1.3 KG</td>\n",
       "      <td>vegetables and fruits</td>\n",
       "      <td>250.0</td>\n",
       "      <td>2016</td>\n",
       "      <td>2016-01</td>\n",
       "    </tr>\n",
       "    <tr>\n",
       "      <th>2</th>\n",
       "      <td>2016-02-15</td>\n",
       "      <td>bananas</td>\n",
       "      <td>1.3 KG</td>\n",
       "      <td>vegetables and fruits</td>\n",
       "      <td>250.0</td>\n",
       "      <td>2016</td>\n",
       "      <td>2016-02</td>\n",
       "    </tr>\n",
       "    <tr>\n",
       "      <th>3</th>\n",
       "      <td>2016-03-15</td>\n",
       "      <td>bananas</td>\n",
       "      <td>1.3 KG</td>\n",
       "      <td>vegetables and fruits</td>\n",
       "      <td>250.0</td>\n",
       "      <td>2016</td>\n",
       "      <td>2016-03</td>\n",
       "    </tr>\n",
       "    <tr>\n",
       "      <th>4</th>\n",
       "      <td>2016-04-15</td>\n",
       "      <td>bananas</td>\n",
       "      <td>1.3 KG</td>\n",
       "      <td>vegetables and fruits</td>\n",
       "      <td>250.0</td>\n",
       "      <td>2016</td>\n",
       "      <td>2016-04</td>\n",
       "    </tr>\n",
       "    <tr>\n",
       "      <th>5</th>\n",
       "      <td>2016-05-15</td>\n",
       "      <td>bananas</td>\n",
       "      <td>1.3 KG</td>\n",
       "      <td>vegetables and fruits</td>\n",
       "      <td>250.0</td>\n",
       "      <td>2016</td>\n",
       "      <td>2016-05</td>\n",
       "    </tr>\n",
       "  </tbody>\n",
       "</table>\n",
       "</div>"
      ],
      "text/plain": [
       "         date commodity_name    unit               category  price  year  \\\n",
       "1  2016-01-15        bananas  1.3 KG  vegetables and fruits  250.0  2016   \n",
       "2  2016-02-15        bananas  1.3 KG  vegetables and fruits  250.0  2016   \n",
       "3  2016-03-15        bananas  1.3 KG  vegetables and fruits  250.0  2016   \n",
       "4  2016-04-15        bananas  1.3 KG  vegetables and fruits  250.0  2016   \n",
       "5  2016-05-15        bananas  1.3 KG  vegetables and fruits  250.0  2016   \n",
       "\n",
       "     month  \n",
       "1  2016-01  \n",
       "2  2016-02  \n",
       "3  2016-03  \n",
       "4  2016-04  \n",
       "5  2016-05  "
      ]
     },
     "execution_count": 19,
     "metadata": {},
     "output_type": "execute_result"
    }
   ],
   "source": [
    "new_food_df.head()"
   ]
  },
  {
   "cell_type": "code",
   "execution_count": 20,
   "metadata": {},
   "outputs": [],
   "source": [
    "# pick out just the rice \n",
    "rice_df = new_food_df[new_food_df['commodity_name']=='rice']"
   ]
  },
  {
   "cell_type": "code",
   "execution_count": 21,
   "metadata": {},
   "outputs": [
    {
     "data": {
      "text/html": [
       "<div>\n",
       "<style scoped>\n",
       "    .dataframe tbody tr th:only-of-type {\n",
       "        vertical-align: middle;\n",
       "    }\n",
       "\n",
       "    .dataframe tbody tr th {\n",
       "        vertical-align: top;\n",
       "    }\n",
       "\n",
       "    .dataframe thead th {\n",
       "        text-align: right;\n",
       "    }\n",
       "</style>\n",
       "<table border=\"1\" class=\"dataframe\">\n",
       "  <thead>\n",
       "    <tr style=\"text-align: right;\">\n",
       "      <th></th>\n",
       "      <th>date</th>\n",
       "      <th>commodity_name</th>\n",
       "      <th>unit</th>\n",
       "      <th>category</th>\n",
       "      <th>price</th>\n",
       "      <th>year</th>\n",
       "      <th>month</th>\n",
       "    </tr>\n",
       "  </thead>\n",
       "  <tbody>\n",
       "    <tr>\n",
       "      <th>2868</th>\n",
       "      <td>2016-01-15</td>\n",
       "      <td>rice</td>\n",
       "      <td>1.4 KG</td>\n",
       "      <td>cereals and tubers</td>\n",
       "      <td>517.0</td>\n",
       "      <td>2016</td>\n",
       "      <td>2016-01</td>\n",
       "    </tr>\n",
       "    <tr>\n",
       "      <th>2869</th>\n",
       "      <td>2016-02-15</td>\n",
       "      <td>rice</td>\n",
       "      <td>1.4 KG</td>\n",
       "      <td>cereals and tubers</td>\n",
       "      <td>517.0</td>\n",
       "      <td>2016</td>\n",
       "      <td>2016-02</td>\n",
       "    </tr>\n",
       "    <tr>\n",
       "      <th>2870</th>\n",
       "      <td>2016-03-15</td>\n",
       "      <td>rice</td>\n",
       "      <td>1.4 KG</td>\n",
       "      <td>cereals and tubers</td>\n",
       "      <td>517.0</td>\n",
       "      <td>2016</td>\n",
       "      <td>2016-03</td>\n",
       "    </tr>\n",
       "    <tr>\n",
       "      <th>2871</th>\n",
       "      <td>2016-04-15</td>\n",
       "      <td>rice</td>\n",
       "      <td>1.4 KG</td>\n",
       "      <td>cereals and tubers</td>\n",
       "      <td>517.0</td>\n",
       "      <td>2016</td>\n",
       "      <td>2016-04</td>\n",
       "    </tr>\n",
       "    <tr>\n",
       "      <th>2872</th>\n",
       "      <td>2016-05-15</td>\n",
       "      <td>rice</td>\n",
       "      <td>1.4 KG</td>\n",
       "      <td>cereals and tubers</td>\n",
       "      <td>517.0</td>\n",
       "      <td>2016</td>\n",
       "      <td>2016-05</td>\n",
       "    </tr>\n",
       "  </tbody>\n",
       "</table>\n",
       "</div>"
      ],
      "text/plain": [
       "            date commodity_name    unit            category  price  year  \\\n",
       "2868  2016-01-15           rice  1.4 KG  cereals and tubers  517.0  2016   \n",
       "2869  2016-02-15           rice  1.4 KG  cereals and tubers  517.0  2016   \n",
       "2870  2016-03-15           rice  1.4 KG  cereals and tubers  517.0  2016   \n",
       "2871  2016-04-15           rice  1.4 KG  cereals and tubers  517.0  2016   \n",
       "2872  2016-05-15           rice  1.4 KG  cereals and tubers  517.0  2016   \n",
       "\n",
       "        month  \n",
       "2868  2016-01  \n",
       "2869  2016-02  \n",
       "2870  2016-03  \n",
       "2871  2016-04  \n",
       "2872  2016-05  "
      ]
     },
     "execution_count": 21,
     "metadata": {},
     "output_type": "execute_result"
    }
   ],
   "source": [
    "rice_df.head()"
   ]
  },
  {
   "cell_type": "code",
   "execution_count": 22,
   "metadata": {},
   "outputs": [
    {
     "data": {
      "text/plain": [
       "(549, 7)"
      ]
     },
     "execution_count": 22,
     "metadata": {},
     "output_type": "execute_result"
    }
   ],
   "source": [
    "rice_df.shape"
   ]
  },
  {
   "cell_type": "code",
   "execution_count": 23,
   "metadata": {},
   "outputs": [
    {
     "data": {
      "text/plain": [
       "array(['1.4 KG', 'KG', '1/100 50 KG', '1/100 100 KG'], dtype=object)"
      ]
     },
     "execution_count": 23,
     "metadata": {},
     "output_type": "execute_result"
    }
   ],
   "source": [
    "# check the unit values \n",
    "rice_df['unit'].unique()"
   ]
  },
  {
   "cell_type": "markdown",
   "metadata": {},
   "source": [
    "From the above, 'KG' is be 1KG, '1/100 50 KG' is 0.5KG, and '1/100 100 KG is 1KG', therefore each will be replaced respectively, create a column 'unit(kg)' with that\n"
   ]
  },
  {
   "cell_type": "code",
   "execution_count": 24,
   "metadata": {},
   "outputs": [
    {
     "name": "stderr",
     "output_type": "stream",
     "text": [
      "<ipython-input-24-0a16ce0f15c8>:1: SettingWithCopyWarning: \n",
      "A value is trying to be set on a copy of a slice from a DataFrame.\n",
      "Try using .loc[row_indexer,col_indexer] = value instead\n",
      "\n",
      "See the caveats in the documentation: https://pandas.pydata.org/pandas-docs/stable/user_guide/indexing.html#returning-a-view-versus-a-copy\n",
      "  rice_df['unit in kg'] = rice_df['unit'].replace({\"1.4 KG\": 1.4, 'KG':1, '1/100 50 KG': 0.5, '1/100 100 KG':1})\n"
     ]
    }
   ],
   "source": [
    "rice_df['unit in kg'] = rice_df['unit'].replace({\"1.4 KG\": 1.4, 'KG':1, '1/100 50 KG': 0.5, '1/100 100 KG':1})"
   ]
  },
  {
   "cell_type": "markdown",
   "metadata": {},
   "source": [
    "create a 'price per kg' column with the 'price' and 'units in kg' column"
   ]
  },
  {
   "cell_type": "code",
   "execution_count": 25,
   "metadata": {},
   "outputs": [
    {
     "name": "stderr",
     "output_type": "stream",
     "text": [
      "<ipython-input-25-d2d232264199>:1: SettingWithCopyWarning: \n",
      "A value is trying to be set on a copy of a slice from a DataFrame.\n",
      "Try using .loc[row_indexer,col_indexer] = value instead\n",
      "\n",
      "See the caveats in the documentation: https://pandas.pydata.org/pandas-docs/stable/user_guide/indexing.html#returning-a-view-versus-a-copy\n",
      "  rice_df['price per kg'] = rice_df['price'].astype('float')/rice_df['unit in kg']\n"
     ]
    }
   ],
   "source": [
    "rice_df['price per kg'] = rice_df['price'].astype('float')/rice_df['unit in kg']"
   ]
  },
  {
   "cell_type": "code",
   "execution_count": 26,
   "metadata": {},
   "outputs": [
    {
     "data": {
      "text/html": [
       "<div>\n",
       "<style scoped>\n",
       "    .dataframe tbody tr th:only-of-type {\n",
       "        vertical-align: middle;\n",
       "    }\n",
       "\n",
       "    .dataframe tbody tr th {\n",
       "        vertical-align: top;\n",
       "    }\n",
       "\n",
       "    .dataframe thead th {\n",
       "        text-align: right;\n",
       "    }\n",
       "</style>\n",
       "<table border=\"1\" class=\"dataframe\">\n",
       "  <thead>\n",
       "    <tr style=\"text-align: right;\">\n",
       "      <th></th>\n",
       "      <th>date</th>\n",
       "      <th>commodity_name</th>\n",
       "      <th>unit</th>\n",
       "      <th>category</th>\n",
       "      <th>price</th>\n",
       "      <th>year</th>\n",
       "      <th>month</th>\n",
       "      <th>unit in kg</th>\n",
       "      <th>price per kg</th>\n",
       "    </tr>\n",
       "  </thead>\n",
       "  <tbody>\n",
       "    <tr>\n",
       "      <th>2868</th>\n",
       "      <td>2016-01-15</td>\n",
       "      <td>rice</td>\n",
       "      <td>1.4 KG</td>\n",
       "      <td>cereals and tubers</td>\n",
       "      <td>517.0</td>\n",
       "      <td>2016</td>\n",
       "      <td>2016-01</td>\n",
       "      <td>1.4</td>\n",
       "      <td>369.285714</td>\n",
       "    </tr>\n",
       "    <tr>\n",
       "      <th>2869</th>\n",
       "      <td>2016-02-15</td>\n",
       "      <td>rice</td>\n",
       "      <td>1.4 KG</td>\n",
       "      <td>cereals and tubers</td>\n",
       "      <td>517.0</td>\n",
       "      <td>2016</td>\n",
       "      <td>2016-02</td>\n",
       "      <td>1.4</td>\n",
       "      <td>369.285714</td>\n",
       "    </tr>\n",
       "    <tr>\n",
       "      <th>2870</th>\n",
       "      <td>2016-03-15</td>\n",
       "      <td>rice</td>\n",
       "      <td>1.4 KG</td>\n",
       "      <td>cereals and tubers</td>\n",
       "      <td>517.0</td>\n",
       "      <td>2016</td>\n",
       "      <td>2016-03</td>\n",
       "      <td>1.4</td>\n",
       "      <td>369.285714</td>\n",
       "    </tr>\n",
       "    <tr>\n",
       "      <th>2871</th>\n",
       "      <td>2016-04-15</td>\n",
       "      <td>rice</td>\n",
       "      <td>1.4 KG</td>\n",
       "      <td>cereals and tubers</td>\n",
       "      <td>517.0</td>\n",
       "      <td>2016</td>\n",
       "      <td>2016-04</td>\n",
       "      <td>1.4</td>\n",
       "      <td>369.285714</td>\n",
       "    </tr>\n",
       "    <tr>\n",
       "      <th>2872</th>\n",
       "      <td>2016-05-15</td>\n",
       "      <td>rice</td>\n",
       "      <td>1.4 KG</td>\n",
       "      <td>cereals and tubers</td>\n",
       "      <td>517.0</td>\n",
       "      <td>2016</td>\n",
       "      <td>2016-05</td>\n",
       "      <td>1.4</td>\n",
       "      <td>369.285714</td>\n",
       "    </tr>\n",
       "  </tbody>\n",
       "</table>\n",
       "</div>"
      ],
      "text/plain": [
       "            date commodity_name    unit            category  price  year  \\\n",
       "2868  2016-01-15           rice  1.4 KG  cereals and tubers  517.0  2016   \n",
       "2869  2016-02-15           rice  1.4 KG  cereals and tubers  517.0  2016   \n",
       "2870  2016-03-15           rice  1.4 KG  cereals and tubers  517.0  2016   \n",
       "2871  2016-04-15           rice  1.4 KG  cereals and tubers  517.0  2016   \n",
       "2872  2016-05-15           rice  1.4 KG  cereals and tubers  517.0  2016   \n",
       "\n",
       "        month  unit in kg  price per kg  \n",
       "2868  2016-01         1.4    369.285714  \n",
       "2869  2016-02         1.4    369.285714  \n",
       "2870  2016-03         1.4    369.285714  \n",
       "2871  2016-04         1.4    369.285714  \n",
       "2872  2016-05         1.4    369.285714  "
      ]
     },
     "execution_count": 26,
     "metadata": {},
     "output_type": "execute_result"
    }
   ],
   "source": [
    "rice_df.head()"
   ]
  },
  {
   "cell_type": "code",
   "execution_count": 27,
   "metadata": {},
   "outputs": [],
   "source": [
    "# select final columns to be used for analysis\n",
    "rice_DF = rice_df[['date','price per kg']]"
   ]
  },
  {
   "cell_type": "code",
   "execution_count": 28,
   "metadata": {},
   "outputs": [
    {
     "data": {
      "text/plain": [
       "(549, 2)"
      ]
     },
     "execution_count": 28,
     "metadata": {},
     "output_type": "execute_result"
    }
   ],
   "source": [
    "rice_DF.shape"
   ]
  },
  {
   "cell_type": "code",
   "execution_count": 29,
   "metadata": {},
   "outputs": [
    {
     "data": {
      "image/png": "[encoded data removed]",
      "text/plain": [
       "<Figure size 1080x432 with 1 Axes>"
      ]
     },
     "metadata": {
      "needs_background": "light"
     },
     "output_type": "display_data"
    }
   ],
   "source": [
    "fig, ax = plt.subplots(figsize=(15,6))\n",
    "rice_DF.plot(ax=ax);"
   ]
  },
  {
   "cell_type": "code",
   "execution_count": 30,
   "metadata": {},
   "outputs": [
    {
     "data": {
      "image/png": "[encoded data removed]",
      "text/plain": [
       "<Figure size 1080x432 with 1 Axes>"
      ]
     },
     "metadata": {
      "needs_background": "light"
     },
     "output_type": "display_data"
    }
   ],
   "source": [
    "fig, ax = plt.subplots(figsize=(15,6))\n",
    "\n",
    "trend = rice_df.groupby('month')['price per kg'].median()\n",
    "trend = trend.reset_index()\n",
    "\n",
    "sns.lineplot(x='month', y='price per kg', data=trend, ci=None, markers=True, ax=ax)\n",
    "ax.set_xticks(ticks=trend['month'])\n",
    "ax.set_xticklabels(trend['month'], rotation=90, ha=\"right\")\n",
    "\n",
    "plt.show()"
   ]
  },
  {
   "cell_type": "markdown",
   "metadata": {},
   "source": [
    "the above shows the flow of the price from 2016- 2021.\n",
    "\n",
    "There was a spike in the price sometimes around September 2020"
   ]
  },
  {
   "cell_type": "code",
   "execution_count": 31,
   "metadata": {},
   "outputs": [
    {
     "data": {
      "image/png": "[encoded data removed]",
      "text/plain": [
       "<Figure size 432x288 with 1 Axes>"
      ]
     },
     "metadata": {
      "needs_background": "light"
     },
     "output_type": "display_data"
    }
   ],
   "source": [
    "ax = sns.countplot(x=\"year\", data=rice_df);\n",
    "plt.xticks(rotation=90)\n",
    "ax.set_title('Count Plot For cmname', fontsize=14)\n",
    "plt.show()"
   ]
  },
  {
   "cell_type": "markdown",
   "metadata": {},
   "source": [
    "The above shows the the content of the date series:\n",
    "same amount froom 2016 - 2020 and few data for 2021"
   ]
  },
  {
   "cell_type": "code",
   "execution_count": 32,
   "metadata": {},
   "outputs": [
    {
     "data": {
      "text/html": [
       "<div>\n",
       "<style scoped>\n",
       "    .dataframe tbody tr th:only-of-type {\n",
       "        vertical-align: middle;\n",
       "    }\n",
       "\n",
       "    .dataframe tbody tr th {\n",
       "        vertical-align: top;\n",
       "    }\n",
       "\n",
       "    .dataframe thead th {\n",
       "        text-align: right;\n",
       "    }\n",
       "</style>\n",
       "<table border=\"1\" class=\"dataframe\">\n",
       "  <thead>\n",
       "    <tr style=\"text-align: right;\">\n",
       "      <th></th>\n",
       "      <th>date</th>\n",
       "      <th>price per kg</th>\n",
       "    </tr>\n",
       "  </thead>\n",
       "  <tbody>\n",
       "    <tr>\n",
       "      <th>2868</th>\n",
       "      <td>2016-01-15</td>\n",
       "      <td>369.285714</td>\n",
       "    </tr>\n",
       "    <tr>\n",
       "      <th>2869</th>\n",
       "      <td>2016-02-15</td>\n",
       "      <td>369.285714</td>\n",
       "    </tr>\n",
       "    <tr>\n",
       "      <th>2870</th>\n",
       "      <td>2016-03-15</td>\n",
       "      <td>369.285714</td>\n",
       "    </tr>\n",
       "    <tr>\n",
       "      <th>2871</th>\n",
       "      <td>2016-04-15</td>\n",
       "      <td>369.285714</td>\n",
       "    </tr>\n",
       "    <tr>\n",
       "      <th>2872</th>\n",
       "      <td>2016-05-15</td>\n",
       "      <td>369.285714</td>\n",
       "    </tr>\n",
       "  </tbody>\n",
       "</table>\n",
       "</div>"
      ],
      "text/plain": [
       "            date  price per kg\n",
       "2868  2016-01-15    369.285714\n",
       "2869  2016-02-15    369.285714\n",
       "2870  2016-03-15    369.285714\n",
       "2871  2016-04-15    369.285714\n",
       "2872  2016-05-15    369.285714"
      ]
     },
     "execution_count": 32,
     "metadata": {},
     "output_type": "execute_result"
    }
   ],
   "source": [
    "rice_DF.head()"
   ]
  },
  {
   "cell_type": "code",
   "execution_count": 33,
   "metadata": {},
   "outputs": [],
   "source": [
    "# create a df with median prices of each month\n",
    "\n",
    "def get_median(year):\n",
    "    DF = pd.DataFrame()\n",
    "    days = ['01','02','03','04','05','06','07','08','09','10','11','12']\n",
    "    for day in days:\n",
    "        month = year+'-'+day\n",
    "        month_df =rice_df[rice_df['month'] == month].sort_values(by=['price per kg'])\n",
    "        median_price = month_df['price per kg'].median()\n",
    "        new_df = pd.DataFrame([{'month': month, 'median_price':median_price}])\n",
    "        DF=pd.concat([DF, new_df])\n",
    "    return DF\n"
   ]
  },
  {
   "cell_type": "code",
   "execution_count": 34,
   "metadata": {},
   "outputs": [],
   "source": [
    "#get the median value of each year.\n",
    "rice_2016 = get_median('2016')\n",
    "rice_2017 = get_median('2017')\n",
    "rice_2018 = get_median('2018')\n",
    "rice_2019 = get_median('2019')\n",
    "rice_2020 = get_median('2020')\n",
    "rice_2021 = get_median('2021')"
   ]
  },
  {
   "cell_type": "markdown",
   "metadata": {},
   "source": [
    "Merge the median of each year to make a new dataFrame"
   ]
  },
  {
   "cell_type": "code",
   "execution_count": 35,
   "metadata": {},
   "outputs": [],
   "source": [
    "final_DF = pd.concat([rice_2016,rice_2017,rice_2018,rice_2019,rice_2020,rice_2021])"
   ]
  },
  {
   "cell_type": "code",
   "execution_count": 36,
   "metadata": {},
   "outputs": [
    {
     "data": {
      "text/plain": [
       "(72, 2)"
      ]
     },
     "execution_count": 36,
     "metadata": {},
     "output_type": "execute_result"
    }
   ],
   "source": [
    "final_DF.shape"
   ]
  },
  {
   "cell_type": "code",
   "execution_count": 38,
   "metadata": {},
   "outputs": [
    {
     "data": {
      "text/plain": [
       "month            0\n",
       "median_price    11\n",
       "dtype: int64"
      ]
     },
     "execution_count": 38,
     "metadata": {},
     "output_type": "execute_result"
    }
   ],
   "source": [
    "# check for misson values\n",
    "final_DF.isnull().sum()"
   ]
  },
  {
   "cell_type": "code",
   "execution_count": 39,
   "metadata": {},
   "outputs": [
    {
     "data": {
      "text/plain": [
       "month           0\n",
       "median_price    0\n",
       "dtype: int64"
      ]
     },
     "execution_count": 39,
     "metadata": {},
     "output_type": "execute_result"
    }
   ],
   "source": [
    "#drop missing values\n",
    "final_DF.dropna(axis=0, inplace=True)\n",
    "final_DF.isnull().sum()"
   ]
  },
  {
   "cell_type": "code",
   "execution_count": 40,
   "metadata": {},
   "outputs": [
    {
     "data": {
      "text/html": [
       "<div>\n",
       "<style scoped>\n",
       "    .dataframe tbody tr th:only-of-type {\n",
       "        vertical-align: middle;\n",
       "    }\n",
       "\n",
       "    .dataframe tbody tr th {\n",
       "        vertical-align: top;\n",
       "    }\n",
       "\n",
       "    .dataframe thead th {\n",
       "        text-align: right;\n",
       "    }\n",
       "</style>\n",
       "<table border=\"1\" class=\"dataframe\">\n",
       "  <thead>\n",
       "    <tr style=\"text-align: right;\">\n",
       "      <th></th>\n",
       "      <th>month</th>\n",
       "      <th>median_price</th>\n",
       "    </tr>\n",
       "  </thead>\n",
       "  <tbody>\n",
       "    <tr>\n",
       "      <th>0</th>\n",
       "      <td>2016-01</td>\n",
       "      <td>216.81</td>\n",
       "    </tr>\n",
       "    <tr>\n",
       "      <th>1</th>\n",
       "      <td>2016-02</td>\n",
       "      <td>216.81</td>\n",
       "    </tr>\n",
       "    <tr>\n",
       "      <th>2</th>\n",
       "      <td>2016-03</td>\n",
       "      <td>222.96</td>\n",
       "    </tr>\n",
       "    <tr>\n",
       "      <th>3</th>\n",
       "      <td>2016-04</td>\n",
       "      <td>239.00</td>\n",
       "    </tr>\n",
       "    <tr>\n",
       "      <th>4</th>\n",
       "      <td>2016-05</td>\n",
       "      <td>265.00</td>\n",
       "    </tr>\n",
       "  </tbody>\n",
       "</table>\n",
       "</div>"
      ],
      "text/plain": [
       "     month  median_price\n",
       "0  2016-01        216.81\n",
       "1  2016-02        216.81\n",
       "2  2016-03        222.96\n",
       "3  2016-04        239.00\n",
       "4  2016-05        265.00"
      ]
     },
     "execution_count": 40,
     "metadata": {},
     "output_type": "execute_result"
    }
   ],
   "source": [
    "index = pd.Series([i for i in range(final_DF.shape[0])])\n",
    "final_DF.set_index(index, inplace=True)\n",
    "final_DF.head()"
   ]
  },
  {
   "cell_type": "code",
   "execution_count": 41,
   "metadata": {},
   "outputs": [
    {
     "data": {
      "text/plain": [
       "count     61.000000\n",
       "mean     316.890856\n",
       "std       43.146914\n",
       "min      216.810000\n",
       "25%      293.500000\n",
       "50%      316.409538\n",
       "75%      341.500000\n",
       "max      428.571429\n",
       "Name: median_price, dtype: float64"
      ]
     },
     "execution_count": 41,
     "metadata": {},
     "output_type": "execute_result"
    }
   ],
   "source": [
    "final_DF['median_price'].describe()"
   ]
  },
  {
   "cell_type": "code",
   "execution_count": 42,
   "metadata": {},
   "outputs": [],
   "source": [
    "final_DF['month'] = pd.to_datetime(final_DF['month'])\n",
    "final_DF.rename(columns={\"month\":\"date\"}, inplace=True)"
   ]
  },
  {
   "cell_type": "code",
   "execution_count": 43,
   "metadata": {},
   "outputs": [
    {
     "data": {
      "text/html": [
       "<div>\n",
       "<style scoped>\n",
       "    .dataframe tbody tr th:only-of-type {\n",
       "        vertical-align: middle;\n",
       "    }\n",
       "\n",
       "    .dataframe tbody tr th {\n",
       "        vertical-align: top;\n",
       "    }\n",
       "\n",
       "    .dataframe thead th {\n",
       "        text-align: right;\n",
       "    }\n",
       "</style>\n",
       "<table border=\"1\" class=\"dataframe\">\n",
       "  <thead>\n",
       "    <tr style=\"text-align: right;\">\n",
       "      <th></th>\n",
       "      <th>date</th>\n",
       "      <th>median_price</th>\n",
       "    </tr>\n",
       "  </thead>\n",
       "  <tbody>\n",
       "    <tr>\n",
       "      <th>0</th>\n",
       "      <td>2016-01-01</td>\n",
       "      <td>216.81</td>\n",
       "    </tr>\n",
       "    <tr>\n",
       "      <th>1</th>\n",
       "      <td>2016-02-01</td>\n",
       "      <td>216.81</td>\n",
       "    </tr>\n",
       "    <tr>\n",
       "      <th>2</th>\n",
       "      <td>2016-03-01</td>\n",
       "      <td>222.96</td>\n",
       "    </tr>\n",
       "    <tr>\n",
       "      <th>3</th>\n",
       "      <td>2016-04-01</td>\n",
       "      <td>239.00</td>\n",
       "    </tr>\n",
       "    <tr>\n",
       "      <th>4</th>\n",
       "      <td>2016-05-01</td>\n",
       "      <td>265.00</td>\n",
       "    </tr>\n",
       "  </tbody>\n",
       "</table>\n",
       "</div>"
      ],
      "text/plain": [
       "        date  median_price\n",
       "0 2016-01-01        216.81\n",
       "1 2016-02-01        216.81\n",
       "2 2016-03-01        222.96\n",
       "3 2016-04-01        239.00\n",
       "4 2016-05-01        265.00"
      ]
     },
     "execution_count": 43,
     "metadata": {},
     "output_type": "execute_result"
    }
   ],
   "source": [
    "final_DF.head()"
   ]
  },
  {
   "cell_type": "code",
   "execution_count": 44,
   "metadata": {},
   "outputs": [
    {
     "data": {
      "text/plain": [
       "(61, 2)"
      ]
     },
     "execution_count": 44,
     "metadata": {},
     "output_type": "execute_result"
    }
   ],
   "source": [
    "final_DF.shape"
   ]
  },
  {
   "cell_type": "code",
   "execution_count": 44,
   "metadata": {},
   "outputs": [
    {
     "data": {
      "image/png": "[encoded data removed]",
      "text/plain": [
       "<Figure size 1080x360 with 1 Axes>"
      ]
     },
     "metadata": {
      "needs_background": "light"
     },
     "output_type": "display_data"
    }
   ],
   "source": [
    "color_pal = [\"#F8766D\", \"#D39200\", \"#93AA00\", \"#00BA38\", \"#00C19F\", \"#00B9E3\", \"#619CFF\", \"#DB72FB\"]\n",
    "_ = rice_DF.plot(style='.', figsize=(15,5), color=color_pal[0], title='PJM East')"
   ]
  },
  {
   "cell_type": "markdown",
   "metadata": {},
   "source": [
    "graphical representation of the price distributution"
   ]
  },
  {
   "cell_type": "raw",
   "metadata": {},
   "source": []
  },
  {
   "cell_type": "code",
   "execution_count": 46,
   "metadata": {},
   "outputs": [
    {
     "data": {
      "text/html": [
       "<div>\n",
       "<style scoped>\n",
       "    .dataframe tbody tr th:only-of-type {\n",
       "        vertical-align: middle;\n",
       "    }\n",
       "\n",
       "    .dataframe tbody tr th {\n",
       "        vertical-align: top;\n",
       "    }\n",
       "\n",
       "    .dataframe thead th {\n",
       "        text-align: right;\n",
       "    }\n",
       "</style>\n",
       "<table border=\"1\" class=\"dataframe\">\n",
       "  <thead>\n",
       "    <tr style=\"text-align: right;\">\n",
       "      <th></th>\n",
       "      <th>date</th>\n",
       "      <th>median_price</th>\n",
       "    </tr>\n",
       "  </thead>\n",
       "  <tbody>\n",
       "    <tr>\n",
       "      <th>0</th>\n",
       "      <td>2016-01-01</td>\n",
       "      <td>216.81</td>\n",
       "    </tr>\n",
       "    <tr>\n",
       "      <th>1</th>\n",
       "      <td>2016-02-01</td>\n",
       "      <td>216.81</td>\n",
       "    </tr>\n",
       "    <tr>\n",
       "      <th>2</th>\n",
       "      <td>2016-03-01</td>\n",
       "      <td>222.96</td>\n",
       "    </tr>\n",
       "    <tr>\n",
       "      <th>3</th>\n",
       "      <td>2016-04-01</td>\n",
       "      <td>239.00</td>\n",
       "    </tr>\n",
       "    <tr>\n",
       "      <th>4</th>\n",
       "      <td>2016-05-01</td>\n",
       "      <td>265.00</td>\n",
       "    </tr>\n",
       "  </tbody>\n",
       "</table>\n",
       "</div>"
      ],
      "text/plain": [
       "        date  median_price\n",
       "0 2016-01-01        216.81\n",
       "1 2016-02-01        216.81\n",
       "2 2016-03-01        222.96\n",
       "3 2016-04-01        239.00\n",
       "4 2016-05-01        265.00"
      ]
     },
     "execution_count": 46,
     "metadata": {},
     "output_type": "execute_result"
    }
   ],
   "source": [
    "final_DF.head()"
   ]
  },
  {
   "cell_type": "markdown",
   "metadata": {},
   "source": [
    "split data into training and test sets"
   ]
  },
  {
   "cell_type": "code",
   "execution_count": 45,
   "metadata": {},
   "outputs": [],
   "source": [
    "split_date = '2020-06-01'\n",
    "train_data = final_DF.loc[final_DF['date'] <= split_date].copy()\n",
    "test_data = final_DF.loc[final_DF['date'] > split_date].copy()"
   ]
  },
  {
   "cell_type": "code",
   "execution_count": 46,
   "metadata": {},
   "outputs": [],
   "source": [
    "def create_features(df, label=None):\n",
    "    \"\"\"\n",
    "    Creates time series features from datetime index\n",
    "    \"\"\"\n",
    "    df['hour'] = df['date'].dt.hour\n",
    "    df['dayofweek'] = df['date'].dt.dayofweek\n",
    "    df['quarter'] = df['date'].dt.quarter\n",
    "    df['month'] = df['date'].dt.month\n",
    "    df['year'] = df['date'].dt.year\n",
    "    df['dayofyear'] = df['date'].dt.dayofyear\n",
    "    df['dayofmonth'] = df['date'].dt.day\n",
    "    df['weekofyear'] = df['date'].dt.weekofyear\n",
    "    \n",
    "    X = df[['hour','dayofweek','quarter','month','year',\n",
    "           'dayofyear','dayofmonth','weekofyear']]\n",
    "    if label:\n",
    "        y = df[label]\n",
    "        return X, y\n",
    "    return X"
   ]
  },
  {
   "cell_type": "code",
   "execution_count": 47,
   "metadata": {},
   "outputs": [],
   "source": [
    "X_train, y_train = create_features(train_data, label='median_price')\n",
    "X_test, y_test = create_features(test_data, label='median_price')"
   ]
  },
  {
   "cell_type": "code",
   "execution_count": 48,
   "metadata": {},
   "outputs": [
    {
     "data": {
      "text/plain": [
       "XGBRegressor(base_score=0.5, booster='gbtree', colsample_bylevel=1,\n",
       "             colsample_bynode=1, colsample_bytree=1, gamma=0, gpu_id=-1,\n",
       "             importance_type='gain', interaction_constraints='',\n",
       "             learning_rate=0.300000012, max_delta_step=0, max_depth=6,\n",
       "             min_child_weight=1, missing=nan, monotone_constraints='()',\n",
       "             n_estimators=1000, n_jobs=8, num_parallel_tree=1, random_state=0,\n",
       "             reg_alpha=0, reg_lambda=1, scale_pos_weight=1, subsample=1,\n",
       "             tree_method='exact', validate_parameters=1, verbosity=None)"
      ]
     },
     "execution_count": 48,
     "metadata": {},
     "output_type": "execute_result"
    }
   ],
   "source": [
    "#initialise the Xgbr model and train the model\n",
    "reg = xgb.XGBRegressor(n_estimators=1000)\n",
    "reg.fit(X_train, y_train,\n",
    "        eval_set=[(X_train, y_train), (X_test, y_test)],\n",
    "        early_stopping_rounds=50,\n",
    "       verbose=False) # Change verbose to True if you want to see it train"
   ]
  },
  {
   "cell_type": "code",
   "execution_count": 49,
   "metadata": {},
   "outputs": [],
   "source": [
    "#with the trained model, make predictions on the test sets\n",
    "test_data['Prediction'] = reg.predict(X_test)\n",
    "all_data = pd.concat([test_data, train_data], sort=False)"
   ]
  },
  {
   "cell_type": "code",
   "execution_count": 50,
   "metadata": {},
   "outputs": [
    {
     "data": {
      "text/html": [
       "<div>\n",
       "<style scoped>\n",
       "    .dataframe tbody tr th:only-of-type {\n",
       "        vertical-align: middle;\n",
       "    }\n",
       "\n",
       "    .dataframe tbody tr th {\n",
       "        vertical-align: top;\n",
       "    }\n",
       "\n",
       "    .dataframe thead th {\n",
       "        text-align: right;\n",
       "    }\n",
       "</style>\n",
       "<table border=\"1\" class=\"dataframe\">\n",
       "  <thead>\n",
       "    <tr style=\"text-align: right;\">\n",
       "      <th></th>\n",
       "      <th>date</th>\n",
       "      <th>median_price</th>\n",
       "      <th>hour</th>\n",
       "      <th>dayofweek</th>\n",
       "      <th>quarter</th>\n",
       "      <th>month</th>\n",
       "      <th>year</th>\n",
       "      <th>dayofyear</th>\n",
       "      <th>dayofmonth</th>\n",
       "      <th>weekofyear</th>\n",
       "      <th>Prediction</th>\n",
       "    </tr>\n",
       "  </thead>\n",
       "  <tbody>\n",
       "    <tr>\n",
       "      <th>54</th>\n",
       "      <td>2020-07-01</td>\n",
       "      <td>390.000000</td>\n",
       "      <td>0</td>\n",
       "      <td>2</td>\n",
       "      <td>3</td>\n",
       "      <td>7</td>\n",
       "      <td>2020</td>\n",
       "      <td>183</td>\n",
       "      <td>1</td>\n",
       "      <td>27</td>\n",
       "      <td>368.619415</td>\n",
       "    </tr>\n",
       "    <tr>\n",
       "      <th>55</th>\n",
       "      <td>2020-08-01</td>\n",
       "      <td>409.080000</td>\n",
       "      <td>0</td>\n",
       "      <td>5</td>\n",
       "      <td>3</td>\n",
       "      <td>8</td>\n",
       "      <td>2020</td>\n",
       "      <td>214</td>\n",
       "      <td>1</td>\n",
       "      <td>31</td>\n",
       "      <td>371.502594</td>\n",
       "    </tr>\n",
       "    <tr>\n",
       "      <th>56</th>\n",
       "      <td>2020-09-01</td>\n",
       "      <td>428.571429</td>\n",
       "      <td>0</td>\n",
       "      <td>1</td>\n",
       "      <td>3</td>\n",
       "      <td>9</td>\n",
       "      <td>2020</td>\n",
       "      <td>245</td>\n",
       "      <td>1</td>\n",
       "      <td>36</td>\n",
       "      <td>373.007324</td>\n",
       "    </tr>\n",
       "    <tr>\n",
       "      <th>57</th>\n",
       "      <td>2020-10-01</td>\n",
       "      <td>374.500000</td>\n",
       "      <td>0</td>\n",
       "      <td>3</td>\n",
       "      <td>4</td>\n",
       "      <td>10</td>\n",
       "      <td>2020</td>\n",
       "      <td>275</td>\n",
       "      <td>1</td>\n",
       "      <td>40</td>\n",
       "      <td>371.385162</td>\n",
       "    </tr>\n",
       "    <tr>\n",
       "      <th>58</th>\n",
       "      <td>2020-11-01</td>\n",
       "      <td>374.500000</td>\n",
       "      <td>0</td>\n",
       "      <td>6</td>\n",
       "      <td>4</td>\n",
       "      <td>11</td>\n",
       "      <td>2020</td>\n",
       "      <td>306</td>\n",
       "      <td>1</td>\n",
       "      <td>44</td>\n",
       "      <td>373.617981</td>\n",
       "    </tr>\n",
       "  </tbody>\n",
       "</table>\n",
       "</div>"
      ],
      "text/plain": [
       "         date  median_price  hour  dayofweek  quarter  month  year  dayofyear  \\\n",
       "54 2020-07-01    390.000000     0          2        3      7  2020        183   \n",
       "55 2020-08-01    409.080000     0          5        3      8  2020        214   \n",
       "56 2020-09-01    428.571429     0          1        3      9  2020        245   \n",
       "57 2020-10-01    374.500000     0          3        4     10  2020        275   \n",
       "58 2020-11-01    374.500000     0          6        4     11  2020        306   \n",
       "\n",
       "    dayofmonth  weekofyear  Prediction  \n",
       "54           1          27  368.619415  \n",
       "55           1          31  371.502594  \n",
       "56           1          36  373.007324  \n",
       "57           1          40  371.385162  \n",
       "58           1          44  373.617981  "
      ]
     },
     "execution_count": 50,
     "metadata": {},
     "output_type": "execute_result"
    }
   ],
   "source": [
    "all_data.head()"
   ]
  },
  {
   "cell_type": "markdown",
   "metadata": {},
   "source": [
    "Plot the actual prices and the predicted prices to the how close the values are \n",
    "hence how the model is doing"
   ]
  },
  {
   "cell_type": "code",
   "execution_count": 51,
   "metadata": {},
   "outputs": [
    {
     "data": {
      "image/png": "[encoded data removed]",
      "text/plain": [
       "<Figure size 1080x432 with 1 Axes>"
      ]
     },
     "metadata": {
      "needs_background": "light"
     },
     "output_type": "display_data"
    }
   ],
   "source": [
    "\n",
    "fig, ax = plt.subplots(figsize=(15,6))\n",
    "\n",
    "_ = final_DF['median_price'].plot()\n",
    "_ = test_data['Prediction'].plot()"
   ]
  },
  {
   "cell_type": "markdown",
   "metadata": {},
   "source": [
    "Lets do some statistical evaluation"
   ]
  },
  {
   "cell_type": "code",
   "execution_count": 53,
   "metadata": {},
   "outputs": [
    {
     "data": {
      "text/plain": [
       "1192.5058546149614"
      ]
     },
     "execution_count": 53,
     "metadata": {},
     "output_type": "execute_result"
    }
   ],
   "source": [
    "mean_squared_error(y_true=test_data['median_price'],\n",
    "                   y_pred=test_data['Prediction'])"
   ]
  },
  {
   "cell_type": "code",
   "execution_count": 54,
   "metadata": {},
   "outputs": [
    {
     "data": {
      "text/plain": [
       "25.394147650271048"
      ]
     },
     "execution_count": 54,
     "metadata": {},
     "output_type": "execute_result"
    }
   ],
   "source": [
    "mean_absolute_error(y_true=test_data['median_price'],\n",
    "                   y_pred=test_data['Prediction'])"
   ]
  },
  {
   "cell_type": "code",
   "execution_count": 55,
   "metadata": {},
   "outputs": [],
   "source": [
    "def mean_absolute_percentage_error(y_true, y_pred): \n",
    "    \"\"\"Calculates MAPE given y_true and y_pred\"\"\"\n",
    "    y_true, y_pred = np.array(y_true), np.array(y_pred)\n",
    "    return np.mean(np.abs((y_true - y_pred) / y_true)) * 100"
   ]
  },
  {
   "cell_type": "code",
   "execution_count": 56,
   "metadata": {},
   "outputs": [
    {
     "data": {
      "text/plain": [
       "6.3598128342287925"
      ]
     },
     "execution_count": 56,
     "metadata": {},
     "output_type": "execute_result"
    }
   ],
   "source": [
    "mean_absolute_percentage_error(y_true=test_data['median_price'],\n",
    "                   y_pred=test_data['Prediction'])"
   ]
  },
  {
   "cell_type": "markdown",
   "metadata": {},
   "source": [
    "The mean abosolute error percentage show an error of about 60%"
   ]
  },
  {
   "cell_type": "code",
   "execution_count": 57,
   "metadata": {},
   "outputs": [],
   "source": [
    "test_data['error'] = test_data['median_price'] - test_data['Prediction']\n",
    "test_data['abs_error'] = test_data['error'].apply(np.abs)\n",
    "error_by_day = test_data.groupby(['year','month','dayofmonth']) \\\n",
    "    .mean()[['median_price','Prediction','error','abs_error']]"
   ]
  },
  {
   "cell_type": "markdown",
   "metadata": {},
   "source": [
    "calculate error and absolute error to see the difference in value"
   ]
  },
  {
   "cell_type": "code",
   "execution_count": 59,
   "metadata": {},
   "outputs": [
    {
     "data": {
      "text/html": [
       "<div>\n",
       "<style scoped>\n",
       "    .dataframe tbody tr th:only-of-type {\n",
       "        vertical-align: middle;\n",
       "    }\n",
       "\n",
       "    .dataframe tbody tr th {\n",
       "        vertical-align: top;\n",
       "    }\n",
       "\n",
       "    .dataframe thead th {\n",
       "        text-align: right;\n",
       "    }\n",
       "</style>\n",
       "<table border=\"1\" class=\"dataframe\">\n",
       "  <thead>\n",
       "    <tr style=\"text-align: right;\">\n",
       "      <th></th>\n",
       "      <th></th>\n",
       "      <th></th>\n",
       "      <th>median_price</th>\n",
       "      <th>Prediction</th>\n",
       "      <th>error</th>\n",
       "      <th>abs_error</th>\n",
       "    </tr>\n",
       "    <tr>\n",
       "      <th>year</th>\n",
       "      <th>month</th>\n",
       "      <th>dayofmonth</th>\n",
       "      <th></th>\n",
       "      <th></th>\n",
       "      <th></th>\n",
       "      <th></th>\n",
       "    </tr>\n",
       "  </thead>\n",
       "  <tbody>\n",
       "    <tr>\n",
       "      <th rowspan=\"6\" valign=\"top\">2020</th>\n",
       "      <th>11</th>\n",
       "      <th>1</th>\n",
       "      <td>374.500000</td>\n",
       "      <td>373.617981</td>\n",
       "      <td>0.882019</td>\n",
       "      <td>0.882019</td>\n",
       "    </tr>\n",
       "    <tr>\n",
       "      <th>12</th>\n",
       "      <th>1</th>\n",
       "      <td>374.500000</td>\n",
       "      <td>373.391418</td>\n",
       "      <td>1.108582</td>\n",
       "      <td>1.108582</td>\n",
       "    </tr>\n",
       "    <tr>\n",
       "      <th>10</th>\n",
       "      <th>1</th>\n",
       "      <td>374.500000</td>\n",
       "      <td>371.385162</td>\n",
       "      <td>3.114838</td>\n",
       "      <td>3.114838</td>\n",
       "    </tr>\n",
       "    <tr>\n",
       "      <th>7</th>\n",
       "      <th>1</th>\n",
       "      <td>390.000000</td>\n",
       "      <td>368.619415</td>\n",
       "      <td>21.380585</td>\n",
       "      <td>21.380585</td>\n",
       "    </tr>\n",
       "    <tr>\n",
       "      <th>8</th>\n",
       "      <th>1</th>\n",
       "      <td>409.080000</td>\n",
       "      <td>371.502594</td>\n",
       "      <td>37.577406</td>\n",
       "      <td>37.577406</td>\n",
       "    </tr>\n",
       "    <tr>\n",
       "      <th>9</th>\n",
       "      <th>1</th>\n",
       "      <td>428.571429</td>\n",
       "      <td>373.007324</td>\n",
       "      <td>55.564104</td>\n",
       "      <td>55.564104</td>\n",
       "    </tr>\n",
       "    <tr>\n",
       "      <th>2021</th>\n",
       "      <th>1</th>\n",
       "      <th>1</th>\n",
       "      <td>374.500000</td>\n",
       "      <td>316.368500</td>\n",
       "      <td>58.131500</td>\n",
       "      <td>58.131500</td>\n",
       "    </tr>\n",
       "  </tbody>\n",
       "</table>\n",
       "</div>"
      ],
      "text/plain": [
       "                       median_price  Prediction      error  abs_error\n",
       "year month dayofmonth                                                \n",
       "2020 11    1             374.500000  373.617981   0.882019   0.882019\n",
       "     12    1             374.500000  373.391418   1.108582   1.108582\n",
       "     10    1             374.500000  371.385162   3.114838   3.114838\n",
       "     7     1             390.000000  368.619415  21.380585  21.380585\n",
       "     8     1             409.080000  371.502594  37.577406  37.577406\n",
       "     9     1             428.571429  373.007324  55.564104  55.564104\n",
       "2021 1     1             374.500000  316.368500  58.131500  58.131500"
      ]
     },
     "execution_count": 59,
     "metadata": {},
     "output_type": "execute_result"
    }
   ],
   "source": [
    "# Over forecasted days\n",
    "error_by_day.sort_values('error', ascending=True).head(10)"
   ]
  },
  {
   "cell_type": "code",
   "execution_count": null,
   "metadata": {},
   "outputs": [],
   "source": []
  },
  {
   "cell_type": "markdown",
   "metadata": {},
   "source": [
    "Predict for the next 12 months\n"
   ]
  },
  {
   "cell_type": "code",
   "execution_count": 61,
   "metadata": {},
   "outputs": [],
   "source": [
    "# make a dataframe of the next 12 mnths\n",
    "future = list()\n",
    "for i in range(2, 13):\n",
    "    date = '2021-%02d' % i\n",
    "    future.append([date])\n",
    "future.append(['2022-01-01'])\n",
    "future = pd.DataFrame(future)\n",
    "future.columns = ['date']\n",
    "future['date'] = pd.to_datetime(future['date'])"
   ]
  },
  {
   "cell_type": "code",
   "execution_count": 62,
   "metadata": {},
   "outputs": [],
   "source": [
    "#prepare date for training\n",
    "new_features = create_features(future)"
   ]
  },
  {
   "cell_type": "code",
   "execution_count": 63,
   "metadata": {},
   "outputs": [
    {
     "data": {
      "text/html": [
       "<div>\n",
       "<style scoped>\n",
       "    .dataframe tbody tr th:only-of-type {\n",
       "        vertical-align: middle;\n",
       "    }\n",
       "\n",
       "    .dataframe tbody tr th {\n",
       "        vertical-align: top;\n",
       "    }\n",
       "\n",
       "    .dataframe thead th {\n",
       "        text-align: right;\n",
       "    }\n",
       "</style>\n",
       "<table border=\"1\" class=\"dataframe\">\n",
       "  <thead>\n",
       "    <tr style=\"text-align: right;\">\n",
       "      <th></th>\n",
       "      <th>hour</th>\n",
       "      <th>dayofweek</th>\n",
       "      <th>quarter</th>\n",
       "      <th>month</th>\n",
       "      <th>year</th>\n",
       "      <th>dayofyear</th>\n",
       "      <th>dayofmonth</th>\n",
       "      <th>weekofyear</th>\n",
       "    </tr>\n",
       "  </thead>\n",
       "  <tbody>\n",
       "    <tr>\n",
       "      <th>0</th>\n",
       "      <td>0</td>\n",
       "      <td>0</td>\n",
       "      <td>1</td>\n",
       "      <td>2</td>\n",
       "      <td>2021</td>\n",
       "      <td>32</td>\n",
       "      <td>1</td>\n",
       "      <td>5</td>\n",
       "    </tr>\n",
       "    <tr>\n",
       "      <th>1</th>\n",
       "      <td>0</td>\n",
       "      <td>0</td>\n",
       "      <td>1</td>\n",
       "      <td>3</td>\n",
       "      <td>2021</td>\n",
       "      <td>60</td>\n",
       "      <td>1</td>\n",
       "      <td>9</td>\n",
       "    </tr>\n",
       "    <tr>\n",
       "      <th>2</th>\n",
       "      <td>0</td>\n",
       "      <td>3</td>\n",
       "      <td>2</td>\n",
       "      <td>4</td>\n",
       "      <td>2021</td>\n",
       "      <td>91</td>\n",
       "      <td>1</td>\n",
       "      <td>13</td>\n",
       "    </tr>\n",
       "    <tr>\n",
       "      <th>3</th>\n",
       "      <td>0</td>\n",
       "      <td>5</td>\n",
       "      <td>2</td>\n",
       "      <td>5</td>\n",
       "      <td>2021</td>\n",
       "      <td>121</td>\n",
       "      <td>1</td>\n",
       "      <td>17</td>\n",
       "    </tr>\n",
       "    <tr>\n",
       "      <th>4</th>\n",
       "      <td>0</td>\n",
       "      <td>1</td>\n",
       "      <td>2</td>\n",
       "      <td>6</td>\n",
       "      <td>2021</td>\n",
       "      <td>152</td>\n",
       "      <td>1</td>\n",
       "      <td>22</td>\n",
       "    </tr>\n",
       "    <tr>\n",
       "      <th>5</th>\n",
       "      <td>0</td>\n",
       "      <td>3</td>\n",
       "      <td>3</td>\n",
       "      <td>7</td>\n",
       "      <td>2021</td>\n",
       "      <td>182</td>\n",
       "      <td>1</td>\n",
       "      <td>26</td>\n",
       "    </tr>\n",
       "    <tr>\n",
       "      <th>6</th>\n",
       "      <td>0</td>\n",
       "      <td>6</td>\n",
       "      <td>3</td>\n",
       "      <td>8</td>\n",
       "      <td>2021</td>\n",
       "      <td>213</td>\n",
       "      <td>1</td>\n",
       "      <td>30</td>\n",
       "    </tr>\n",
       "    <tr>\n",
       "      <th>7</th>\n",
       "      <td>0</td>\n",
       "      <td>2</td>\n",
       "      <td>3</td>\n",
       "      <td>9</td>\n",
       "      <td>2021</td>\n",
       "      <td>244</td>\n",
       "      <td>1</td>\n",
       "      <td>35</td>\n",
       "    </tr>\n",
       "    <tr>\n",
       "      <th>8</th>\n",
       "      <td>0</td>\n",
       "      <td>4</td>\n",
       "      <td>4</td>\n",
       "      <td>10</td>\n",
       "      <td>2021</td>\n",
       "      <td>274</td>\n",
       "      <td>1</td>\n",
       "      <td>39</td>\n",
       "    </tr>\n",
       "    <tr>\n",
       "      <th>9</th>\n",
       "      <td>0</td>\n",
       "      <td>0</td>\n",
       "      <td>4</td>\n",
       "      <td>11</td>\n",
       "      <td>2021</td>\n",
       "      <td>305</td>\n",
       "      <td>1</td>\n",
       "      <td>44</td>\n",
       "    </tr>\n",
       "    <tr>\n",
       "      <th>10</th>\n",
       "      <td>0</td>\n",
       "      <td>2</td>\n",
       "      <td>4</td>\n",
       "      <td>12</td>\n",
       "      <td>2021</td>\n",
       "      <td>335</td>\n",
       "      <td>1</td>\n",
       "      <td>48</td>\n",
       "    </tr>\n",
       "    <tr>\n",
       "      <th>11</th>\n",
       "      <td>0</td>\n",
       "      <td>5</td>\n",
       "      <td>1</td>\n",
       "      <td>1</td>\n",
       "      <td>2022</td>\n",
       "      <td>1</td>\n",
       "      <td>1</td>\n",
       "      <td>52</td>\n",
       "    </tr>\n",
       "  </tbody>\n",
       "</table>\n",
       "</div>"
      ],
      "text/plain": [
       "    hour  dayofweek  quarter  month  year  dayofyear  dayofmonth  weekofyear\n",
       "0      0          0        1      2  2021         32           1           5\n",
       "1      0          0        1      3  2021         60           1           9\n",
       "2      0          3        2      4  2021         91           1          13\n",
       "3      0          5        2      5  2021        121           1          17\n",
       "4      0          1        2      6  2021        152           1          22\n",
       "5      0          3        3      7  2021        182           1          26\n",
       "6      0          6        3      8  2021        213           1          30\n",
       "7      0          2        3      9  2021        244           1          35\n",
       "8      0          4        4     10  2021        274           1          39\n",
       "9      0          0        4     11  2021        305           1          44\n",
       "10     0          2        4     12  2021        335           1          48\n",
       "11     0          5        1      1  2022          1           1          52"
      ]
     },
     "execution_count": 63,
     "metadata": {},
     "output_type": "execute_result"
    }
   ],
   "source": [
    "new_features"
   ]
  },
  {
   "cell_type": "code",
   "execution_count": 64,
   "metadata": {},
   "outputs": [],
   "source": [
    "#make predictions on the !@ months data set\n",
    "new_features['Prediction'] = reg.predict(new_features)\n",
    "# feature_data = pd.concat([test_data, train_data], sort=False)\n",
    "new_features['date'] = future['date']"
   ]
  },
  {
   "cell_type": "code",
   "execution_count": 107,
   "metadata": {},
   "outputs": [
    {
     "data": {
      "text/html": [
       "<div>\n",
       "<style scoped>\n",
       "    .dataframe tbody tr th:only-of-type {\n",
       "        vertical-align: middle;\n",
       "    }\n",
       "\n",
       "    .dataframe tbody tr th {\n",
       "        vertical-align: top;\n",
       "    }\n",
       "\n",
       "    .dataframe thead th {\n",
       "        text-align: right;\n",
       "    }\n",
       "</style>\n",
       "<table border=\"1\" class=\"dataframe\">\n",
       "  <thead>\n",
       "    <tr style=\"text-align: right;\">\n",
       "      <th></th>\n",
       "      <th>hour</th>\n",
       "      <th>dayofweek</th>\n",
       "      <th>quarter</th>\n",
       "      <th>month</th>\n",
       "      <th>year</th>\n",
       "      <th>dayofyear</th>\n",
       "      <th>dayofmonth</th>\n",
       "      <th>weekofyear</th>\n",
       "      <th>Prediction</th>\n",
       "      <th>date</th>\n",
       "    </tr>\n",
       "  </thead>\n",
       "  <tbody>\n",
       "    <tr>\n",
       "      <th>0</th>\n",
       "      <td>0</td>\n",
       "      <td>0</td>\n",
       "      <td>1</td>\n",
       "      <td>2</td>\n",
       "      <td>2021</td>\n",
       "      <td>32</td>\n",
       "      <td>1</td>\n",
       "      <td>5</td>\n",
       "      <td>350.302551</td>\n",
       "      <td>2021-02-01</td>\n",
       "    </tr>\n",
       "    <tr>\n",
       "      <th>1</th>\n",
       "      <td>0</td>\n",
       "      <td>0</td>\n",
       "      <td>1</td>\n",
       "      <td>3</td>\n",
       "      <td>2021</td>\n",
       "      <td>60</td>\n",
       "      <td>1</td>\n",
       "      <td>9</td>\n",
       "      <td>349.822784</td>\n",
       "      <td>2021-03-01</td>\n",
       "    </tr>\n",
       "    <tr>\n",
       "      <th>2</th>\n",
       "      <td>0</td>\n",
       "      <td>3</td>\n",
       "      <td>2</td>\n",
       "      <td>4</td>\n",
       "      <td>2021</td>\n",
       "      <td>91</td>\n",
       "      <td>1</td>\n",
       "      <td>13</td>\n",
       "      <td>364.073120</td>\n",
       "      <td>2021-04-01</td>\n",
       "    </tr>\n",
       "    <tr>\n",
       "      <th>3</th>\n",
       "      <td>0</td>\n",
       "      <td>5</td>\n",
       "      <td>2</td>\n",
       "      <td>5</td>\n",
       "      <td>2021</td>\n",
       "      <td>121</td>\n",
       "      <td>1</td>\n",
       "      <td>17</td>\n",
       "      <td>368.239746</td>\n",
       "      <td>2021-05-01</td>\n",
       "    </tr>\n",
       "    <tr>\n",
       "      <th>4</th>\n",
       "      <td>0</td>\n",
       "      <td>1</td>\n",
       "      <td>2</td>\n",
       "      <td>6</td>\n",
       "      <td>2021</td>\n",
       "      <td>152</td>\n",
       "      <td>1</td>\n",
       "      <td>22</td>\n",
       "      <td>375.300415</td>\n",
       "      <td>2021-06-01</td>\n",
       "    </tr>\n",
       "  </tbody>\n",
       "</table>\n",
       "</div>"
      ],
      "text/plain": [
       "   hour  dayofweek  quarter  month  year  dayofyear  dayofmonth  weekofyear  \\\n",
       "0     0          0        1      2  2021         32           1           5   \n",
       "1     0          0        1      3  2021         60           1           9   \n",
       "2     0          3        2      4  2021         91           1          13   \n",
       "3     0          5        2      5  2021        121           1          17   \n",
       "4     0          1        2      6  2021        152           1          22   \n",
       "\n",
       "   Prediction       date  \n",
       "0  350.302551 2021-02-01  \n",
       "1  349.822784 2021-03-01  \n",
       "2  364.073120 2021-04-01  \n",
       "3  368.239746 2021-05-01  \n",
       "4  375.300415 2021-06-01  "
      ]
     },
     "execution_count": 107,
     "metadata": {},
     "output_type": "execute_result"
    }
   ],
   "source": [
    "new_features.head()"
   ]
  },
  {
   "cell_type": "markdown",
   "metadata": {},
   "source": [
    "create a dataframe with just preiction and date of the new data called 'pred_data'"
   ]
  },
  {
   "cell_type": "code",
   "execution_count": 65,
   "metadata": {},
   "outputs": [],
   "source": [
    "pred_data = new_features[['Prediction','date']]"
   ]
  },
  {
   "cell_type": "code",
   "execution_count": 66,
   "metadata": {},
   "outputs": [
    {
     "data": {
      "image/png": "[encoded data removed]",
      "text/plain": [
       "<Figure size 1080x432 with 1 Axes>"
      ]
     },
     "metadata": {
      "needs_background": "light"
     },
     "output_type": "display_data"
    }
   ],
   "source": [
    "fig, ax = plt.subplots(figsize=(15,6))\n",
    "\n",
    "sns.lineplot(x='date', y='median_price', data=final_DF, ci=None, markers=True, ax=ax)\n",
    "ax.set_xticks(ticks=final_DF['date'])\n",
    "ax.set_xticklabels(final_DF['date'], rotation=90)\n",
    "\n",
    "# trend_ = new_features.groupby('date')['median_price'].median()\n",
    "# trend_ = trend.reset_index()\n",
    "\n",
    "sns.lineplot(x='date', y='Prediction', data=pred_data, ci=None, markers=True, ax=ax)\n",
    "ax.set_xticks(ticks=pred_data['date'])\n",
    "ax.set_xticklabels(pred_data['date'], rotation=90)\n",
    "\n",
    "\n",
    "plt.show()"
   ]
  },
  {
   "cell_type": "markdown",
   "metadata": {},
   "source": [
    "The above plot shows the prediciton for the next 12 months"
   ]
  },
  {
   "cell_type": "markdown",
   "metadata": {},
   "source": [
    "Conclusion: The model definately need to be improved by training more data, but the predicitions made from it are good because it looks like it picked an avarage values of what we've had so far."
   ]
  },
  {
   "cell_type": "code",
   "execution_count": null,
   "metadata": {},
   "outputs": [],
   "source": []
  }
 ],
 "metadata": {
  "kernelspec": {
   "display_name": "Python 3",
   "language": "python",
   "name": "python3"
  },
  "language_info": {
   "codemirror_mode": {
    "name": "ipython",
    "version": 3
   },
   "file_extension": ".py",
   "mimetype": "text/x-python",
   "name": "python",
   "nbconvert_exporter": "python",
   "pygments_lexer": "ipython3",
   "version": "3.8.3"
  }
 },
 "nbformat": 4,
 "nbformat_minor": 4
}
