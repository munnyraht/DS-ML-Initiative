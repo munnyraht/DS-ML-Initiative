{
 "cells": [
  {
   "cell_type": "code",
   "execution_count": 34,
   "metadata": {},
   "outputs": [],
   "source": [
    "import pandas as pd\n",
    "import matplotlib.pyplot as plt\n",
    "%matplotlib inline\n",
    "import seaborn as sns"
   ]
  },
  {
   "cell_type": "code",
   "execution_count": 3,
   "metadata": {},
   "outputs": [],
   "source": [
    "df = pd.read_csv('Accommodation.csv')"
   ]
  },
  {
   "cell_type": "code",
   "execution_count": 4,
   "metadata": {},
   "outputs": [
    {
     "data": {
      "text/html": [
       "<div>\n",
       "<style scoped>\n",
       "    .dataframe tbody tr th:only-of-type {\n",
       "        vertical-align: middle;\n",
       "    }\n",
       "\n",
       "    .dataframe tbody tr th {\n",
       "        vertical-align: top;\n",
       "    }\n",
       "\n",
       "    .dataframe thead th {\n",
       "        text-align: right;\n",
       "    }\n",
       "</style>\n",
       "<table border=\"1\" class=\"dataframe\">\n",
       "  <thead>\n",
       "    <tr style=\"text-align: right;\">\n",
       "      <th></th>\n",
       "      <th>Timestamp</th>\n",
       "      <th>Age</th>\n",
       "      <th>Gender</th>\n",
       "      <th>Maximum Level of Education</th>\n",
       "      <th>Country</th>\n",
       "      <th>State/Province</th>\n",
       "      <th>Based on your answer above, how industrious is your State of residence?</th>\n",
       "      <th>Currency</th>\n",
       "      <th>Monthly Salary in the currency you mentioned above</th>\n",
       "      <th>Career Industry</th>\n",
       "      <th>Years of working experience</th>\n",
       "      <th>Do you foot your accommodation bills?</th>\n",
       "      <th>If you selected \"Not completely\", what fraction of the rent do you pay?</th>\n",
       "      <th>Accommodation Rented</th>\n",
       "      <th>Location of accommodation</th>\n",
       "      <th>Cost of your accommodation per month</th>\n",
       "      <th>Do you think accommodation prices are generally high in your State of residence for young adults?</th>\n",
       "    </tr>\n",
       "  </thead>\n",
       "  <tbody>\n",
       "    <tr>\n",
       "      <th>0</th>\n",
       "      <td>2021/01/20 7:57:57 AM GMT+1</td>\n",
       "      <td>24</td>\n",
       "      <td>Male</td>\n",
       "      <td>Bachelor's Degree/Equivalent</td>\n",
       "      <td>Nigeria</td>\n",
       "      <td>Lagos</td>\n",
       "      <td>Industrious</td>\n",
       "      <td>Naira</td>\n",
       "      <td>150000</td>\n",
       "      <td>Accounting &amp; Tech</td>\n",
       "      <td>1.0</td>\n",
       "      <td>Yes</td>\n",
       "      <td>NaN</td>\n",
       "      <td>Full Flat</td>\n",
       "      <td>Mid-class area</td>\n",
       "      <td>80000</td>\n",
       "      <td>Yes</td>\n",
       "    </tr>\n",
       "    <tr>\n",
       "      <th>1</th>\n",
       "      <td>2021/01/20 9:02:40 AM GMT+1</td>\n",
       "      <td>27</td>\n",
       "      <td>Female</td>\n",
       "      <td>Bachelor's Degree/Equivalent</td>\n",
       "      <td>Kenya</td>\n",
       "      <td>Nairobi</td>\n",
       "      <td>Most industrious in the country</td>\n",
       "      <td>Kenyan Shillings</td>\n",
       "      <td>150000</td>\n",
       "      <td>Software Engineer</td>\n",
       "      <td>3.0</td>\n",
       "      <td>Yes</td>\n",
       "      <td>NaN</td>\n",
       "      <td>Shared Flat</td>\n",
       "      <td>Mid-class area</td>\n",
       "      <td>35000</td>\n",
       "      <td>Yes</td>\n",
       "    </tr>\n",
       "    <tr>\n",
       "      <th>2</th>\n",
       "      <td>2021/01/20 9:07:23 AM GMT+1</td>\n",
       "      <td>25</td>\n",
       "      <td>Female</td>\n",
       "      <td>High/Secondary School</td>\n",
       "      <td>South Africa</td>\n",
       "      <td>Cape Town</td>\n",
       "      <td>Non-Industrious</td>\n",
       "      <td>Rand</td>\n",
       "      <td>2000</td>\n",
       "      <td>Hospitality</td>\n",
       "      <td>5.0</td>\n",
       "      <td>Yes</td>\n",
       "      <td>NaN</td>\n",
       "      <td>Shared Flat</td>\n",
       "      <td>Mid-class area</td>\n",
       "      <td>R3500</td>\n",
       "      <td>Yes</td>\n",
       "    </tr>\n",
       "    <tr>\n",
       "      <th>3</th>\n",
       "      <td>2021/01/20 9:27:25 AM GMT+1</td>\n",
       "      <td>28</td>\n",
       "      <td>Female</td>\n",
       "      <td>Bachelor's Degree/Equivalent</td>\n",
       "      <td>Nigeria</td>\n",
       "      <td>Lagos</td>\n",
       "      <td>Most industrious in the country</td>\n",
       "      <td>Naira</td>\n",
       "      <td>0</td>\n",
       "      <td>IT</td>\n",
       "      <td>0.0</td>\n",
       "      <td>No</td>\n",
       "      <td>NaN</td>\n",
       "      <td>Neither. I do not pay rents</td>\n",
       "      <td>I do not pay rents</td>\n",
       "      <td>NaN</td>\n",
       "      <td>Yes</td>\n",
       "    </tr>\n",
       "    <tr>\n",
       "      <th>4</th>\n",
       "      <td>2021/01/20 9:27:53 AM GMT+1</td>\n",
       "      <td>24</td>\n",
       "      <td>Female</td>\n",
       "      <td>Bachelor's Degree/Equivalent</td>\n",
       "      <td>Nigeria</td>\n",
       "      <td>Lagos</td>\n",
       "      <td>Industrious</td>\n",
       "      <td>Naira</td>\n",
       "      <td>70000</td>\n",
       "      <td>Tech</td>\n",
       "      <td>1.0</td>\n",
       "      <td>Not completely</td>\n",
       "      <td>1/4</td>\n",
       "      <td>Neither. I do not pay rents</td>\n",
       "      <td>Low brow area</td>\n",
       "      <td>N/A</td>\n",
       "      <td>Yes</td>\n",
       "    </tr>\n",
       "  </tbody>\n",
       "</table>\n",
       "</div>"
      ],
      "text/plain": [
       "                     Timestamp  Age  Gender    Maximum Level of Education  \\\n",
       "0  2021/01/20 7:57:57 AM GMT+1   24    Male  Bachelor's Degree/Equivalent   \n",
       "1  2021/01/20 9:02:40 AM GMT+1   27  Female  Bachelor's Degree/Equivalent   \n",
       "2  2021/01/20 9:07:23 AM GMT+1   25  Female         High/Secondary School   \n",
       "3  2021/01/20 9:27:25 AM GMT+1   28  Female  Bachelor's Degree/Equivalent   \n",
       "4  2021/01/20 9:27:53 AM GMT+1   24  Female  Bachelor's Degree/Equivalent   \n",
       "\n",
       "        Country State/Province  \\\n",
       "0       Nigeria          Lagos   \n",
       "1         Kenya        Nairobi   \n",
       "2  South Africa      Cape Town   \n",
       "3       Nigeria          Lagos   \n",
       "4       Nigeria          Lagos   \n",
       "\n",
       "  Based on your answer above, how industrious is your State of residence?  \\\n",
       "0                                        Industrious                        \n",
       "1                    Most industrious in the country                        \n",
       "2                                    Non-Industrious                        \n",
       "3                    Most industrious in the country                        \n",
       "4                                        Industrious                        \n",
       "\n",
       "           Currency  Monthly Salary in the currency you mentioned above  \\\n",
       "0             Naira                                             150000    \n",
       "1  Kenyan Shillings                                             150000    \n",
       "2              Rand                                               2000    \n",
       "3             Naira                                                  0    \n",
       "4            Naira                                               70000    \n",
       "\n",
       "     Career Industry  Years of working experience  \\\n",
       "0  Accounting & Tech                          1.0   \n",
       "1  Software Engineer                          3.0   \n",
       "2        Hospitality                          5.0   \n",
       "3                 IT                          0.0   \n",
       "4               Tech                          1.0   \n",
       "\n",
       "  Do you foot your accommodation bills?  \\\n",
       "0                                   Yes   \n",
       "1                                   Yes   \n",
       "2                                   Yes   \n",
       "3                                    No   \n",
       "4                        Not completely   \n",
       "\n",
       "  If you selected \"Not completely\", what fraction of the rent do you pay?  \\\n",
       "0                                                NaN                        \n",
       "1                                                NaN                        \n",
       "2                                                NaN                        \n",
       "3                                                NaN                        \n",
       "4                                                1/4                        \n",
       "\n",
       "          Accommodation Rented Location of accommodation  \\\n",
       "0                    Full Flat            Mid-class area   \n",
       "1                  Shared Flat            Mid-class area   \n",
       "2                  Shared Flat            Mid-class area   \n",
       "3  Neither. I do not pay rents        I do not pay rents   \n",
       "4  Neither. I do not pay rents             Low brow area   \n",
       "\n",
       "  Cost of your accommodation per month  \\\n",
       "0                                80000   \n",
       "1                                35000   \n",
       "2                                R3500   \n",
       "3                                  NaN   \n",
       "4                                  N/A   \n",
       "\n",
       "  Do you think accommodation prices are generally high in your State of residence for young adults?  \n",
       "0                                                Yes                                                 \n",
       "1                                                Yes                                                 \n",
       "2                                                Yes                                                 \n",
       "3                                                Yes                                                 \n",
       "4                                                Yes                                                 "
      ]
     },
     "execution_count": 4,
     "metadata": {},
     "output_type": "execute_result"
    }
   ],
   "source": [
    "df.head()"
   ]
  },
  {
   "cell_type": "code",
   "execution_count": 6,
   "metadata": {},
   "outputs": [
    {
     "data": {
      "text/html": [
       "<div>\n",
       "<style scoped>\n",
       "    .dataframe tbody tr th:only-of-type {\n",
       "        vertical-align: middle;\n",
       "    }\n",
       "\n",
       "    .dataframe tbody tr th {\n",
       "        vertical-align: top;\n",
       "    }\n",
       "\n",
       "    .dataframe thead th {\n",
       "        text-align: right;\n",
       "    }\n",
       "</style>\n",
       "<table border=\"1\" class=\"dataframe\">\n",
       "  <thead>\n",
       "    <tr style=\"text-align: right;\">\n",
       "      <th></th>\n",
       "      <th>Age</th>\n",
       "      <th>Monthly Salary in the currency you mentioned above</th>\n",
       "      <th>Years of working experience</th>\n",
       "    </tr>\n",
       "  </thead>\n",
       "  <tbody>\n",
       "    <tr>\n",
       "      <th>count</th>\n",
       "      <td>121.000000</td>\n",
       "      <td>121.000000</td>\n",
       "      <td>121.000000</td>\n",
       "    </tr>\n",
       "    <tr>\n",
       "      <th>mean</th>\n",
       "      <td>23.421488</td>\n",
       "      <td>60587.603306</td>\n",
       "      <td>1.492975</td>\n",
       "    </tr>\n",
       "    <tr>\n",
       "      <th>std</th>\n",
       "      <td>2.798071</td>\n",
       "      <td>113215.106155</td>\n",
       "      <td>1.840282</td>\n",
       "    </tr>\n",
       "    <tr>\n",
       "      <th>min</th>\n",
       "      <td>18.000000</td>\n",
       "      <td>0.000000</td>\n",
       "      <td>0.000000</td>\n",
       "    </tr>\n",
       "    <tr>\n",
       "      <th>25%</th>\n",
       "      <td>22.000000</td>\n",
       "      <td>0.000000</td>\n",
       "      <td>0.000000</td>\n",
       "    </tr>\n",
       "    <tr>\n",
       "      <th>50%</th>\n",
       "      <td>23.000000</td>\n",
       "      <td>20000.000000</td>\n",
       "      <td>1.000000</td>\n",
       "    </tr>\n",
       "    <tr>\n",
       "      <th>75%</th>\n",
       "      <td>25.000000</td>\n",
       "      <td>70000.000000</td>\n",
       "      <td>2.000000</td>\n",
       "    </tr>\n",
       "    <tr>\n",
       "      <th>max</th>\n",
       "      <td>29.000000</td>\n",
       "      <td>800000.000000</td>\n",
       "      <td>10.000000</td>\n",
       "    </tr>\n",
       "  </tbody>\n",
       "</table>\n",
       "</div>"
      ],
      "text/plain": [
       "              Age  Monthly Salary in the currency you mentioned above  \\\n",
       "count  121.000000                                         121.000000    \n",
       "mean    23.421488                                       60587.603306    \n",
       "std      2.798071                                      113215.106155    \n",
       "min     18.000000                                           0.000000    \n",
       "25%     22.000000                                           0.000000    \n",
       "50%     23.000000                                       20000.000000    \n",
       "75%     25.000000                                       70000.000000    \n",
       "max     29.000000                                      800000.000000    \n",
       "\n",
       "       Years of working experience  \n",
       "count                   121.000000  \n",
       "mean                      1.492975  \n",
       "std                       1.840282  \n",
       "min                       0.000000  \n",
       "25%                       0.000000  \n",
       "50%                       1.000000  \n",
       "75%                       2.000000  \n",
       "max                      10.000000  "
      ]
     },
     "execution_count": 6,
     "metadata": {},
     "output_type": "execute_result"
    }
   ],
   "source": [
    "df.describe()"
   ]
  },
  {
   "cell_type": "code",
   "execution_count": 7,
   "metadata": {},
   "outputs": [
    {
     "data": {
      "text/plain": [
       "(121, 17)"
      ]
     },
     "execution_count": 7,
     "metadata": {},
     "output_type": "execute_result"
    }
   ],
   "source": [
    "df.shape"
   ]
  },
  {
   "cell_type": "code",
   "execution_count": 10,
   "metadata": {},
   "outputs": [
    {
     "data": {
      "text/plain": [
       "<bound method DataFrame.info of                        Timestamp  Age  Gender    Maximum Level of Education  \\\n",
       "0    2021/01/20 7:57:57 AM GMT+1   24    Male  Bachelor's Degree/Equivalent   \n",
       "1    2021/01/20 9:02:40 AM GMT+1   27  Female  Bachelor's Degree/Equivalent   \n",
       "2    2021/01/20 9:07:23 AM GMT+1   25  Female         High/Secondary School   \n",
       "3    2021/01/20 9:27:25 AM GMT+1   28  Female  Bachelor's Degree/Equivalent   \n",
       "4    2021/01/20 9:27:53 AM GMT+1   24  Female  Bachelor's Degree/Equivalent   \n",
       "..                           ...  ...     ...                           ...   \n",
       "116  2021/01/25 1:44:50 PM GMT+1   29    Male  Bachelor's Degree/Equivalent   \n",
       "117  2021/01/26 6:58:33 AM GMT+1   24  Female  Bachelor's Degree/Equivalent   \n",
       "118  2021/01/26 7:54:09 AM GMT+1   25    Male  Bachelor's Degree/Equivalent   \n",
       "119  2021/01/26 9:59:20 AM GMT+1   26    Male         High/Secondary School   \n",
       "120  2021/01/26 1:39:35 PM GMT+1   21  Female         High/Secondary School   \n",
       "\n",
       "          Country State/Province  \\\n",
       "0         Nigeria          Lagos   \n",
       "1           Kenya        Nairobi   \n",
       "2    South Africa      Cape Town   \n",
       "3         Nigeria          Lagos   \n",
       "4         Nigeria          Lagos   \n",
       "..            ...            ...   \n",
       "116       Nigeria          Lagos   \n",
       "117         Kenya        Nairobi   \n",
       "118       Nigeria          Lagos   \n",
       "119      NIGERIA           Lagos   \n",
       "120       Nigeria           ogun   \n",
       "\n",
       "    Based on your answer above, how industrious is your State of residence?  \\\n",
       "0                                          Industrious                        \n",
       "1                      Most industrious in the country                        \n",
       "2                                      Non-Industrious                        \n",
       "3                      Most industrious in the country                        \n",
       "4                                          Industrious                        \n",
       "..                                                 ...                        \n",
       "116                    Most industrious in the country                        \n",
       "117                                        Industrious                        \n",
       "118                                        Industrious                        \n",
       "119                                        Industrious                        \n",
       "120                                        Industrious                        \n",
       "\n",
       "             Currency  Monthly Salary in the currency you mentioned above  \\\n",
       "0               Naira                                             150000    \n",
       "1    Kenyan Shillings                                             150000    \n",
       "2                Rand                                               2000    \n",
       "3               Naira                                                  0    \n",
       "4              Naira                                               70000    \n",
       "..                ...                                                ...    \n",
       "116             Naira                                              75000    \n",
       "117  Kenyan Shillings                                              64000    \n",
       "118             Naira                                              50000    \n",
       "119             Naira                                              40000    \n",
       "120             Naira                                                  0    \n",
       "\n",
       "           Career Industry  Years of working experience  \\\n",
       "0        Accounting & Tech                          1.0   \n",
       "1        Software Engineer                          3.0   \n",
       "2              Hospitality                          5.0   \n",
       "3                       IT                          0.0   \n",
       "4                     Tech                          1.0   \n",
       "..                     ...                          ...   \n",
       "116  Advertising, Research                          2.0   \n",
       "117                   Tech                          2.0   \n",
       "118              Insurance                          2.0   \n",
       "119                  Tech                           0.0   \n",
       "120                    nil                          0.0   \n",
       "\n",
       "    Do you foot your accommodation bills?  \\\n",
       "0                                     Yes   \n",
       "1                                     Yes   \n",
       "2                                     Yes   \n",
       "3                                      No   \n",
       "4                          Not completely   \n",
       "..                                    ...   \n",
       "116                        Not completely   \n",
       "117                                   Yes   \n",
       "118                        Not completely   \n",
       "119                                   Yes   \n",
       "120                                    No   \n",
       "\n",
       "    If you selected \"Not completely\", what fraction of the rent do you pay?  \\\n",
       "0                                                  NaN                        \n",
       "1                                                  NaN                        \n",
       "2                                                  NaN                        \n",
       "3                                                  NaN                        \n",
       "4                                                  1/4                        \n",
       "..                                                 ...                        \n",
       "116                                                1/3                        \n",
       "117                                                NaN                        \n",
       "118                                                1/4                        \n",
       "119                                                1/2                        \n",
       "120                                                NaN                        \n",
       "\n",
       "            Accommodation Rented Location of accommodation  \\\n",
       "0                      Full Flat            Mid-class area   \n",
       "1                    Shared Flat            Mid-class area   \n",
       "2                    Shared Flat            Mid-class area   \n",
       "3    Neither. I do not pay rents        I do not pay rents   \n",
       "4    Neither. I do not pay rents             Low brow area   \n",
       "..                           ...                       ...   \n",
       "116                    Mini Flat             Low brow area   \n",
       "117             Studio apartment             Low brow area   \n",
       "118                    Mini Flat            Mid-class area   \n",
       "119               Self-contained            Mid-class area   \n",
       "120               Self-contained        I do not pay rents   \n",
       "\n",
       "    Cost of your accommodation per month  \\\n",
       "0                                  80000   \n",
       "1                                  35000   \n",
       "2                                  R3500   \n",
       "3                                    NaN   \n",
       "4                                    N/A   \n",
       "..                                   ...   \n",
       "116                                10000   \n",
       "117                                18000   \n",
       "118                                18000   \n",
       "119                                12000   \n",
       "120                                  140   \n",
       "\n",
       "    Do you think accommodation prices are generally high in your State of residence for young adults?  \n",
       "0                                                  Yes                                                 \n",
       "1                                                  Yes                                                 \n",
       "2                                                  Yes                                                 \n",
       "3                                                  Yes                                                 \n",
       "4                                                  Yes                                                 \n",
       "..                                                 ...                                                 \n",
       "116                                                Yes                                                 \n",
       "117                                                Yes                                                 \n",
       "118                                        Indifferent                                                 \n",
       "119                                                Yes                                                 \n",
       "120                                                Yes                                                 \n",
       "\n",
       "[121 rows x 17 columns]>"
      ]
     },
     "execution_count": 10,
     "metadata": {},
     "output_type": "execute_result"
    }
   ],
   "source": [
    "df.info"
   ]
  },
  {
   "cell_type": "code",
   "execution_count": 11,
   "metadata": {},
   "outputs": [
    {
     "data": {
      "text/plain": [
       "Index(['Timestamp', 'Age', 'Gender', 'Maximum Level of Education', 'Country',\n",
       "       'State/Province',\n",
       "       'Based on your answer above, how industrious is your State of residence?',\n",
       "       'Currency', 'Monthly Salary in the currency you mentioned above',\n",
       "       'Career Industry', 'Years of working experience',\n",
       "       'Do you foot your accommodation bills?',\n",
       "       'If you selected \"Not completely\", what fraction of the rent do you pay?',\n",
       "       'Accommodation Rented', 'Location of accommodation',\n",
       "       'Cost of your accommodation per month',\n",
       "       'Do you think accommodation prices are generally high in your State of residence for young adults?'],\n",
       "      dtype='object')"
      ]
     },
     "execution_count": 11,
     "metadata": {},
     "output_type": "execute_result"
    }
   ],
   "source": [
    "df.columns"
   ]
  },
  {
   "cell_type": "markdown",
   "metadata": {},
   "source": [
    "check the Age distribution"
   ]
  },
  {
   "cell_type": "code",
   "execution_count": 16,
   "metadata": {},
   "outputs": [
    {
     "data": {
      "text/plain": [
       "Timestamp                                                                                             0\n",
       "Age                                                                                                   0\n",
       "Gender                                                                                                0\n",
       "Maximum Level of Education                                                                            0\n",
       "Country                                                                                               0\n",
       "State/Province                                                                                        0\n",
       "Based on your answer above, how industrious is your State of residence?                               3\n",
       "Currency                                                                                              0\n",
       "Monthly Salary in the currency you mentioned above                                                    0\n",
       "Career Industry                                                                                       0\n",
       "Years of working experience                                                                           0\n",
       "Do you foot your accommodation bills?                                                                 0\n",
       "If you selected \"Not completely\", what fraction of the rent do you pay?                              93\n",
       "Accommodation Rented                                                                                  0\n",
       "Location of accommodation                                                                             0\n",
       "Cost of your accommodation per month                                                                 38\n",
       "Do you think accommodation prices are generally high in your State of residence for young adults?     0\n",
       "dtype: int64"
      ]
     },
     "execution_count": 16,
     "metadata": {},
     "output_type": "execute_result"
    }
   ],
   "source": [
    "df.isnull().sum()"
   ]
  },
  {
   "cell_type": "code",
   "execution_count": 31,
   "metadata": {},
   "outputs": [],
   "source": [
    "#drop the \" Do you think accommodation prices are generally high in your State of residence for young adults?\" columnn\n",
    "df.drop(\"Do you think accommodation prices are generally high in your State of residence for young adults?\", axis= 1, inplace=True)"
   ]
  },
  {
   "cell_type": "code",
   "execution_count": 15,
   "metadata": {},
   "outputs": [
    {
     "data": {
      "image/png": "[encoded data removed]",
      "text/plain": [
       "<Figure size 432x288 with 1 Axes>"
      ]
     },
     "metadata": {
      "needs_background": "light"
     },
     "output_type": "display_data"
    }
   ],
   "source": [
    "plt.plot(df['Age']);"
   ]
  },
  {
   "cell_type": "code",
   "execution_count": 32,
   "metadata": {},
   "outputs": [
    {
     "data": {
      "text/plain": [
       "Index(['Timestamp', 'Age', 'Gender', 'Maximum Level of Education', 'Country',\n",
       "       'State/Province',\n",
       "       'Based on your answer above, how industrious is your State of residence?',\n",
       "       'Currency', 'Monthly Salary in the currency you mentioned above',\n",
       "       'Career Industry', 'Years of working experience',\n",
       "       'Do you foot your accommodation bills?',\n",
       "       'If you selected \"Not completely\", what fraction of the rent do you pay?',\n",
       "       'Accommodation Rented', 'Location of accommodation',\n",
       "       'Cost of your accommodation per month'],\n",
       "      dtype='object')"
      ]
     },
     "execution_count": 32,
     "metadata": {},
     "output_type": "execute_result"
    }
   ],
   "source": [
    "df.columns"
   ]
  },
  {
   "cell_type": "code",
   "execution_count": 84,
   "metadata": {},
   "outputs": [],
   "source": [
    "df.rename(columns={\"Based on your answer above, how industrious is your State of residence?\": \"industrous level\",\n",
    "                   \"Monthly Salary in the currency you mentioned above\": \"Salary\",\n",
    "                  \"Years of working experience\":\"Working experience\", \"Do you foot your accommodation bills?\":\"pay Acoomodation bills?\",\n",
    "                  'If you selected \"Not completely\", what fraction of the rent do you pay?': \"fraction of rent paid\"}, inplace= True)"
   ]
  },
  {
   "cell_type": "code",
   "execution_count": 85,
   "metadata": {},
   "outputs": [
    {
     "data": {
      "text/plain": [
       "Index(['Timestamp', 'Gender', 'Maximum Level of Education', 'Country',\n",
       "       'State/Province', 'industrous level', 'Currency', 'Career Industry',\n",
       "       'pay Acoomodation bills?', 'fraction of rent paid',\n",
       "       'Accommodation Rented', 'Location of accommodation',\n",
       "       'Cost of your accommodation per month'],\n",
       "      dtype='object')"
      ]
     },
     "execution_count": 85,
     "metadata": {},
     "output_type": "execute_result"
    }
   ],
   "source": [
    "categorical_columns = df.select_dtypes(include='object').columns\n",
    "categorical_columns"
   ]
  },
  {
   "cell_type": "code",
   "execution_count": 51,
   "metadata": {},
   "outputs": [
    {
     "data": {
      "text/plain": [
       "array(['Male', 'Female'], dtype=object)"
      ]
     },
     "execution_count": 51,
     "metadata": {},
     "output_type": "execute_result"
    }
   ],
   "source": [
    "df['Gender'].unique()"
   ]
  },
  {
   "cell_type": "code",
   "execution_count": 36,
   "metadata": {},
   "outputs": [
    {
     "data": {
      "image/png": "[encoded data removed]",
      "text/plain": [
       "<Figure size 432x288 with 1 Axes>"
      ]
     },
     "metadata": {
      "needs_background": "light"
     },
     "output_type": "display_data"
    }
   ],
   "source": [
    "ax = sns.countplot(x=\"Gender\", data=df);\n",
    "plt.xticks(rotation=90)\n",
    "ax.set_title('Count Plot For Gender', fontsize=14)\n",
    "plt.show()\n"
   ]
  },
  {
   "cell_type": "code",
   "execution_count": 37,
   "metadata": {},
   "outputs": [
    {
     "data": {
      "image/png": "[encoded data removed]",
      "text/plain": [
       "<Figure size 432x288 with 1 Axes>"
      ]
     },
     "metadata": {},
     "output_type": "display_data"
    }
   ],
   "source": [
    "plt.pie(df['Gender'].value_counts(), labels=df['Gender'].unique(), autopct='%1.1f%%');"
   ]
  },
  {
   "cell_type": "code",
   "execution_count": 39,
   "metadata": {},
   "outputs": [
    {
     "data": {
      "text/plain": [
       "array([\"Bachelor's Degree/Equivalent\", 'High/Secondary School',\n",
       "       \"Master's Degree\", 'Undergraduate'], dtype=object)"
      ]
     },
     "execution_count": 39,
     "metadata": {},
     "output_type": "execute_result"
    }
   ],
   "source": [
    "df['Maximum Level of Education'].unique()"
   ]
  },
  {
   "cell_type": "code",
   "execution_count": 40,
   "metadata": {},
   "outputs": [
    {
     "data": {
      "image/png": "[encoded data removed]",
      "text/plain": [
       "<Figure size 432x288 with 1 Axes>"
      ]
     },
     "metadata": {
      "needs_background": "light"
     },
     "output_type": "display_data"
    }
   ],
   "source": [
    "ax = sns.countplot(x=\"Maximum Level of Education\", data=df);\n",
    "plt.xticks(rotation=90)\n",
    "ax.set_title('Count Plot For Maximum Level of Education', fontsize=14)\n",
    "plt.show()\n"
   ]
  },
  {
   "cell_type": "code",
   "execution_count": 41,
   "metadata": {},
   "outputs": [
    {
     "data": {
      "image/png": "[encoded data removed]",
      "text/plain": [
       "<Figure size 432x288 with 1 Axes>"
      ]
     },
     "metadata": {},
     "output_type": "display_data"
    }
   ],
   "source": [
    "plt.pie(df['Maximum Level of Education'].value_counts(), labels=df['Maximum Level of Education'].unique(), autopct='%1.1f%%');"
   ]
  },
  {
   "cell_type": "code",
   "execution_count": 52,
   "metadata": {},
   "outputs": [
    {
     "data": {
      "text/plain": [
       "array(['Nigeria', 'Kenya', 'South Africa', 'Nigeria ', 'NIGERIA',\n",
       "       'Nigerian', 'NIGERIAN', 'Adamawa', 'NIGERIA '], dtype=object)"
      ]
     },
     "execution_count": 52,
     "metadata": {},
     "output_type": "execute_result"
    }
   ],
   "source": [
    "df['Country'].unique()"
   ]
  },
  {
   "cell_type": "code",
   "execution_count": 56,
   "metadata": {},
   "outputs": [],
   "source": [
    "#rename all Nigeria to same case in Country Column\n",
    "\n",
    "df[\"Country\"].replace({\"Nigeria \": \"Nigeria\", \"Nigerian\": \"Nigeria\", \"NIGERIAN\":\"Nigeria\", \"NIGERIA\":\"Nigeria\", \"Adamawa\":\"Nigeria\", \"NIGERIA \":\"Nigeria\"}, inplace=True)"
   ]
  },
  {
   "cell_type": "code",
   "execution_count": 57,
   "metadata": {},
   "outputs": [
    {
     "data": {
      "text/plain": [
       "array(['Nigeria', 'Kenya', 'South Africa'], dtype=object)"
      ]
     },
     "execution_count": 57,
     "metadata": {},
     "output_type": "execute_result"
    }
   ],
   "source": [
    "df['Country'].unique()"
   ]
  },
  {
   "cell_type": "code",
   "execution_count": 80,
   "metadata": {},
   "outputs": [
    {
     "data": {
      "image/png": "[encoded data removed]",
      "text/plain": [
       "<Figure size 432x288 with 1 Axes>"
      ]
     },
     "metadata": {
      "needs_background": "light"
     },
     "output_type": "display_data"
    },
    {
     "data": {
      "image/png": "[encoded data removed]",
      "text/plain": [
       "<Figure size 432x288 with 1 Axes>"
      ]
     },
     "metadata": {},
     "output_type": "display_data"
    }
   ],
   "source": [
    "ax = sns.countplot(x='Country', data=df);\n",
    "plt.xticks(rotation=90)\n",
    "ax.set_title(f'Count Plot For Country', fontsize=14)\n",
    "plt.show()\n",
    "plt.pie(df['Country'].value_counts(), labels=df['Country'].unique(), autopct='%1.1f%%');    \n"
   ]
  },
  {
   "cell_type": "code",
   "execution_count": 64,
   "metadata": {},
   "outputs": [
    {
     "data": {
      "text/plain": [
       "array(['Lagos', 'Nairobi', 'Cape Town', 'Abia state ', 'Rivers State',\n",
       "       'Delta', 'Ekiti', 'Osun', 'OSUN', 'FCT', 'Ondo', 'Lagos State',\n",
       "       'Oyo state', 'Lagos ', 'Nigeria', 'OYO', 'ONDO', 'LAGOS',\n",
       "       'Osun State', 'Cross River', 'Ogun State', 'Ilorin, Kwara state',\n",
       "       'Niger state', 'Delta State', 'Ogun', 'ANAMBRA STATE, NIGERIA',\n",
       "       'F.C.T. - Abuja', 'Lagos State/ Ikorodu', 'BORNO ', 'Enugu',\n",
       "       'Kwara', 'lagos', 'ENUGU', 'Ekiti state', 'Lagos, Lagos',\n",
       "       'FEDERAL CAPITAL TERRITORY.', 'FCT Abuja', 'Rivers', 'Abuja',\n",
       "       'Oyo', 'Akwa Ibom', 'Cross river', 'Federal Capital Territory',\n",
       "       'Abia State', 'Lagos and Osun', 'Oyo State', 'STATE ',\n",
       "       'FEDERAL CAPITAL TERRITORY, ABUJA', 'LAGOS STATE', 'EKITI', 'Kano',\n",
       "       'Anambra', 'OGUN STATE', 'ogun'], dtype=object)"
      ]
     },
     "execution_count": 64,
     "metadata": {},
     "output_type": "execute_result"
    }
   ],
   "source": [
    "df['State/Province'].unique()"
   ]
  },
  {
   "cell_type": "code",
   "execution_count": 73,
   "metadata": {},
   "outputs": [],
   "source": [
    "#remove white spaces\n",
    "df['State/Province'] = df['State/Province'].apply(lambda x : x.strip().lower().replace('state',\"\").replace('.',''))"
   ]
  },
  {
   "cell_type": "code",
   "execution_count": 74,
   "metadata": {},
   "outputs": [
    {
     "data": {
      "text/plain": [
       "array(['lagos', 'nairobi', 'cape town', 'abia', 'rivers', 'delta',\n",
       "       'ekiti', 'osun', 'fct', 'ondo', 'oyo', 'nigeria', 'cross river',\n",
       "       'ogun', 'ilorin, kwara', 'niger', 'anambra , nigeria',\n",
       "       'fct - abuja', 'lagos / ikorodu', 'borno', 'enugu', 'kwara',\n",
       "       'lagos, lagos', 'federal capital territory', 'fct abuja', 'abuja',\n",
       "       'akwa ibom', 'lagos and osun', '',\n",
       "       'federal capital territory, abuja', 'kano', 'anambra'],\n",
       "      dtype=object)"
      ]
     },
     "execution_count": 74,
     "metadata": {},
     "output_type": "execute_result"
    }
   ],
   "source": [
    "df['State/Province'].unique()"
   ]
  },
  {
   "cell_type": "code",
   "execution_count": 77,
   "metadata": {},
   "outputs": [],
   "source": [
    "#rename all Nigeria to same case in Country Column\n",
    "\n",
    "df[\"State/Province\"].replace({'ilorin, kwara':'kwara','anambra , nigeria':'anambra', 'f.c.t. - abuja':'abuja'\n",
    "                      ,'fct':'abuja','lagos / ikorodu':'lagos','lagos, lagos':'lagos','federal capital territory':\"abuja\",\n",
    "                       'fct abuja':\"abuja\",\"lagos and osun\":\"lagos\",'fct - abuja':'abuja'\n",
    "                      }, inplace=True)\n",
    "\n",
    "\n",
    "\n"
   ]
  },
  {
   "cell_type": "code",
   "execution_count": 78,
   "metadata": {},
   "outputs": [
    {
     "data": {
      "text/plain": [
       "array(['lagos', 'nairobi', 'cape town', 'abia', 'rivers', 'delta',\n",
       "       'ekiti', 'osun', 'abuja', 'ondo', 'oyo', 'nigeria', 'cross river',\n",
       "       'ogun', 'kwara', 'niger', 'anambra', 'borno', 'enugu', 'akwa ibom',\n",
       "       '', 'federal capital territory, abuja', 'kano'], dtype=object)"
      ]
     },
     "execution_count": 78,
     "metadata": {},
     "output_type": "execute_result"
    }
   ],
   "source": [
    "df['State/Province'].unique()"
   ]
  },
  {
   "cell_type": "code",
   "execution_count": 81,
   "metadata": {},
   "outputs": [
    {
     "data": {
      "image/png": "[encoded data removed]",
      "text/plain": [
       "<Figure size 432x288 with 1 Axes>"
      ]
     },
     "metadata": {
      "needs_background": "light"
     },
     "output_type": "display_data"
    }
   ],
   "source": [
    "ax = sns.countplot(x='State/Province', data=df);\n",
    "plt.xticks(rotation=90)\n",
    "ax.set_title(f'Count Plot For State/Province', fontsize=14)\n",
    "plt.show()\n",
    "# plt.pie(df['State/Province'].value_counts(), labels=df['State/Province'].unique(), autopct='%1.1f%%');    \n"
   ]
  },
  {
   "cell_type": "code",
   "execution_count": 86,
   "metadata": {},
   "outputs": [
    {
     "data": {
      "text/plain": [
       "array(['Industrious', 'Most industrious in the country',\n",
       "       'Non-Industrious', 'Unknown', nan], dtype=object)"
      ]
     },
     "execution_count": 86,
     "metadata": {},
     "output_type": "execute_result"
    }
   ],
   "source": [
    "df['industrous level'].unique()"
   ]
  },
  {
   "cell_type": "code",
   "execution_count": 87,
   "metadata": {},
   "outputs": [
    {
     "data": {
      "image/png": "[encoded data removed]",
      "text/plain": [
       "<Figure size 432x288 with 1 Axes>"
      ]
     },
     "metadata": {
      "needs_background": "light"
     },
     "output_type": "display_data"
    }
   ],
   "source": [
    "ax = sns.countplot(x='industrous level', data=df);\n",
    "plt.xticks(rotation=90)\n",
    "ax.set_title(f'Count Plot For industrous level', fontsize=14)\n",
    "plt.show()\n",
    "# plt.pie(df['State/Province'].value_counts(), labels=df['State/Province'].unique(), autopct='%1.1f%%');    \n"
   ]
  },
  {
   "cell_type": "code",
   "execution_count": 88,
   "metadata": {},
   "outputs": [
    {
     "data": {
      "text/plain": [
       "array(['Naira', 'Kenyan Shillings', 'Rand', 'Naira ', 'NAIRA',\n",
       "       'Naira, Dollars', 'Dollars', 'NAIRA ', 'NARIA'], dtype=object)"
      ]
     },
     "execution_count": 88,
     "metadata": {},
     "output_type": "execute_result"
    }
   ],
   "source": [
    "df['Currency'].unique()"
   ]
  },
  {
   "cell_type": "code",
   "execution_count": 94,
   "metadata": {},
   "outputs": [],
   "source": [
    "df['Currency'] = df['Currency'].apply(lambda x:x.strip().lower())"
   ]
  },
  {
   "cell_type": "code",
   "execution_count": 95,
   "metadata": {},
   "outputs": [
    {
     "data": {
      "text/plain": [
       "array(['naira', 'kenyan shillings', 'rand', 'naira, dollars', 'dollars',\n",
       "       'naria'], dtype=object)"
      ]
     },
     "execution_count": 95,
     "metadata": {},
     "output_type": "execute_result"
    }
   ],
   "source": [
    "df['Currency'].unique()"
   ]
  },
  {
   "cell_type": "code",
   "execution_count": null,
   "metadata": {},
   "outputs": [],
   "source": []
  },
  {
   "cell_type": "code",
   "execution_count": null,
   "metadata": {},
   "outputs": [],
   "source": []
  }
 ],
 "metadata": {
  "kernelspec": {
   "display_name": "Python 3",
   "language": "python",
   "name": "python3"
  },
  "language_info": {
   "codemirror_mode": {
    "name": "ipython",
    "version": 3
   },
   "file_extension": ".py",
   "mimetype": "text/x-python",
   "name": "python",
   "nbconvert_exporter": "python",
   "pygments_lexer": "ipython3",
   "version": "3.8.3"
  }
 },
 "nbformat": 4,
 "nbformat_minor": 4
}
