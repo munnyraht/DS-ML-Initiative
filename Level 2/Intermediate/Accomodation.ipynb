{
 "cells": [
  {
   "cell_type": "code",
   "execution_count": 228,
   "metadata": {},
   "outputs": [],
   "source": [
    "import pandas as pd\n",
    "import matplotlib.pyplot as plt\n",
    "%matplotlib inline\n",
    "import seaborn as sns\n",
    "import numpy as np"
   ]
  },
  {
   "cell_type": "code",
   "execution_count": 229,
   "metadata": {},
   "outputs": [],
   "source": [
    "df = pd.read_csv('Accommodation.csv')"
   ]
  },
  {
   "cell_type": "code",
   "execution_count": 230,
   "metadata": {},
   "outputs": [
    {
     "data": {
      "text/html": [
       "<div>\n",
       "<style scoped>\n",
       "    .dataframe tbody tr th:only-of-type {\n",
       "        vertical-align: middle;\n",
       "    }\n",
       "\n",
       "    .dataframe tbody tr th {\n",
       "        vertical-align: top;\n",
       "    }\n",
       "\n",
       "    .dataframe thead th {\n",
       "        text-align: right;\n",
       "    }\n",
       "</style>\n",
       "<table border=\"1\" class=\"dataframe\">\n",
       "  <thead>\n",
       "    <tr style=\"text-align: right;\">\n",
       "      <th></th>\n",
       "      <th>Timestamp</th>\n",
       "      <th>Age</th>\n",
       "      <th>Gender</th>\n",
       "      <th>Maximum Level of Education</th>\n",
       "      <th>Country</th>\n",
       "      <th>State/Province</th>\n",
       "      <th>Based on your answer above, how industrious is your State of residence?</th>\n",
       "      <th>Currency</th>\n",
       "      <th>Monthly Salary in the currency you mentioned above</th>\n",
       "      <th>Career Industry</th>\n",
       "      <th>Years of working experience</th>\n",
       "      <th>Do you foot your accommodation bills?</th>\n",
       "      <th>If you selected \"Not completely\", what fraction of the rent do you pay?</th>\n",
       "      <th>Accommodation Rented</th>\n",
       "      <th>Location of accommodation</th>\n",
       "      <th>Cost of your accommodation per month</th>\n",
       "      <th>Do you think accommodation prices are generally high in your State of residence for young adults?</th>\n",
       "    </tr>\n",
       "  </thead>\n",
       "  <tbody>\n",
       "    <tr>\n",
       "      <th>0</th>\n",
       "      <td>2021/01/20 7:57:57 AM GMT+1</td>\n",
       "      <td>24</td>\n",
       "      <td>Male</td>\n",
       "      <td>Bachelor's Degree/Equivalent</td>\n",
       "      <td>Nigeria</td>\n",
       "      <td>Lagos</td>\n",
       "      <td>Industrious</td>\n",
       "      <td>Naira</td>\n",
       "      <td>150000</td>\n",
       "      <td>Accounting &amp; Tech</td>\n",
       "      <td>1.0</td>\n",
       "      <td>Yes</td>\n",
       "      <td>NaN</td>\n",
       "      <td>Full Flat</td>\n",
       "      <td>Mid-class area</td>\n",
       "      <td>80000</td>\n",
       "      <td>Yes</td>\n",
       "    </tr>\n",
       "    <tr>\n",
       "      <th>1</th>\n",
       "      <td>2021/01/20 9:02:40 AM GMT+1</td>\n",
       "      <td>27</td>\n",
       "      <td>Female</td>\n",
       "      <td>Bachelor's Degree/Equivalent</td>\n",
       "      <td>Kenya</td>\n",
       "      <td>Nairobi</td>\n",
       "      <td>Most industrious in the country</td>\n",
       "      <td>Kenyan Shillings</td>\n",
       "      <td>150000</td>\n",
       "      <td>Software Engineer</td>\n",
       "      <td>3.0</td>\n",
       "      <td>Yes</td>\n",
       "      <td>NaN</td>\n",
       "      <td>Shared Flat</td>\n",
       "      <td>Mid-class area</td>\n",
       "      <td>35000</td>\n",
       "      <td>Yes</td>\n",
       "    </tr>\n",
       "    <tr>\n",
       "      <th>2</th>\n",
       "      <td>2021/01/20 9:07:23 AM GMT+1</td>\n",
       "      <td>25</td>\n",
       "      <td>Female</td>\n",
       "      <td>High/Secondary School</td>\n",
       "      <td>South Africa</td>\n",
       "      <td>Cape Town</td>\n",
       "      <td>Non-Industrious</td>\n",
       "      <td>Rand</td>\n",
       "      <td>2000</td>\n",
       "      <td>Hospitality</td>\n",
       "      <td>5.0</td>\n",
       "      <td>Yes</td>\n",
       "      <td>NaN</td>\n",
       "      <td>Shared Flat</td>\n",
       "      <td>Mid-class area</td>\n",
       "      <td>R3500</td>\n",
       "      <td>Yes</td>\n",
       "    </tr>\n",
       "    <tr>\n",
       "      <th>3</th>\n",
       "      <td>2021/01/20 9:27:25 AM GMT+1</td>\n",
       "      <td>28</td>\n",
       "      <td>Female</td>\n",
       "      <td>Bachelor's Degree/Equivalent</td>\n",
       "      <td>Nigeria</td>\n",
       "      <td>Lagos</td>\n",
       "      <td>Most industrious in the country</td>\n",
       "      <td>Naira</td>\n",
       "      <td>0</td>\n",
       "      <td>IT</td>\n",
       "      <td>0.0</td>\n",
       "      <td>No</td>\n",
       "      <td>NaN</td>\n",
       "      <td>Neither. I do not pay rents</td>\n",
       "      <td>I do not pay rents</td>\n",
       "      <td>NaN</td>\n",
       "      <td>Yes</td>\n",
       "    </tr>\n",
       "    <tr>\n",
       "      <th>4</th>\n",
       "      <td>2021/01/20 9:27:53 AM GMT+1</td>\n",
       "      <td>24</td>\n",
       "      <td>Female</td>\n",
       "      <td>Bachelor's Degree/Equivalent</td>\n",
       "      <td>Nigeria</td>\n",
       "      <td>Lagos</td>\n",
       "      <td>Industrious</td>\n",
       "      <td>Naira</td>\n",
       "      <td>70000</td>\n",
       "      <td>Tech</td>\n",
       "      <td>1.0</td>\n",
       "      <td>Not completely</td>\n",
       "      <td>1/4</td>\n",
       "      <td>Neither. I do not pay rents</td>\n",
       "      <td>Low brow area</td>\n",
       "      <td>N/A</td>\n",
       "      <td>Yes</td>\n",
       "    </tr>\n",
       "  </tbody>\n",
       "</table>\n",
       "</div>"
      ],
      "text/plain": [
       "                     Timestamp  Age  Gender    Maximum Level of Education  \\\n",
       "0  2021/01/20 7:57:57 AM GMT+1   24    Male  Bachelor's Degree/Equivalent   \n",
       "1  2021/01/20 9:02:40 AM GMT+1   27  Female  Bachelor's Degree/Equivalent   \n",
       "2  2021/01/20 9:07:23 AM GMT+1   25  Female         High/Secondary School   \n",
       "3  2021/01/20 9:27:25 AM GMT+1   28  Female  Bachelor's Degree/Equivalent   \n",
       "4  2021/01/20 9:27:53 AM GMT+1   24  Female  Bachelor's Degree/Equivalent   \n",
       "\n",
       "        Country State/Province  \\\n",
       "0       Nigeria          Lagos   \n",
       "1         Kenya        Nairobi   \n",
       "2  South Africa      Cape Town   \n",
       "3       Nigeria          Lagos   \n",
       "4       Nigeria          Lagos   \n",
       "\n",
       "  Based on your answer above, how industrious is your State of residence?  \\\n",
       "0                                        Industrious                        \n",
       "1                    Most industrious in the country                        \n",
       "2                                    Non-Industrious                        \n",
       "3                    Most industrious in the country                        \n",
       "4                                        Industrious                        \n",
       "\n",
       "           Currency  Monthly Salary in the currency you mentioned above  \\\n",
       "0             Naira                                             150000    \n",
       "1  Kenyan Shillings                                             150000    \n",
       "2              Rand                                               2000    \n",
       "3             Naira                                                  0    \n",
       "4            Naira                                               70000    \n",
       "\n",
       "     Career Industry  Years of working experience  \\\n",
       "0  Accounting & Tech                          1.0   \n",
       "1  Software Engineer                          3.0   \n",
       "2        Hospitality                          5.0   \n",
       "3                 IT                          0.0   \n",
       "4               Tech                          1.0   \n",
       "\n",
       "  Do you foot your accommodation bills?  \\\n",
       "0                                   Yes   \n",
       "1                                   Yes   \n",
       "2                                   Yes   \n",
       "3                                    No   \n",
       "4                        Not completely   \n",
       "\n",
       "  If you selected \"Not completely\", what fraction of the rent do you pay?  \\\n",
       "0                                                NaN                        \n",
       "1                                                NaN                        \n",
       "2                                                NaN                        \n",
       "3                                                NaN                        \n",
       "4                                                1/4                        \n",
       "\n",
       "          Accommodation Rented Location of accommodation  \\\n",
       "0                    Full Flat            Mid-class area   \n",
       "1                  Shared Flat            Mid-class area   \n",
       "2                  Shared Flat            Mid-class area   \n",
       "3  Neither. I do not pay rents        I do not pay rents   \n",
       "4  Neither. I do not pay rents             Low brow area   \n",
       "\n",
       "  Cost of your accommodation per month  \\\n",
       "0                                80000   \n",
       "1                                35000   \n",
       "2                                R3500   \n",
       "3                                  NaN   \n",
       "4                                  N/A   \n",
       "\n",
       "  Do you think accommodation prices are generally high in your State of residence for young adults?  \n",
       "0                                                Yes                                                 \n",
       "1                                                Yes                                                 \n",
       "2                                                Yes                                                 \n",
       "3                                                Yes                                                 \n",
       "4                                                Yes                                                 "
      ]
     },
     "execution_count": 230,
     "metadata": {},
     "output_type": "execute_result"
    }
   ],
   "source": [
    "df.head()"
   ]
  },
  {
   "cell_type": "code",
   "execution_count": 371,
   "metadata": {},
   "outputs": [
    {
     "data": {
      "text/html": [
       "<div>\n",
       "<style scoped>\n",
       "    .dataframe tbody tr th:only-of-type {\n",
       "        vertical-align: middle;\n",
       "    }\n",
       "\n",
       "    .dataframe tbody tr th {\n",
       "        vertical-align: top;\n",
       "    }\n",
       "\n",
       "    .dataframe thead th {\n",
       "        text-align: right;\n",
       "    }\n",
       "</style>\n",
       "<table border=\"1\" class=\"dataframe\">\n",
       "  <thead>\n",
       "    <tr style=\"text-align: right;\">\n",
       "      <th></th>\n",
       "      <th>Age</th>\n",
       "      <th>Salary</th>\n",
       "      <th>Working experience</th>\n",
       "      <th>monthly rent</th>\n",
       "      <th>rent in Naira</th>\n",
       "    </tr>\n",
       "  </thead>\n",
       "  <tbody>\n",
       "    <tr>\n",
       "      <th>count</th>\n",
       "      <td>120.000000</td>\n",
       "      <td>120.000000</td>\n",
       "      <td>120.000000</td>\n",
       "      <td>120.000000</td>\n",
       "      <td>1.200000e+02</td>\n",
       "    </tr>\n",
       "    <tr>\n",
       "      <th>mean</th>\n",
       "      <td>23.425000</td>\n",
       "      <td>61092.500000</td>\n",
       "      <td>1.497083</td>\n",
       "      <td>28796.208333</td>\n",
       "      <td>8.016650e+04</td>\n",
       "    </tr>\n",
       "    <tr>\n",
       "      <th>std</th>\n",
       "      <td>2.809535</td>\n",
       "      <td>113552.926365</td>\n",
       "      <td>1.847441</td>\n",
       "      <td>77867.288347</td>\n",
       "      <td>5.448723e+05</td>\n",
       "    </tr>\n",
       "    <tr>\n",
       "      <th>min</th>\n",
       "      <td>18.000000</td>\n",
       "      <td>0.000000</td>\n",
       "      <td>0.000000</td>\n",
       "      <td>0.000000</td>\n",
       "      <td>0.000000e+00</td>\n",
       "    </tr>\n",
       "    <tr>\n",
       "      <th>25%</th>\n",
       "      <td>22.000000</td>\n",
       "      <td>0.000000</td>\n",
       "      <td>0.000000</td>\n",
       "      <td>0.000000</td>\n",
       "      <td>0.000000e+00</td>\n",
       "    </tr>\n",
       "    <tr>\n",
       "      <th>50%</th>\n",
       "      <td>23.000000</td>\n",
       "      <td>20000.000000</td>\n",
       "      <td>1.000000</td>\n",
       "      <td>6750.000000</td>\n",
       "      <td>7.000000e+03</td>\n",
       "    </tr>\n",
       "    <tr>\n",
       "      <th>75%</th>\n",
       "      <td>25.000000</td>\n",
       "      <td>71250.000000</td>\n",
       "      <td>2.000000</td>\n",
       "      <td>20208.250000</td>\n",
       "      <td>2.500000e+04</td>\n",
       "    </tr>\n",
       "    <tr>\n",
       "      <th>max</th>\n",
       "      <td>29.000000</td>\n",
       "      <td>800000.000000</td>\n",
       "      <td>10.000000</td>\n",
       "      <td>700000.000000</td>\n",
       "      <td>5.937500e+06</td>\n",
       "    </tr>\n",
       "  </tbody>\n",
       "</table>\n",
       "</div>"
      ],
      "text/plain": [
       "              Age         Salary  Working experience   monthly rent  \\\n",
       "count  120.000000     120.000000          120.000000     120.000000   \n",
       "mean    23.425000   61092.500000            1.497083   28796.208333   \n",
       "std      2.809535  113552.926365            1.847441   77867.288347   \n",
       "min     18.000000       0.000000            0.000000       0.000000   \n",
       "25%     22.000000       0.000000            0.000000       0.000000   \n",
       "50%     23.000000   20000.000000            1.000000    6750.000000   \n",
       "75%     25.000000   71250.000000            2.000000   20208.250000   \n",
       "max     29.000000  800000.000000           10.000000  700000.000000   \n",
       "\n",
       "       rent in Naira  \n",
       "count   1.200000e+02  \n",
       "mean    8.016650e+04  \n",
       "std     5.448723e+05  \n",
       "min     0.000000e+00  \n",
       "25%     0.000000e+00  \n",
       "50%     7.000000e+03  \n",
       "75%     2.500000e+04  \n",
       "max     5.937500e+06  "
      ]
     },
     "execution_count": 371,
     "metadata": {},
     "output_type": "execute_result"
    }
   ],
   "source": [
    "df.describe()"
   ]
  },
  {
   "cell_type": "code",
   "execution_count": 232,
   "metadata": {},
   "outputs": [
    {
     "data": {
      "text/plain": [
       "(121, 17)"
      ]
     },
     "execution_count": 232,
     "metadata": {},
     "output_type": "execute_result"
    }
   ],
   "source": [
    "df.shape"
   ]
  },
  {
   "cell_type": "code",
   "execution_count": 370,
   "metadata": {},
   "outputs": [
    {
     "name": "stdout",
     "output_type": "stream",
     "text": [
      "<class 'pandas.core.frame.DataFrame'>\n",
      "Int64Index: 120 entries, 0 to 120\n",
      "Data columns (total 17 columns):\n",
      " #   Column                      Non-Null Count  Dtype  \n",
      "---  ------                      --------------  -----  \n",
      " 0   Timestamp                   120 non-null    object \n",
      " 1   Age                         120 non-null    int64  \n",
      " 2   Gender                      120 non-null    object \n",
      " 3   Maximum Level of Education  120 non-null    object \n",
      " 4   Country                     120 non-null    object \n",
      " 5   State/Province              120 non-null    object \n",
      " 6   industrous level            117 non-null    object \n",
      " 7   Currency                    120 non-null    object \n",
      " 8   Salary                      120 non-null    int64  \n",
      " 9   Career Industry             120 non-null    object \n",
      " 10  Working experience          120 non-null    float64\n",
      " 11  pay Accomodation bills?     120 non-null    object \n",
      " 12  fraction of rent paid       28 non-null     object \n",
      " 13  Accommodation Rented        120 non-null    object \n",
      " 14  Location of accommodation   120 non-null    object \n",
      " 15  monthly rent                120 non-null    int64  \n",
      " 16  rent in Naira               120 non-null    int64  \n",
      "dtypes: float64(1), int64(4), object(12)\n",
      "memory usage: 21.9+ KB\n"
     ]
    }
   ],
   "source": [
    "df.info()"
   ]
  },
  {
   "cell_type": "code",
   "execution_count": 234,
   "metadata": {},
   "outputs": [
    {
     "data": {
      "text/plain": [
       "Index(['Timestamp', 'Age', 'Gender', 'Maximum Level of Education', 'Country',\n",
       "       'State/Province',\n",
       "       'Based on your answer above, how industrious is your State of residence?',\n",
       "       'Currency', 'Monthly Salary in the currency you mentioned above',\n",
       "       'Career Industry', 'Years of working experience',\n",
       "       'Do you foot your accommodation bills?',\n",
       "       'If you selected \"Not completely\", what fraction of the rent do you pay?',\n",
       "       'Accommodation Rented', 'Location of accommodation',\n",
       "       'Cost of your accommodation per month',\n",
       "       'Do you think accommodation prices are generally high in your State of residence for young adults?'],\n",
       "      dtype='object')"
      ]
     },
     "execution_count": 234,
     "metadata": {},
     "output_type": "execute_result"
    }
   ],
   "source": [
    "df.columns"
   ]
  },
  {
   "cell_type": "markdown",
   "metadata": {},
   "source": [
    "check the Age distribution"
   ]
  },
  {
   "cell_type": "code",
   "execution_count": 235,
   "metadata": {},
   "outputs": [
    {
     "data": {
      "text/plain": [
       "Timestamp                                                                                             0\n",
       "Age                                                                                                   0\n",
       "Gender                                                                                                0\n",
       "Maximum Level of Education                                                                            0\n",
       "Country                                                                                               0\n",
       "State/Province                                                                                        0\n",
       "Based on your answer above, how industrious is your State of residence?                               3\n",
       "Currency                                                                                              0\n",
       "Monthly Salary in the currency you mentioned above                                                    0\n",
       "Career Industry                                                                                       0\n",
       "Years of working experience                                                                           0\n",
       "Do you foot your accommodation bills?                                                                 0\n",
       "If you selected \"Not completely\", what fraction of the rent do you pay?                              93\n",
       "Accommodation Rented                                                                                  0\n",
       "Location of accommodation                                                                             0\n",
       "Cost of your accommodation per month                                                                 38\n",
       "Do you think accommodation prices are generally high in your State of residence for young adults?     0\n",
       "dtype: int64"
      ]
     },
     "execution_count": 235,
     "metadata": {},
     "output_type": "execute_result"
    }
   ],
   "source": [
    "df.isnull().sum()"
   ]
  },
  {
   "cell_type": "code",
   "execution_count": 236,
   "metadata": {},
   "outputs": [],
   "source": [
    "#drop the \" Do you think accommodation prices are generally high in your State of residence for young adults?\" columnn\n",
    "df.drop(\"Do you think accommodation prices are generally high in your State of residence for young adults?\", axis= 1, inplace=True)"
   ]
  },
  {
   "cell_type": "code",
   "execution_count": 335,
   "metadata": {},
   "outputs": [
    {
     "data": {
      "image/png": "[encoded data removed]",
      "text/plain": [
       "<Figure size 432x288 with 1 Axes>"
      ]
     },
     "metadata": {
      "needs_background": "light"
     },
     "output_type": "display_data"
    }
   ],
   "source": [
    "sns.countplot(df['Age']);"
   ]
  },
  {
   "cell_type": "code",
   "execution_count": 238,
   "metadata": {},
   "outputs": [
    {
     "data": {
      "text/plain": [
       "Index(['Timestamp', 'Age', 'Gender', 'Maximum Level of Education', 'Country',\n",
       "       'State/Province',\n",
       "       'Based on your answer above, how industrious is your State of residence?',\n",
       "       'Currency', 'Monthly Salary in the currency you mentioned above',\n",
       "       'Career Industry', 'Years of working experience',\n",
       "       'Do you foot your accommodation bills?',\n",
       "       'If you selected \"Not completely\", what fraction of the rent do you pay?',\n",
       "       'Accommodation Rented', 'Location of accommodation',\n",
       "       'Cost of your accommodation per month'],\n",
       "      dtype='object')"
      ]
     },
     "execution_count": 238,
     "metadata": {},
     "output_type": "execute_result"
    }
   ],
   "source": [
    "df.columns"
   ]
  },
  {
   "cell_type": "code",
   "execution_count": 239,
   "metadata": {},
   "outputs": [],
   "source": [
    "df.rename(columns={\"Based on your answer above, how industrious is your State of residence?\": \"industrous level\",\n",
    "                   \"Monthly Salary in the currency you mentioned above\": \"Salary\",\n",
    "                  \"Years of working experience\":\"Working experience\", \n",
    "                   \"Do you foot your accommodation bills?\":\"pay Accomodation bills?\",\n",
    "                  'If you selected \"Not completely\", what fraction of the rent do you pay?': \"fraction of rent paid\",\n",
    "                  'Cost of your accommodation per month': 'monthly rent'}, inplace= True)"
   ]
  },
  {
   "cell_type": "code",
   "execution_count": 240,
   "metadata": {},
   "outputs": [
    {
     "data": {
      "text/plain": [
       "Index(['Timestamp', 'Gender', 'Maximum Level of Education', 'Country',\n",
       "       'State/Province', 'industrous level', 'Currency', 'Career Industry',\n",
       "       'pay Accomodation bills?', 'fraction of rent paid',\n",
       "       'Accommodation Rented', 'Location of accommodation', 'monthly rent'],\n",
       "      dtype='object')"
      ]
     },
     "execution_count": 240,
     "metadata": {},
     "output_type": "execute_result"
    }
   ],
   "source": [
    "categorical_columns = df.select_dtypes(include='object').columns\n",
    "categorical_columns"
   ]
  },
  {
   "cell_type": "code",
   "execution_count": 241,
   "metadata": {},
   "outputs": [
    {
     "data": {
      "text/plain": [
       "array(['Male', 'Female'], dtype=object)"
      ]
     },
     "execution_count": 241,
     "metadata": {},
     "output_type": "execute_result"
    }
   ],
   "source": [
    "df['Gender'].unique()"
   ]
  },
  {
   "cell_type": "code",
   "execution_count": 242,
   "metadata": {},
   "outputs": [
    {
     "data": {
      "image/png": "[encoded data removed]",
      "text/plain": [
       "<Figure size 432x288 with 1 Axes>"
      ]
     },
     "metadata": {
      "needs_background": "light"
     },
     "output_type": "display_data"
    }
   ],
   "source": [
    "ax = sns.countplot(x=\"Gender\", data=df);\n",
    "plt.xticks(rotation=90)\n",
    "ax.set_title('Count Plot For Gender', fontsize=14)\n",
    "plt.show()\n"
   ]
  },
  {
   "cell_type": "code",
   "execution_count": 243,
   "metadata": {},
   "outputs": [
    {
     "data": {
      "image/png": "[encoded data removed]",
      "text/plain": [
       "<Figure size 432x288 with 1 Axes>"
      ]
     },
     "metadata": {},
     "output_type": "display_data"
    }
   ],
   "source": [
    "plt.pie(df['Gender'].value_counts(), labels=df['Gender'].unique(), autopct='%1.1f%%');"
   ]
  },
  {
   "cell_type": "code",
   "execution_count": 244,
   "metadata": {},
   "outputs": [
    {
     "data": {
      "text/plain": [
       "array([\"Bachelor's Degree/Equivalent\", 'High/Secondary School',\n",
       "       \"Master's Degree\", 'Undergraduate'], dtype=object)"
      ]
     },
     "execution_count": 244,
     "metadata": {},
     "output_type": "execute_result"
    }
   ],
   "source": [
    "df['Maximum Level of Education'].unique()"
   ]
  },
  {
   "cell_type": "code",
   "execution_count": 245,
   "metadata": {},
   "outputs": [
    {
     "data": {
      "image/png": "[encoded data removed]",
      "text/plain": [
       "<Figure size 432x288 with 1 Axes>"
      ]
     },
     "metadata": {
      "needs_background": "light"
     },
     "output_type": "display_data"
    }
   ],
   "source": [
    "ax = sns.countplot(x=\"Maximum Level of Education\", data=df);\n",
    "plt.xticks(rotation=90)\n",
    "ax.set_title('Count Plot For Maximum Level of Education', fontsize=14)\n",
    "plt.show()\n"
   ]
  },
  {
   "cell_type": "code",
   "execution_count": 246,
   "metadata": {},
   "outputs": [
    {
     "data": {
      "image/png": "[encoded data removed]",
      "text/plain": [
       "<Figure size 432x288 with 1 Axes>"
      ]
     },
     "metadata": {},
     "output_type": "display_data"
    }
   ],
   "source": [
    "plt.pie(df['Maximum Level of Education'].value_counts(), labels=df['Maximum Level of Education'].unique(), autopct='%1.1f%%');"
   ]
  },
  {
   "cell_type": "code",
   "execution_count": 247,
   "metadata": {},
   "outputs": [
    {
     "data": {
      "text/plain": [
       "array(['Nigeria', 'Kenya', 'South Africa', 'Nigeria ', 'NIGERIA',\n",
       "       'Nigerian', 'NIGERIAN', 'Adamawa', 'NIGERIA '], dtype=object)"
      ]
     },
     "execution_count": 247,
     "metadata": {},
     "output_type": "execute_result"
    }
   ],
   "source": [
    "df['Country'].unique()"
   ]
  },
  {
   "cell_type": "code",
   "execution_count": 248,
   "metadata": {},
   "outputs": [],
   "source": [
    "#rename all Nigeria to same case in Country Column\n",
    "\n",
    "df[\"Country\"].replace({\"Nigeria \": \"Nigeria\", \"Nigerian\": \"Nigeria\", \"NIGERIAN\":\"Nigeria\", \"NIGERIA\":\"Nigeria\", \"Adamawa\":\"Nigeria\", \"NIGERIA \":\"Nigeria\"}, inplace=True)"
   ]
  },
  {
   "cell_type": "code",
   "execution_count": 249,
   "metadata": {},
   "outputs": [
    {
     "data": {
      "text/plain": [
       "array(['Nigeria', 'Kenya', 'South Africa'], dtype=object)"
      ]
     },
     "execution_count": 249,
     "metadata": {},
     "output_type": "execute_result"
    }
   ],
   "source": [
    "df['Country'].unique()"
   ]
  },
  {
   "cell_type": "code",
   "execution_count": 250,
   "metadata": {},
   "outputs": [
    {
     "data": {
      "image/png": "[encoded data removed]",
      "text/plain": [
       "<Figure size 432x288 with 1 Axes>"
      ]
     },
     "metadata": {
      "needs_background": "light"
     },
     "output_type": "display_data"
    },
    {
     "data": {
      "image/png": "[encoded data removed]",
      "text/plain": [
       "<Figure size 432x288 with 1 Axes>"
      ]
     },
     "metadata": {},
     "output_type": "display_data"
    }
   ],
   "source": [
    "ax = sns.countplot(x='Country', data=df);\n",
    "plt.xticks(rotation=90)\n",
    "ax.set_title(f'Count Plot For Country', fontsize=14)\n",
    "plt.show()\n",
    "plt.pie(df['Country'].value_counts(), labels=df['Country'].unique(), autopct='%1.1f%%');    \n"
   ]
  },
  {
   "cell_type": "code",
   "execution_count": 251,
   "metadata": {},
   "outputs": [
    {
     "data": {
      "text/plain": [
       "array(['Lagos', 'Nairobi', 'Cape Town', 'Abia state ', 'Rivers State',\n",
       "       'Delta', 'Ekiti', 'Osun', 'OSUN', 'FCT', 'Ondo', 'Lagos State',\n",
       "       'Oyo state', 'Lagos ', 'Nigeria', 'OYO', 'ONDO', 'LAGOS',\n",
       "       'Osun State', 'Cross River', 'Ogun State', 'Ilorin, Kwara state',\n",
       "       'Niger state', 'Delta State', 'Ogun', 'ANAMBRA STATE, NIGERIA',\n",
       "       'F.C.T. - Abuja', 'Lagos State/ Ikorodu', 'BORNO ', 'Enugu',\n",
       "       'Kwara', 'lagos', 'ENUGU', 'Ekiti state', 'Lagos, Lagos',\n",
       "       'FEDERAL CAPITAL TERRITORY.', 'FCT Abuja', 'Rivers', 'Abuja',\n",
       "       'Oyo', 'Akwa Ibom', 'Cross river', 'Federal Capital Territory',\n",
       "       'Abia State', 'Lagos and Osun', 'Oyo State', 'STATE ',\n",
       "       'FEDERAL CAPITAL TERRITORY, ABUJA', 'LAGOS STATE', 'EKITI', 'Kano',\n",
       "       'Anambra', 'OGUN STATE', 'ogun'], dtype=object)"
      ]
     },
     "execution_count": 251,
     "metadata": {},
     "output_type": "execute_result"
    }
   ],
   "source": [
    "df['State/Province'].unique()"
   ]
  },
  {
   "cell_type": "code",
   "execution_count": 252,
   "metadata": {},
   "outputs": [],
   "source": [
    "#remove white spaces\n",
    "df['State/Province'] = df['State/Province'].apply(lambda x : x.strip().lower().replace('state',\"\").replace('.',''))"
   ]
  },
  {
   "cell_type": "code",
   "execution_count": 253,
   "metadata": {},
   "outputs": [
    {
     "data": {
      "text/plain": [
       "array(['lagos', 'nairobi', 'cape town', 'abia ', 'rivers ', 'delta',\n",
       "       'ekiti', 'osun', 'fct', 'ondo', 'lagos ', 'oyo ', 'nigeria', 'oyo',\n",
       "       'osun ', 'cross river', 'ogun ', 'ilorin, kwara ', 'niger ',\n",
       "       'delta ', 'ogun', 'anambra , nigeria', 'fct - abuja',\n",
       "       'lagos / ikorodu', 'borno', 'enugu', 'kwara', 'ekiti ',\n",
       "       'lagos, lagos', 'federal capital territory', 'fct abuja', 'rivers',\n",
       "       'abuja', 'akwa ibom', 'lagos and osun', '',\n",
       "       'federal capital territory, abuja', 'kano', 'anambra'],\n",
       "      dtype=object)"
      ]
     },
     "execution_count": 253,
     "metadata": {},
     "output_type": "execute_result"
    }
   ],
   "source": [
    "df['State/Province'].unique()"
   ]
  },
  {
   "cell_type": "code",
   "execution_count": 254,
   "metadata": {},
   "outputs": [],
   "source": [
    "#rename all Nigeria to same case in Country Column\n",
    "\n",
    "df[\"State/Province\"].replace({'ilorin, kwara':'kwara','anambra , nigeria':'anambra', 'f.c.t. - abuja':'abuja'\n",
    "                      ,'fct':'abuja','lagos / ikorodu':'lagos','lagos, lagos':'lagos','federal capital territory':\"abuja\",\n",
    "                       'fct abuja':\"abuja\",\"lagos and osun\":\"lagos\",'fct - abuja':'abuja'\n",
    "                      }, inplace=True)\n",
    "\n",
    "\n",
    "\n"
   ]
  },
  {
   "cell_type": "code",
   "execution_count": 255,
   "metadata": {},
   "outputs": [
    {
     "data": {
      "text/plain": [
       "array(['lagos', 'nairobi', 'cape town', 'abia ', 'rivers ', 'delta',\n",
       "       'ekiti', 'osun', 'abuja', 'ondo', 'lagos ', 'oyo ', 'nigeria',\n",
       "       'oyo', 'osun ', 'cross river', 'ogun ', 'ilorin, kwara ', 'niger ',\n",
       "       'delta ', 'ogun', 'anambra', 'borno', 'enugu', 'kwara', 'ekiti ',\n",
       "       'rivers', 'akwa ibom', '', 'federal capital territory, abuja',\n",
       "       'kano'], dtype=object)"
      ]
     },
     "execution_count": 255,
     "metadata": {},
     "output_type": "execute_result"
    }
   ],
   "source": [
    "df['State/Province'].unique()"
   ]
  },
  {
   "cell_type": "code",
   "execution_count": 256,
   "metadata": {},
   "outputs": [
    {
     "data": {
      "image/png": "[encoded data removed]",
      "text/plain": [
       "<Figure size 432x288 with 1 Axes>"
      ]
     },
     "metadata": {
      "needs_background": "light"
     },
     "output_type": "display_data"
    }
   ],
   "source": [
    "ax = sns.countplot(x='State/Province', data=df);\n",
    "plt.xticks(rotation=90)\n",
    "ax.set_title(f'Count Plot For State/Province', fontsize=14)\n",
    "plt.show()\n",
    "# plt.pie(df['State/Province'].value_counts(), labels=df['State/Province'].unique(), autopct='%1.1f%%');    \n"
   ]
  },
  {
   "cell_type": "code",
   "execution_count": 257,
   "metadata": {},
   "outputs": [
    {
     "data": {
      "text/plain": [
       "array(['Industrious', 'Most industrious in the country',\n",
       "       'Non-Industrious', 'Unknown', nan], dtype=object)"
      ]
     },
     "execution_count": 257,
     "metadata": {},
     "output_type": "execute_result"
    }
   ],
   "source": [
    "df['industrous level'].unique()"
   ]
  },
  {
   "cell_type": "code",
   "execution_count": 258,
   "metadata": {},
   "outputs": [
    {
     "data": {
      "image/png": "[encoded data removed]",
      "text/plain": [
       "<Figure size 432x288 with 1 Axes>"
      ]
     },
     "metadata": {
      "needs_background": "light"
     },
     "output_type": "display_data"
    }
   ],
   "source": [
    "ax = sns.countplot(x='industrous level', data=df);\n",
    "plt.xticks(rotation=90)\n",
    "ax.set_title(f'Count Plot For industrous level', fontsize=14)\n",
    "plt.show()\n",
    "# plt.pie(df['State/Province'].value_counts(), labels=df['State/Province'].unique(), autopct='%1.1f%%');    \n"
   ]
  },
  {
   "cell_type": "code",
   "execution_count": 259,
   "metadata": {},
   "outputs": [
    {
     "data": {
      "text/plain": [
       "array(['Naira', 'Kenyan Shillings', 'Rand', 'Naira ', 'NAIRA',\n",
       "       'Naira, Dollars', 'Dollars', 'NAIRA ', 'NARIA'], dtype=object)"
      ]
     },
     "execution_count": 259,
     "metadata": {},
     "output_type": "execute_result"
    }
   ],
   "source": [
    "df['Currency'].unique()"
   ]
  },
  {
   "cell_type": "code",
   "execution_count": 260,
   "metadata": {},
   "outputs": [],
   "source": [
    "df['Currency'] = df['Currency'].apply(lambda x:x.strip().lower())"
   ]
  },
  {
   "cell_type": "code",
   "execution_count": 261,
   "metadata": {},
   "outputs": [
    {
     "data": {
      "text/plain": [
       "array(['naira', 'kenyan shillings', 'rand', 'naira, dollars', 'dollars',\n",
       "       'naria'], dtype=object)"
      ]
     },
     "execution_count": 261,
     "metadata": {},
     "output_type": "execute_result"
    }
   ],
   "source": [
    "df['Currency'].unique()"
   ]
  },
  {
   "cell_type": "code",
   "execution_count": 262,
   "metadata": {},
   "outputs": [],
   "source": [
    "#rename all Nigeria to same case in Country Column\n",
    "\n",
    "df[\"Currency\"].replace({\"naira, dollars\": \"naira\", \"naria\":\"naira\"}, inplace=True)"
   ]
  },
  {
   "cell_type": "code",
   "execution_count": 263,
   "metadata": {},
   "outputs": [
    {
     "data": {
      "text/plain": [
       "array(['naira', 'kenyan shillings', 'rand', 'dollars'], dtype=object)"
      ]
     },
     "execution_count": 263,
     "metadata": {},
     "output_type": "execute_result"
    }
   ],
   "source": [
    "df['Currency'].unique()"
   ]
  },
  {
   "cell_type": "code",
   "execution_count": 264,
   "metadata": {},
   "outputs": [
    {
     "data": {
      "text/plain": [
       "array(['Accounting & Tech', 'Software Engineer', 'Hospitality', 'IT',\n",
       "       'Tech', 'Engineering', 'Engineering ', '0', 'Teaching',\n",
       "       'AGRICULTURE', 'Consulting ', 'Development', 'Finance',\n",
       "       'Management ', 'Accounting ', 'Finance ', 'Accounting',\n",
       "       'Tailoring', 'Education ', 'Student', 'Media', 'Technology',\n",
       "       'Crafts', 'Science.', 'Music ', 'Agriculture',\n",
       "       'INFORMATION TECHNOLOGY', 'Mechanic', 'Tech ', 'I.T', 'TECH',\n",
       "       'Fashion designing ', 'Construction ', 'Utility', 'Clothing',\n",
       "       'Architecture ', 'Education', 'FinTech', 'Geoscience ', 'Health',\n",
       "       'Law', 'AUDIT FIRM ', 'Education/Teaching', 'Real Estate',\n",
       "       'UI Design', 'Data Science, Architecture, Research', 'Health ',\n",
       "       'Tech, science. ', 'Aviation', 'Graphics and printing ', 'Banking',\n",
       "       'Advertising, Research', 'Insurance', 'nil'], dtype=object)"
      ]
     },
     "execution_count": 264,
     "metadata": {},
     "output_type": "execute_result"
    }
   ],
   "source": [
    "df[\"Career Industry\"].unique()"
   ]
  },
  {
   "cell_type": "code",
   "execution_count": 265,
   "metadata": {},
   "outputs": [
    {
     "data": {
      "text/plain": [
       "array(['accounting & tech', 'software engineer', 'hospitality', 'it',\n",
       "       'tech', 'engineering', '0', 'teaching', 'agriculture',\n",
       "       'consulting', 'development', 'finance', 'management', 'accounting',\n",
       "       'tailoring', 'education', 'student', 'media', 'technology',\n",
       "       'crafts', 'science.', 'music', 'information technology',\n",
       "       'mechanic', 'i.t', 'fashion designing', 'construction', 'utility',\n",
       "       'clothing', 'architecture', 'fintech', 'geoscience', 'health',\n",
       "       'law', 'audit firm', 'education/teaching', 'real estate',\n",
       "       'ui design', 'data science, architecture, research',\n",
       "       'tech, science.', 'aviation', 'graphics and printing', 'banking',\n",
       "       'advertising, research', 'insurance', 'nil'], dtype=object)"
      ]
     },
     "execution_count": 265,
     "metadata": {},
     "output_type": "execute_result"
    }
   ],
   "source": [
    "df[\"Career Industry\"] = df[\"Career Industry\"].apply(lambda x: x.strip().lower())\n",
    "df['Career Industry'].unique()"
   ]
  },
  {
   "cell_type": "code",
   "execution_count": 266,
   "metadata": {},
   "outputs": [
    {
     "data": {
      "image/png": "[encoded data removed]",
      "text/plain": [
       "<Figure size 432x288 with 1 Axes>"
      ]
     },
     "metadata": {
      "needs_background": "light"
     },
     "output_type": "display_data"
    }
   ],
   "source": [
    "ax = sns.countplot(x='Career Industry', data=df);\n",
    "plt.xticks(rotation=90)\n",
    "ax.set_title(f'Count Plot For Career Industry', fontsize=14)\n",
    "plt.show()\n",
    "# plt.pie(df['State/Province'].value_counts(), labels=df['State/Province'].unique(), autopct='%1.1f%%');    \n"
   ]
  },
  {
   "cell_type": "code",
   "execution_count": 267,
   "metadata": {},
   "outputs": [
    {
     "data": {
      "text/plain": [
       "array(['Full Flat', 'Shared Flat', 'Neither. I do not pay rents',\n",
       "       'Self-contained', 'Studio apartment', 'Shared Duplex', 'Mini Flat',\n",
       "       'Hostel', 'Single room', '1 room face me I face you ',\n",
       "       'I do not have an accomodation', 'Shared hostel space'],\n",
       "      dtype=object)"
      ]
     },
     "execution_count": 267,
     "metadata": {},
     "output_type": "execute_result"
    }
   ],
   "source": [
    "df['Accommodation Rented'].unique()"
   ]
  },
  {
   "cell_type": "code",
   "execution_count": 268,
   "metadata": {},
   "outputs": [
    {
     "data": {
      "image/png": "[encoded data removed]",
      "text/plain": [
       "<Figure size 432x288 with 1 Axes>"
      ]
     },
     "metadata": {
      "needs_background": "light"
     },
     "output_type": "display_data"
    }
   ],
   "source": [
    "ax = sns.countplot(x='Accommodation Rented', data=df);\n",
    "plt.xticks(rotation=90)\n",
    "ax.set_title(f'Count Plot For Accommodation Rented', fontsize=14)\n",
    "plt.show()\n",
    "# plt.pie(df['State/Province'].value_counts(), labels=df['State/Province'].unique(), autopct='%1.1f%%');    \n"
   ]
  },
  {
   "cell_type": "code",
   "execution_count": 269,
   "metadata": {},
   "outputs": [
    {
     "data": {
      "text/plain": [
       "array(['Yes', 'No', 'Not completely'], dtype=object)"
      ]
     },
     "execution_count": 269,
     "metadata": {},
     "output_type": "execute_result"
    }
   ],
   "source": [
    "df['pay Accomodation bills?'].unique()"
   ]
  },
  {
   "cell_type": "code",
   "execution_count": 270,
   "metadata": {},
   "outputs": [
    {
     "data": {
      "image/png": "[encoded data removed]",
      "text/plain": [
       "<Figure size 432x288 with 1 Axes>"
      ]
     },
     "metadata": {
      "needs_background": "light"
     },
     "output_type": "display_data"
    },
    {
     "data": {
      "image/png": "[encoded data removed]",
      "text/plain": [
       "<Figure size 432x288 with 1 Axes>"
      ]
     },
     "metadata": {},
     "output_type": "display_data"
    }
   ],
   "source": [
    "ax = sns.countplot(x='pay Accomodation bills?', data=df);\n",
    "plt.xticks(rotation=90)\n",
    "ax.set_title(f'Count Plot For pay Accomodation bills?', fontsize=14)\n",
    "plt.show()\n",
    "plt.pie(df['pay Accomodation bills?'].value_counts(), labels=df['pay Accomodation bills?'].unique(), autopct='%1.1f%%');    \n"
   ]
  },
  {
   "cell_type": "code",
   "execution_count": 333,
   "metadata": {},
   "outputs": [
    {
     "data": {
      "text/plain": [
       "<matplotlib.axes._subplots.AxesSubplot at 0x7fdfd1eea070>"
      ]
     },
     "execution_count": 333,
     "metadata": {},
     "output_type": "execute_result"
    },
    {
     "data": {
      "image/png": "[encoded data removed]",
      "text/plain": [
       "<Figure size 432x288 with 1 Axes>"
      ]
     },
     "metadata": {
      "needs_background": "light"
     },
     "output_type": "display_data"
    }
   ],
   "source": []
  },
  {
   "cell_type": "code",
   "execution_count": 318,
   "metadata": {},
   "outputs": [],
   "source": [
    "def convert_to_naira(amount,currency):\n",
    "    if currency =='naira':\n",
    "        return amount\n",
    "    elif currency == 'dollars':\n",
    "        return amount * 475\n",
    "    elif currency == 'kenyan shillings':\n",
    "        return amount* 3.46\n",
    "    elif currency == 'rand':\n",
    "        return amount* 25.13"
   ]
  },
  {
   "cell_type": "code",
   "execution_count": 292,
   "metadata": {},
   "outputs": [],
   "source": [
    "df['monthly rent'] = df['monthly rent'].apply(lambda x: re.sub(r\"([^0-9])\", '',x))"
   ]
  },
  {
   "cell_type": "code",
   "execution_count": 293,
   "metadata": {},
   "outputs": [
    {
     "ename": "IndexError",
     "evalue": "index 0 is out of bounds for axis 0 with size 0",
     "output_type": "error",
     "traceback": [
      "\u001b[0;31m---------------------------------------------------------------------------\u001b[0m",
      "\u001b[0;31mIndexError\u001b[0m                                Traceback (most recent call last)",
      "\u001b[0;32m<ipython-input-293-4bddfa1557dd>\u001b[0m in \u001b[0;36m<module>\u001b[0;34m\u001b[0m\n\u001b[0;32m----> 1\u001b[0;31m \u001b[0mdrop_index\u001b[0m \u001b[0;34m=\u001b[0m \u001b[0mdf\u001b[0m\u001b[0;34m[\u001b[0m\u001b[0mdf\u001b[0m\u001b[0;34m[\u001b[0m\u001b[0;34m'monthly rent'\u001b[0m\u001b[0;34m]\u001b[0m\u001b[0;34m==\u001b[0m\u001b[0;34m''\u001b[0m\u001b[0;34m]\u001b[0m\u001b[0;34m.\u001b[0m\u001b[0mindex\u001b[0m\u001b[0;34m[\u001b[0m\u001b[0;36m0\u001b[0m\u001b[0;34m]\u001b[0m\u001b[0;34m\u001b[0m\u001b[0;34m\u001b[0m\u001b[0m\n\u001b[0m\u001b[1;32m      2\u001b[0m \u001b[0mdf\u001b[0m\u001b[0;34m.\u001b[0m\u001b[0mdrop\u001b[0m\u001b[0;34m(\u001b[0m\u001b[0mdrop_index\u001b[0m\u001b[0;34m,\u001b[0m \u001b[0minplace\u001b[0m\u001b[0;34m=\u001b[0m\u001b[0;32mTrue\u001b[0m\u001b[0;34m)\u001b[0m\u001b[0;34m\u001b[0m\u001b[0;34m\u001b[0m\u001b[0m\n",
      "\u001b[0;32m~/opt/anaconda3/lib/python3.8/site-packages/pandas/core/indexes/base.py\u001b[0m in \u001b[0;36m__getitem__\u001b[0;34m(self, key)\u001b[0m\n\u001b[1;32m   3928\u001b[0m         \u001b[0;32mif\u001b[0m \u001b[0mis_scalar\u001b[0m\u001b[0;34m(\u001b[0m\u001b[0mkey\u001b[0m\u001b[0;34m)\u001b[0m\u001b[0;34m:\u001b[0m\u001b[0;34m\u001b[0m\u001b[0;34m\u001b[0m\u001b[0m\n\u001b[1;32m   3929\u001b[0m             \u001b[0mkey\u001b[0m \u001b[0;34m=\u001b[0m \u001b[0mcom\u001b[0m\u001b[0;34m.\u001b[0m\u001b[0mcast_scalar_indexer\u001b[0m\u001b[0;34m(\u001b[0m\u001b[0mkey\u001b[0m\u001b[0;34m)\u001b[0m\u001b[0;34m\u001b[0m\u001b[0;34m\u001b[0m\u001b[0m\n\u001b[0;32m-> 3930\u001b[0;31m             \u001b[0;32mreturn\u001b[0m \u001b[0mgetitem\u001b[0m\u001b[0;34m(\u001b[0m\u001b[0mkey\u001b[0m\u001b[0;34m)\u001b[0m\u001b[0;34m\u001b[0m\u001b[0;34m\u001b[0m\u001b[0m\n\u001b[0m\u001b[1;32m   3931\u001b[0m \u001b[0;34m\u001b[0m\u001b[0m\n\u001b[1;32m   3932\u001b[0m         \u001b[0;32mif\u001b[0m \u001b[0misinstance\u001b[0m\u001b[0;34m(\u001b[0m\u001b[0mkey\u001b[0m\u001b[0;34m,\u001b[0m \u001b[0mslice\u001b[0m\u001b[0;34m)\u001b[0m\u001b[0;34m:\u001b[0m\u001b[0;34m\u001b[0m\u001b[0;34m\u001b[0m\u001b[0m\n",
      "\u001b[0;31mIndexError\u001b[0m: index 0 is out of bounds for axis 0 with size 0"
     ]
    }
   ],
   "source": [
    "drop_index = df[df['monthly rent']==''].index[0]\n",
    "df.drop(drop_index, inplace=True)"
   ]
  },
  {
   "cell_type": "code",
   "execution_count": 273,
   "metadata": {},
   "outputs": [],
   "source": [
    "# df['monthly rent'] = df['monthly rent'].astype('str').apply(lambda x:x.replace(\"R\",'').\n",
    "#                                                             replace(',','').replace('#','').\n",
    "#                                                            replace(' ','').replace('None','').\n",
    "#                                                            replace('03000000000n0a0i0r0a0','0'))\n",
    "\n",
    "\n",
    "df['monthly rent'] = df['monthly rent'].str.replace('nan','0')\n",
    "df['monthly rent'] = df['monthly rent'].str.replace('N/A','0')\n"
   ]
  },
  {
   "cell_type": "code",
   "execution_count": 294,
   "metadata": {},
   "outputs": [],
   "source": [
    "df['Currency'] = df['Currency'].astype('str')\n",
    "df['monthly rent'] = df['monthly rent'].astype('int64')"
   ]
  },
  {
   "cell_type": "code",
   "execution_count": 323,
   "metadata": {},
   "outputs": [
    {
     "name": "stderr",
     "output_type": "stream",
     "text": [
      "<ipython-input-323-e9882c45bef4>:2: SettingWithCopyWarning: \n",
      "A value is trying to be set on a copy of a slice from a DataFrame\n",
      "\n",
      "See the caveats in the documentation: https://pandas.pydata.org/pandas-docs/stable/user_guide/indexing.html#returning-a-view-versus-a-copy\n",
      "  df['rent in Naira'][index] = convert_to_naira(row['monthly rent'],row['Currency'])\n"
     ]
    }
   ],
   "source": [
    "for index, row in df.iterrows():\n",
    "    df['rent in Naira'][index] = convert_to_naira(row['monthly rent'],row['Currency'])"
   ]
  },
  {
   "cell_type": "code",
   "execution_count": 325,
   "metadata": {},
   "outputs": [
    {
     "data": {
      "text/html": [
       "<div>\n",
       "<style scoped>\n",
       "    .dataframe tbody tr th:only-of-type {\n",
       "        vertical-align: middle;\n",
       "    }\n",
       "\n",
       "    .dataframe tbody tr th {\n",
       "        vertical-align: top;\n",
       "    }\n",
       "\n",
       "    .dataframe thead th {\n",
       "        text-align: right;\n",
       "    }\n",
       "</style>\n",
       "<table border=\"1\" class=\"dataframe\">\n",
       "  <thead>\n",
       "    <tr style=\"text-align: right;\">\n",
       "      <th></th>\n",
       "      <th>Timestamp</th>\n",
       "      <th>Age</th>\n",
       "      <th>Gender</th>\n",
       "      <th>Maximum Level of Education</th>\n",
       "      <th>Country</th>\n",
       "      <th>State/Province</th>\n",
       "      <th>industrous level</th>\n",
       "      <th>Currency</th>\n",
       "      <th>Salary</th>\n",
       "      <th>Career Industry</th>\n",
       "      <th>Working experience</th>\n",
       "      <th>pay Accomodation bills?</th>\n",
       "      <th>fraction of rent paid</th>\n",
       "      <th>Accommodation Rented</th>\n",
       "      <th>Location of accommodation</th>\n",
       "      <th>monthly rent</th>\n",
       "      <th>rent in Naira</th>\n",
       "    </tr>\n",
       "  </thead>\n",
       "  <tbody>\n",
       "    <tr>\n",
       "      <th>0</th>\n",
       "      <td>2021/01/20 7:57:57 AM GMT+1</td>\n",
       "      <td>24</td>\n",
       "      <td>Male</td>\n",
       "      <td>Bachelor's Degree/Equivalent</td>\n",
       "      <td>Nigeria</td>\n",
       "      <td>lagos</td>\n",
       "      <td>Industrious</td>\n",
       "      <td>naira</td>\n",
       "      <td>150000</td>\n",
       "      <td>accounting &amp; tech</td>\n",
       "      <td>1.0</td>\n",
       "      <td>Yes</td>\n",
       "      <td>NaN</td>\n",
       "      <td>Full Flat</td>\n",
       "      <td>Mid-class area</td>\n",
       "      <td>80000</td>\n",
       "      <td>80000</td>\n",
       "    </tr>\n",
       "    <tr>\n",
       "      <th>1</th>\n",
       "      <td>2021/01/20 9:02:40 AM GMT+1</td>\n",
       "      <td>27</td>\n",
       "      <td>Female</td>\n",
       "      <td>Bachelor's Degree/Equivalent</td>\n",
       "      <td>Kenya</td>\n",
       "      <td>nairobi</td>\n",
       "      <td>Most industrious in the country</td>\n",
       "      <td>kenyan shillings</td>\n",
       "      <td>150000</td>\n",
       "      <td>software engineer</td>\n",
       "      <td>3.0</td>\n",
       "      <td>Yes</td>\n",
       "      <td>NaN</td>\n",
       "      <td>Shared Flat</td>\n",
       "      <td>Mid-class area</td>\n",
       "      <td>35000</td>\n",
       "      <td>121100</td>\n",
       "    </tr>\n",
       "    <tr>\n",
       "      <th>2</th>\n",
       "      <td>2021/01/20 9:07:23 AM GMT+1</td>\n",
       "      <td>25</td>\n",
       "      <td>Female</td>\n",
       "      <td>High/Secondary School</td>\n",
       "      <td>South Africa</td>\n",
       "      <td>cape town</td>\n",
       "      <td>Non-Industrious</td>\n",
       "      <td>rand</td>\n",
       "      <td>2000</td>\n",
       "      <td>hospitality</td>\n",
       "      <td>5.0</td>\n",
       "      <td>Yes</td>\n",
       "      <td>NaN</td>\n",
       "      <td>Shared Flat</td>\n",
       "      <td>Mid-class area</td>\n",
       "      <td>3500</td>\n",
       "      <td>87955</td>\n",
       "    </tr>\n",
       "    <tr>\n",
       "      <th>3</th>\n",
       "      <td>2021/01/20 9:27:25 AM GMT+1</td>\n",
       "      <td>28</td>\n",
       "      <td>Female</td>\n",
       "      <td>Bachelor's Degree/Equivalent</td>\n",
       "      <td>Nigeria</td>\n",
       "      <td>lagos</td>\n",
       "      <td>Most industrious in the country</td>\n",
       "      <td>naira</td>\n",
       "      <td>0</td>\n",
       "      <td>it</td>\n",
       "      <td>0.0</td>\n",
       "      <td>No</td>\n",
       "      <td>NaN</td>\n",
       "      <td>Neither. I do not pay rents</td>\n",
       "      <td>I do not pay rents</td>\n",
       "      <td>0</td>\n",
       "      <td>0</td>\n",
       "    </tr>\n",
       "    <tr>\n",
       "      <th>4</th>\n",
       "      <td>2021/01/20 9:27:53 AM GMT+1</td>\n",
       "      <td>24</td>\n",
       "      <td>Female</td>\n",
       "      <td>Bachelor's Degree/Equivalent</td>\n",
       "      <td>Nigeria</td>\n",
       "      <td>lagos</td>\n",
       "      <td>Industrious</td>\n",
       "      <td>naira</td>\n",
       "      <td>70000</td>\n",
       "      <td>tech</td>\n",
       "      <td>1.0</td>\n",
       "      <td>Not completely</td>\n",
       "      <td>1/4</td>\n",
       "      <td>Neither. I do not pay rents</td>\n",
       "      <td>Low brow area</td>\n",
       "      <td>0</td>\n",
       "      <td>0</td>\n",
       "    </tr>\n",
       "  </tbody>\n",
       "</table>\n",
       "</div>"
      ],
      "text/plain": [
       "                     Timestamp  Age  Gender    Maximum Level of Education  \\\n",
       "0  2021/01/20 7:57:57 AM GMT+1   24    Male  Bachelor's Degree/Equivalent   \n",
       "1  2021/01/20 9:02:40 AM GMT+1   27  Female  Bachelor's Degree/Equivalent   \n",
       "2  2021/01/20 9:07:23 AM GMT+1   25  Female         High/Secondary School   \n",
       "3  2021/01/20 9:27:25 AM GMT+1   28  Female  Bachelor's Degree/Equivalent   \n",
       "4  2021/01/20 9:27:53 AM GMT+1   24  Female  Bachelor's Degree/Equivalent   \n",
       "\n",
       "        Country State/Province                 industrous level  \\\n",
       "0       Nigeria          lagos                      Industrious   \n",
       "1         Kenya        nairobi  Most industrious in the country   \n",
       "2  South Africa      cape town                  Non-Industrious   \n",
       "3       Nigeria          lagos  Most industrious in the country   \n",
       "4       Nigeria          lagos                      Industrious   \n",
       "\n",
       "           Currency  Salary    Career Industry  Working experience  \\\n",
       "0             naira  150000  accounting & tech                 1.0   \n",
       "1  kenyan shillings  150000  software engineer                 3.0   \n",
       "2              rand    2000        hospitality                 5.0   \n",
       "3             naira       0                 it                 0.0   \n",
       "4             naira   70000               tech                 1.0   \n",
       "\n",
       "  pay Accomodation bills? fraction of rent paid         Accommodation Rented  \\\n",
       "0                     Yes                   NaN                    Full Flat   \n",
       "1                     Yes                   NaN                  Shared Flat   \n",
       "2                     Yes                   NaN                  Shared Flat   \n",
       "3                      No                   NaN  Neither. I do not pay rents   \n",
       "4          Not completely                   1/4  Neither. I do not pay rents   \n",
       "\n",
       "  Location of accommodation  monthly rent  rent in Naira  \n",
       "0            Mid-class area         80000          80000  \n",
       "1            Mid-class area         35000         121100  \n",
       "2            Mid-class area          3500          87955  \n",
       "3        I do not pay rents             0              0  \n",
       "4             Low brow area             0              0  "
      ]
     },
     "execution_count": 325,
     "metadata": {},
     "output_type": "execute_result"
    }
   ],
   "source": [
    "df.head()"
   ]
  },
  {
   "cell_type": "code",
   "execution_count": 360,
   "metadata": {},
   "outputs": [
    {
     "data": {
      "image/png": "[encoded data removed]",
      "text/plain": [
       "<Figure size 1080x360 with 2 Axes>"
      ]
     },
     "metadata": {},
     "output_type": "display_data"
    }
   ],
   "source": [
    "fig, ax = plt.subplots(1,2, figsize=(15,5))\n",
    "g = sns.barplot(x='Age', y='Salary', data=df, ax=ax[0])\n",
    "g.title.set_text('The Average monthly salary corresponding Age')\n",
    "\n",
    "b =sns.barplot(x='Age', y='rent in Naira', data=df, ax=ax[1])\n",
    "b.title.set_text('The Average Amount spent on accommodation in relation to Age')\n",
    "b.set(xlim=(18,19),ylim=(100,100000))\n",
    "plt.show()"
   ]
  },
  {
   "cell_type": "code",
   "execution_count": 384,
   "metadata": {},
   "outputs": [
    {
     "data": {
      "image/png": "[encoded data removed]",
      "text/plain": [
       "<Figure size 1080x360 with 1 Axes>"
      ]
     },
     "metadata": {},
     "output_type": "display_data"
    }
   ],
   "source": [
    "## sns.set_style(\"whitegrid\")\n",
    "\n",
    "g = sns.lmplot(x=\"rent in Naira\", y=\"Age\", data=df,\n",
    "\n",
    "               \n",
    " aspect=3)\n",
    "\n",
    "g = (g.set_axis_labels(\"Tip\",\"Total bill(USD)\").\n",
    "\n",
    "set(ylim=(18,30),xlim=(100,200000)))\n",
    "\n",
    "plt.title(\"title\")\n",
    "\n",
    "plt.show(g)"
   ]
  },
  {
   "cell_type": "code",
   "execution_count": 379,
   "metadata": {},
   "outputs": [
    {
     "data": {
      "image/png": "[encoded data removed]",
      "text/plain": [
       "<Figure size 1080x360 with 1 Axes>"
      ]
     },
     "metadata": {},
     "output_type": "display_data"
    }
   ],
   "source": [
    "sns.set_style(\"whitegrid\")\n",
    "\n",
    "g = sns.catplot(x=\"rent in Naira\", y=\"State/Province\", data=df,\n",
    "\n",
    " aspect=3)\n",
    "\n",
    "g = (g.set_axis_labels(\"Tip\",\"Total bill(USD)\").\n",
    "set(xlim=(100,350000)))\n",
    "\n",
    "plt.title(\"title\")\n",
    "\n",
    "plt.show(g)"
   ]
  },
  {
   "cell_type": "code",
   "execution_count": 374,
   "metadata": {},
   "outputs": [
    {
     "data": {
      "text/html": [
       "<div>\n",
       "<style scoped>\n",
       "    .dataframe tbody tr th:only-of-type {\n",
       "        vertical-align: middle;\n",
       "    }\n",
       "\n",
       "    .dataframe tbody tr th {\n",
       "        vertical-align: top;\n",
       "    }\n",
       "\n",
       "    .dataframe thead th {\n",
       "        text-align: right;\n",
       "    }\n",
       "</style>\n",
       "<table border=\"1\" class=\"dataframe\">\n",
       "  <thead>\n",
       "    <tr style=\"text-align: right;\">\n",
       "      <th></th>\n",
       "      <th>Age</th>\n",
       "      <th>Salary</th>\n",
       "      <th>Working experience</th>\n",
       "      <th>monthly rent</th>\n",
       "      <th>rent in Naira</th>\n",
       "    </tr>\n",
       "  </thead>\n",
       "  <tbody>\n",
       "    <tr>\n",
       "      <th>count</th>\n",
       "      <td>120.000000</td>\n",
       "      <td>120.000000</td>\n",
       "      <td>120.000000</td>\n",
       "      <td>120.000000</td>\n",
       "      <td>1.200000e+02</td>\n",
       "    </tr>\n",
       "    <tr>\n",
       "      <th>mean</th>\n",
       "      <td>23.425000</td>\n",
       "      <td>61092.500000</td>\n",
       "      <td>1.497083</td>\n",
       "      <td>28796.208333</td>\n",
       "      <td>8.016650e+04</td>\n",
       "    </tr>\n",
       "    <tr>\n",
       "      <th>std</th>\n",
       "      <td>2.809535</td>\n",
       "      <td>113552.926365</td>\n",
       "      <td>1.847441</td>\n",
       "      <td>77867.288347</td>\n",
       "      <td>5.448723e+05</td>\n",
       "    </tr>\n",
       "    <tr>\n",
       "      <th>min</th>\n",
       "      <td>18.000000</td>\n",
       "      <td>0.000000</td>\n",
       "      <td>0.000000</td>\n",
       "      <td>0.000000</td>\n",
       "      <td>0.000000e+00</td>\n",
       "    </tr>\n",
       "    <tr>\n",
       "      <th>25%</th>\n",
       "      <td>22.000000</td>\n",
       "      <td>0.000000</td>\n",
       "      <td>0.000000</td>\n",
       "      <td>0.000000</td>\n",
       "      <td>0.000000e+00</td>\n",
       "    </tr>\n",
       "    <tr>\n",
       "      <th>50%</th>\n",
       "      <td>23.000000</td>\n",
       "      <td>20000.000000</td>\n",
       "      <td>1.000000</td>\n",
       "      <td>6750.000000</td>\n",
       "      <td>7.000000e+03</td>\n",
       "    </tr>\n",
       "    <tr>\n",
       "      <th>75%</th>\n",
       "      <td>25.000000</td>\n",
       "      <td>71250.000000</td>\n",
       "      <td>2.000000</td>\n",
       "      <td>20208.250000</td>\n",
       "      <td>2.500000e+04</td>\n",
       "    </tr>\n",
       "    <tr>\n",
       "      <th>max</th>\n",
       "      <td>29.000000</td>\n",
       "      <td>800000.000000</td>\n",
       "      <td>10.000000</td>\n",
       "      <td>700000.000000</td>\n",
       "      <td>5.937500e+06</td>\n",
       "    </tr>\n",
       "  </tbody>\n",
       "</table>\n",
       "</div>"
      ],
      "text/plain": [
       "              Age         Salary  Working experience   monthly rent  \\\n",
       "count  120.000000     120.000000          120.000000     120.000000   \n",
       "mean    23.425000   61092.500000            1.497083   28796.208333   \n",
       "std      2.809535  113552.926365            1.847441   77867.288347   \n",
       "min     18.000000       0.000000            0.000000       0.000000   \n",
       "25%     22.000000       0.000000            0.000000       0.000000   \n",
       "50%     23.000000   20000.000000            1.000000    6750.000000   \n",
       "75%     25.000000   71250.000000            2.000000   20208.250000   \n",
       "max     29.000000  800000.000000           10.000000  700000.000000   \n",
       "\n",
       "       rent in Naira  \n",
       "count   1.200000e+02  \n",
       "mean    8.016650e+04  \n",
       "std     5.448723e+05  \n",
       "min     0.000000e+00  \n",
       "25%     0.000000e+00  \n",
       "50%     7.000000e+03  \n",
       "75%     2.500000e+04  \n",
       "max     5.937500e+06  "
      ]
     },
     "execution_count": 374,
     "metadata": {},
     "output_type": "execute_result"
    }
   ],
   "source": [
    "df.describe()"
   ]
  },
  {
   "cell_type": "code",
   "execution_count": 376,
   "metadata": {},
   "outputs": [
    {
     "data": {
      "text/html": [
       "<div>\n",
       "<style scoped>\n",
       "    .dataframe tbody tr th:only-of-type {\n",
       "        vertical-align: middle;\n",
       "    }\n",
       "\n",
       "    .dataframe tbody tr th {\n",
       "        vertical-align: top;\n",
       "    }\n",
       "\n",
       "    .dataframe thead th {\n",
       "        text-align: right;\n",
       "    }\n",
       "</style>\n",
       "<table border=\"1\" class=\"dataframe\">\n",
       "  <thead>\n",
       "    <tr style=\"text-align: right;\">\n",
       "      <th></th>\n",
       "      <th>Timestamp</th>\n",
       "      <th>Age</th>\n",
       "      <th>Gender</th>\n",
       "      <th>Maximum Level of Education</th>\n",
       "      <th>Country</th>\n",
       "      <th>State/Province</th>\n",
       "      <th>industrous level</th>\n",
       "      <th>Currency</th>\n",
       "      <th>Salary</th>\n",
       "      <th>Career Industry</th>\n",
       "      <th>Working experience</th>\n",
       "      <th>pay Accomodation bills?</th>\n",
       "      <th>fraction of rent paid</th>\n",
       "      <th>Accommodation Rented</th>\n",
       "      <th>Location of accommodation</th>\n",
       "      <th>monthly rent</th>\n",
       "      <th>rent in Naira</th>\n",
       "    </tr>\n",
       "  </thead>\n",
       "  <tbody>\n",
       "    <tr>\n",
       "      <th>21</th>\n",
       "      <td>2021/01/20 1:50:41 PM GMT+1</td>\n",
       "      <td>21</td>\n",
       "      <td>Male</td>\n",
       "      <td>Bachelor's Degree/Equivalent</td>\n",
       "      <td>Nigeria</td>\n",
       "      <td>lagos</td>\n",
       "      <td>Most industrious in the country</td>\n",
       "      <td>naira</td>\n",
       "      <td>150000</td>\n",
       "      <td>accounting</td>\n",
       "      <td>1.0</td>\n",
       "      <td>Yes</td>\n",
       "      <td>NaN</td>\n",
       "      <td>Self-contained</td>\n",
       "      <td>Mid-class area</td>\n",
       "      <td>700000</td>\n",
       "      <td>700000</td>\n",
       "    </tr>\n",
       "    <tr>\n",
       "      <th>83</th>\n",
       "      <td>2021/01/21 4:49:03 PM GMT+1</td>\n",
       "      <td>19</td>\n",
       "      <td>Female</td>\n",
       "      <td>High/Secondary School</td>\n",
       "      <td>Nigeria</td>\n",
       "      <td>oyo</td>\n",
       "      <td>Non-Industrious</td>\n",
       "      <td>dollars</td>\n",
       "      <td>100</td>\n",
       "      <td>law</td>\n",
       "      <td>2.0</td>\n",
       "      <td>No</td>\n",
       "      <td>NaN</td>\n",
       "      <td>Self-contained</td>\n",
       "      <td>Mid-class area</td>\n",
       "      <td>12500</td>\n",
       "      <td>5937500</td>\n",
       "    </tr>\n",
       "  </tbody>\n",
       "</table>\n",
       "</div>"
      ],
      "text/plain": [
       "                      Timestamp  Age  Gender    Maximum Level of Education  \\\n",
       "21  2021/01/20 1:50:41 PM GMT+1   21    Male  Bachelor's Degree/Equivalent   \n",
       "83  2021/01/21 4:49:03 PM GMT+1   19  Female         High/Secondary School   \n",
       "\n",
       "    Country State/Province                 industrous level Currency  Salary  \\\n",
       "21  Nigeria          lagos  Most industrious in the country    naira  150000   \n",
       "83  Nigeria           oyo                   Non-Industrious  dollars     100   \n",
       "\n",
       "   Career Industry  Working experience pay Accomodation bills?  \\\n",
       "21      accounting                 1.0                     Yes   \n",
       "83             law                 2.0                      No   \n",
       "\n",
       "   fraction of rent paid Accommodation Rented Location of accommodation  \\\n",
       "21                   NaN       Self-contained            Mid-class area   \n",
       "83                   NaN       Self-contained            Mid-class area   \n",
       "\n",
       "    monthly rent  rent in Naira  \n",
       "21        700000         700000  \n",
       "83         12500        5937500  "
      ]
     },
     "execution_count": 376,
     "metadata": {},
     "output_type": "execute_result"
    }
   ],
   "source": [
    "df[df['rent in Naira'] > 300000]"
   ]
  },
  {
   "cell_type": "code",
   "execution_count": 136,
   "metadata": {},
   "outputs": [
    {
     "ename": "SyntaxError",
     "evalue": "invalid syntax (<ipython-input-136-4d5d9470150f>, line 1)",
     "output_type": "error",
     "traceback": [
      "\u001b[0;36m  File \u001b[0;32m\"<ipython-input-136-4d5d9470150f>\"\u001b[0;36m, line \u001b[0;32m1\u001b[0m\n\u001b[0;31m    [^a-zA-Z]\u001b[0m\n\u001b[0m     ^\u001b[0m\n\u001b[0;31mSyntaxError\u001b[0m\u001b[0;31m:\u001b[0m invalid syntax\n"
     ]
    }
   ],
   "source": [
    "[^a-zA-Z]"
   ]
  },
  {
   "cell_type": "code",
   "execution_count": null,
   "metadata": {},
   "outputs": [],
   "source": []
  }
 ],
 "metadata": {
  "kernelspec": {
   "display_name": "Python 3",
   "language": "python",
   "name": "python3"
  },
  "language_info": {
   "codemirror_mode": {
    "name": "ipython",
    "version": 3
   },
   "file_extension": ".py",
   "mimetype": "text/x-python",
   "name": "python",
   "nbconvert_exporter": "python",
   "pygments_lexer": "ipython3",
   "version": "3.8.3"
  }
 },
 "nbformat": 4,
 "nbformat_minor": 4
}
